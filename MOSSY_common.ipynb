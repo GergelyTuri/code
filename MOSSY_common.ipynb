{
 "cells": [
  {
   "cell_type": "markdown",
   "metadata": {},
   "source": [
    "## Creating experiment groups"
   ]
  },
  {
   "cell_type": "code",
   "execution_count": 44,
   "metadata": {},
   "outputs": [],
   "source": [
    "%matplotlib inline\n",
    "import matplotlib.pyplot as plt\n",
    "import pandas as pd\n",
    "import lab\n",
    "from lab.classes import database, ExperimentSet"
   ]
  },
  {
   "cell_type": "markdown",
   "metadata": {},
   "source": [
    "### loading HR experiment groups"
   ]
  },
  {
   "cell_type": "code",
   "execution_count": 8,
   "metadata": {},
   "outputs": [],
   "source": [
    "def loadHRExpGrp(expSet, mice, verbose=False, minLicks=5, minDuration=8, minLaps=0):\n",
    "    \"\"\"Loads hidden reward experiments and returns an experiment group dictionary\n",
    "\n",
    "    expSet -- ExperimentSet object\n",
    "    mice -- list of mice IDs, if one mouse then ([\"mouseID\"]) if more than (\"m1\", \"m1\")\n",
    "    \"\"\"\n",
    "    expGroups=dict();\n",
    "\n",
    "    expGroup=lab.classes.HiddenRewardExperimentGroup.fromMice([expSet.grabMouse(mouse) for mouse in mice], label=\"hidden_behavior\");\n",
    "    expGroup.removeMissingBehaviorData();\n",
    "    expGroup.removeMissingBehaviorData(key=\"treadmillPosition\", verbose=verbose);\n",
    "    expGroup.removeMissingBehaviorData(key=\"licking\", verbose=verbose);\n",
    "    expGroup.removeMissingBehaviorData(key=\"reward\", verbose=verbose);\n",
    "    expGroup.removeShortExperiments(remove_incomplete=True, laps=minLaps, verbose=verbose);\n",
    "    expGroups[\"behavior\"]=expGroup;\n",
    "\n",
    "#     expGroups[\"behavior\"].filterby(lambda df: ~df[\"condition\"].str.contains(\"B\"), [\"condition\"]);\n",
    "#     expGroups[\"behavior\"].filterby(lambda df: df[\"exposure\"]<3, [\"exposure\"]);\n",
    "\n",
    "    expGroups[\"imaging\"]=lab.ExperimentGroup(expGroups[\"behavior\"], label=\"hidden_imaging\");\n",
    "    expGroups[\"imaging\"].removeDatalessExperiments(channel=\"Ch2\", verbose=verbose);\n",
    "\n",
    "    return expGroups;"
   ]
  },
  {
   "cell_type": "code",
   "execution_count": 21,
   "metadata": {},
   "outputs": [],
   "source": [
    "mouse = loadHRExpGrp(expSet, ([\"gtm4_1\"]))"
   ]
  },
  {
   "cell_type": "code",
   "execution_count": 72,
   "metadata": {},
   "outputs": [],
   "source": [
    "for item in mouse[\"behavior\"]:\n",
    "    lick = item.keys"
   ]
  },
  {
   "cell_type": "code",
   "execution_count": 76,
   "metadata": {},
   "outputs": [
    {
     "name": "stdout",
     "output_type": "stream",
     "text": [
      "['trial_id', 'session', 'lap_tolerance', 'experimentType', 'laps', 'stopTime', 'uniqueLocationKey', 'belt', 'tSeriesDirectory', 'track_length', 'lap_reset_tag', 'position_scale', 'startTime', 'trial_length', 'sensors', 'day', 'condition', 'contexts', 'uses', 'controllers', 'sync_pin', 'imagingLayer', 'experimenter', 'reward', 'trial_attrs']\n"
     ]
    }
   ],
   "source": [
    "print(lick())"
   ]
  },
  {
   "cell_type": "code",
   "execution_count": 47,
   "metadata": {},
   "outputs": [
    {
     "data": {
      "text/html": [
       "<div>\n",
       "<style scoped>\n",
       "    .dataframe tbody tr th:only-of-type {\n",
       "        vertical-align: middle;\n",
       "    }\n",
       "\n",
       "    .dataframe tbody tr th {\n",
       "        vertical-align: top;\n",
       "    }\n",
       "\n",
       "    .dataframe thead th {\n",
       "        text-align: right;\n",
       "    }\n",
       "</style>\n",
       "<table border=\"1\" class=\"dataframe\">\n",
       "  <thead>\n",
       "    <tr style=\"text-align: right;\">\n",
       "      <th></th>\n",
       "      <th>0</th>\n",
       "      <th>1</th>\n",
       "      <th>2</th>\n",
       "      <th>3</th>\n",
       "      <th>4</th>\n",
       "      <th>5</th>\n",
       "      <th>6</th>\n",
       "      <th>7</th>\n",
       "      <th>8</th>\n",
       "      <th>9</th>\n",
       "      <th>...</th>\n",
       "      <th>90</th>\n",
       "      <th>91</th>\n",
       "      <th>92</th>\n",
       "      <th>93</th>\n",
       "      <th>94</th>\n",
       "      <th>95</th>\n",
       "      <th>96</th>\n",
       "      <th>97</th>\n",
       "      <th>98</th>\n",
       "      <th>99</th>\n",
       "    </tr>\n",
       "  </thead>\n",
       "  <tbody>\n",
       "    <tr>\n",
       "      <th>0</th>\n",
       "      <td>0.0</td>\n",
       "      <td>0.00</td>\n",
       "      <td>0.00</td>\n",
       "      <td>0.00</td>\n",
       "      <td>0.00</td>\n",
       "      <td>0.00</td>\n",
       "      <td>0.00</td>\n",
       "      <td>0.00</td>\n",
       "      <td>0.00</td>\n",
       "      <td>0.00</td>\n",
       "      <td>...</td>\n",
       "      <td>0.0</td>\n",
       "      <td>0.003096</td>\n",
       "      <td>0.00</td>\n",
       "      <td>0.009288</td>\n",
       "      <td>0.00</td>\n",
       "      <td>0.00</td>\n",
       "      <td>0.00</td>\n",
       "      <td>0.00</td>\n",
       "      <td>0.00</td>\n",
       "      <td>0.00</td>\n",
       "    </tr>\n",
       "    <tr>\n",
       "      <th>1</th>\n",
       "      <td>0.0</td>\n",
       "      <td>0.01</td>\n",
       "      <td>0.02</td>\n",
       "      <td>0.03</td>\n",
       "      <td>0.04</td>\n",
       "      <td>0.05</td>\n",
       "      <td>0.06</td>\n",
       "      <td>0.07</td>\n",
       "      <td>0.08</td>\n",
       "      <td>0.09</td>\n",
       "      <td>...</td>\n",
       "      <td>0.9</td>\n",
       "      <td>0.910000</td>\n",
       "      <td>0.92</td>\n",
       "      <td>0.930000</td>\n",
       "      <td>0.94</td>\n",
       "      <td>0.95</td>\n",
       "      <td>0.96</td>\n",
       "      <td>0.97</td>\n",
       "      <td>0.98</td>\n",
       "      <td>0.99</td>\n",
       "    </tr>\n",
       "  </tbody>\n",
       "</table>\n",
       "<p>2 rows × 100 columns</p>\n",
       "</div>"
      ],
      "text/plain": [
       "    0     1     2     3     4     5     6     7     8     9   ...   90  \\\n",
       "0  0.0  0.00  0.00  0.00  0.00  0.00  0.00  0.00  0.00  0.00  ...  0.0   \n",
       "1  0.0  0.01  0.02  0.03  0.04  0.05  0.06  0.07  0.08  0.09  ...  0.9   \n",
       "\n",
       "         91    92        93    94    95    96    97    98    99  \n",
       "0  0.003096  0.00  0.009288  0.00  0.00  0.00  0.00  0.00  0.00  \n",
       "1  0.910000  0.92  0.930000  0.94  0.95  0.96  0.97  0.98  0.99  \n",
       "\n",
       "[2 rows x 100 columns]"
      ]
     },
     "execution_count": 47,
     "metadata": {},
     "output_type": "execute_result"
    }
   ],
   "source": [
    "lickdf = pd.DataFrame(lick)\n",
    "lickdf"
   ]
  },
  {
   "cell_type": "markdown",
   "metadata": {},
   "source": [
    "### loading HR experiment groups and properties"
   ]
  },
  {
   "cell_type": "code",
   "execution_count": 15,
   "metadata": {},
   "outputs": [],
   "source": [
    "def loadHRExpsAndProps(expSet, mouseIDs, **kwargs):\n",
    "    expAdd=dict();\n",
    "    expAdd[\"mouseID\"]=[];\n",
    "    expAdd[\"expStartTime\"]=[];\n",
    "    expAdd[\"cds\"]=[];  #cds = condition-day-session\n",
    "    \n",
    "    expAdd[\"expt\"]=map(lambda mID, eST: expSet.grabExpt(mID, eST), expAdd[\"mouseID\"], expAdd[\"expStartTime\"]);\n",
    "    expAdd=pd.DataFrame(expAdd);\n",
    "    expAdd.drop([\"mouseID\", \"expStartTime\"], axis=1, inplace=True);\n",
    "    expAdd.rename(columns={\"cds\": \"condition_day_session\"}, inplace=True);\n",
    "    expAdd[\"condition_day\"]=map(lambda cds: cds[0:3], expAdd[\"condition_day_session\"]);\n",
    "    expAdd[\"condition\"]=map(lambda cds: cds[0], expAdd[\"condition_day_session\"]);\n",
    "\n",
    "    expGroups=loadHRExpGrp(expSet, mouseIDs, verbose=False, minLaps=3);\n",
    "\n",
    "    expProps=lab.ExperimentGroup.dataframe(expGroups[\"imaging\"],\n",
    "                                           include_columns=[\"condition\", \"condition_day\", \"condition_day_session\"]);\n",
    "\n",
    "    expProps.drop([\"mouse\", \"trial\", \"value\"], axis=1, inplace=True);\n",
    "    expProps=expProps.append(expAdd);\n",
    "    expProps.drop_duplicates(subset=[\"expt\"], keep=\"last\", inplace=True);\n",
    "\n",
    "    expGroups[\"imaging\"]=list(expGroups[\"imaging\"]);\n",
    "    expGroups[\"imaging\"].extend(list(expAdd[\"expt\"]));\n",
    "    expGroups[\"imaging\"]=lab.ExperimentGroup(expGroups[\"imaging\"], label=\"hidden_imaging\");\n",
    "    expGroups[\"imaging\"].removeMissingBehaviorData(key=\"treadmillPosition\");\n",
    "    expGroups[\"imaging\"].removeMissingBehaviorData(key=\"licking\");\n",
    "    expGroups[\"imaging\"].removeMissingBehaviorData(key=\"reward\");\n",
    "\n",
    "    return expProps #, expGroups   "
   ]
  },
  {
   "cell_type": "code",
   "execution_count": 6,
   "metadata": {},
   "outputs": [],
   "source": [
    "expSet = ExperimentSet(\"mossy.sql\")"
   ]
  },
  {
   "cell_type": "code",
   "execution_count": 20,
   "metadata": {},
   "outputs": [],
   "source": [
    "mossyMice = loadHRExpsAndProps(expSet, (\"gtm4_1\",\"gtm4_2\"))"
   ]
  },
  {
   "cell_type": "code",
   "execution_count": null,
   "metadata": {},
   "outputs": [],
   "source": [
    "mossyMice."
   ]
  }
 ],
 "metadata": {
  "kernelspec": {
   "display_name": "Python 2",
   "language": "python",
   "name": "python2"
  },
  "language_info": {
   "codemirror_mode": {
    "name": "ipython",
    "version": 2
   },
   "file_extension": ".py",
   "mimetype": "text/x-python",
   "name": "python",
   "nbconvert_exporter": "python",
   "pygments_lexer": "ipython2",
   "version": "2.7.15"
  }
 },
 "nbformat": 4,
 "nbformat_minor": 2
}
