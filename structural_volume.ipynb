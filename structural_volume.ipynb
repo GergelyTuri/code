{
 "cells": [
  {
   "cell_type": "code",
   "execution_count": 1,
   "metadata": {},
   "outputs": [],
   "source": [
    "%matplotlib inline"
   ]
  },
  {
   "cell_type": "code",
   "execution_count": 95,
   "metadata": {},
   "outputs": [],
   "source": [
    "import matplotlib.pyplot as plt\n",
    "import numpy as np\n",
    "import pandas as pd\n",
    "from scipy import stats"
   ]
  },
  {
   "cell_type": "code",
   "execution_count": 4,
   "metadata": {},
   "outputs": [],
   "source": [
    "volumeData = pd.read_csv('/data/gergely/Summaries/_structural/RK_spine_volume_DATA_UTF.csv')"
   ]
  },
  {
   "cell_type": "code",
   "execution_count": 5,
   "metadata": {},
   "outputs": [
    {
     "data": {
      "text/html": [
       "<div>\n",
       "<style scoped>\n",
       "    .dataframe tbody tr th:only-of-type {\n",
       "        vertical-align: middle;\n",
       "    }\n",
       "\n",
       "    .dataframe tbody tr th {\n",
       "        vertical-align: top;\n",
       "    }\n",
       "\n",
       "    .dataframe thead th {\n",
       "        text-align: right;\n",
       "    }\n",
       "</style>\n",
       "<table border=\"1\" class=\"dataframe\">\n",
       "  <thead>\n",
       "    <tr style=\"text-align: right;\">\n",
       "      <th></th>\n",
       "      <th>gts5_6</th>\n",
       "      <th>gts5_5</th>\n",
       "      <th>gts5_1</th>\n",
       "    </tr>\n",
       "  </thead>\n",
       "  <tbody>\n",
       "    <tr>\n",
       "      <th>0</th>\n",
       "      <td>0.01</td>\n",
       "      <td>0.92</td>\n",
       "      <td>1.13</td>\n",
       "    </tr>\n",
       "    <tr>\n",
       "      <th>1</th>\n",
       "      <td>0.01</td>\n",
       "      <td>0.74</td>\n",
       "      <td>0.85</td>\n",
       "    </tr>\n",
       "    <tr>\n",
       "      <th>2</th>\n",
       "      <td>0.01</td>\n",
       "      <td>0.68</td>\n",
       "      <td>0.82</td>\n",
       "    </tr>\n",
       "    <tr>\n",
       "      <th>3</th>\n",
       "      <td>0.01</td>\n",
       "      <td>0.62</td>\n",
       "      <td>0.73</td>\n",
       "    </tr>\n",
       "    <tr>\n",
       "      <th>4</th>\n",
       "      <td>0.01</td>\n",
       "      <td>0.61</td>\n",
       "      <td>0.70</td>\n",
       "    </tr>\n",
       "  </tbody>\n",
       "</table>\n",
       "</div>"
      ],
      "text/plain": [
       "   gts5_6  gts5_5  gts5_1\n",
       "0    0.01    0.92    1.13\n",
       "1    0.01    0.74    0.85\n",
       "2    0.01    0.68    0.82\n",
       "3    0.01    0.62    0.73\n",
       "4    0.01    0.61    0.70"
      ]
     },
     "execution_count": 5,
     "metadata": {},
     "output_type": "execute_result"
    }
   ],
   "source": [
    "volumeData.head()"
   ]
  },
  {
   "cell_type": "code",
   "execution_count": 15,
   "metadata": {},
   "outputs": [
    {
     "data": {
      "image/png": "[encoded data removed]",
      "text/plain": [
       "<Figure size 432x288 with 1 Axes>"
      ]
     },
     "metadata": {},
     "output_type": "display_data"
    }
   ],
   "source": [
    "gts5_6 = pd.Series(volumeData['gts5_6']).dropna()\n",
    "ax1 = gts5_6.plot(kind='hist')\n",
    "# gts5_6.dropna()\n",
    "# gts5_6.describe()"
   ]
  },
  {
   "cell_type": "code",
   "execution_count": 16,
   "metadata": {},
   "outputs": [
    {
     "data": {
      "image/png": "[encoded data removed]",
      "text/plain": [
       "<Figure size 432x288 with 1 Axes>"
      ]
     },
     "metadata": {},
     "output_type": "display_data"
    }
   ],
   "source": [
    "gts5_5 = pd.Series(volumeData['gts5_5']).dropna()\n",
    "ax2 = gts5_5.plot(kind='hist')"
   ]
  },
  {
   "cell_type": "code",
   "execution_count": 17,
   "metadata": {},
   "outputs": [
    {
     "data": {
      "image/png": "[encoded data removed]",
      "text/plain": [
       "<Figure size 432x288 with 1 Axes>"
      ]
     },
     "metadata": {},
     "output_type": "display_data"
    }
   ],
   "source": [
    "gts5_1 = pd.Series(volumeData['gts5_1']).dropna()\n",
    "ax3 = gts5_1.plot(kind='hist')"
   ]
  },
  {
   "cell_type": "code",
   "execution_count": 66,
   "metadata": {},
   "outputs": [
    {
     "data": {
      "text/plain": [
       "<matplotlib.axes._subplots.AxesSubplot at 0x7fbe56fab590>"
      ]
     },
     "execution_count": 66,
     "metadata": {},
     "output_type": "execute_result"
    },
    {
     "data": {
      "image/png": "[encoded data removed]",
      "text/plain": [
       "<Figure size 432x288 with 3 Axes>"
      ]
     },
     "metadata": {},
     "output_type": "display_data"
    }
   ],
   "source": [
    "fig, (ax1, ax2, ax3) = plt.subplots(1,3)\n",
    "gts5_6.plot(kind='hist', ax=ax1)\n",
    "gts5_1.plot(kind='hist', ax=ax2, color='r', alpha=0.6)\n",
    "gts5_5.plot(kind='hist', ax=ax3, color='r', alpha=0.6)\n",
    "\n",
    "# for ax in fig.get_axes():\n",
    "#     ax.label_outer()"
   ]
  },
  {
   "cell_type": "code",
   "execution_count": 67,
   "metadata": {},
   "outputs": [
    {
     "data": {
      "text/plain": [
       "array([[<matplotlib.axes._subplots.AxesSubplot object at 0x7fbe5715e490>,\n",
       "        <matplotlib.axes._subplots.AxesSubplot object at 0x7fbe56e594d0>,\n",
       "        <matplotlib.axes._subplots.AxesSubplot object at 0x7fbe56e12350>]],\n",
       "      dtype=object)"
      ]
     },
     "execution_count": 67,
     "metadata": {},
     "output_type": "execute_result"
    },
    {
     "data": {
      "image/png": "[encoded data removed]",
      "text/plain": [
       "<Figure size 432x288 with 3 Axes>"
      ]
     },
     "metadata": {},
     "output_type": "display_data"
    }
   ],
   "source": [
    "volumeData.plot(kind='hist', layout=(1,3), subplots=True, sharey=True)"
   ]
  },
  {
   "cell_type": "code",
   "execution_count": 63,
   "metadata": {},
   "outputs": [],
   "source": [
    "volumeMerged = pd.read_csv('/data/gergely/Summaries/_structural/RK_spine_volume_DATA_estimationStat.csv')"
   ]
  },
  {
   "cell_type": "code",
   "execution_count": 64,
   "metadata": {},
   "outputs": [
    {
     "data": {
      "text/plain": [
       "array([[<matplotlib.axes._subplots.AxesSubplot object at 0x7fbe5716bd90>,\n",
       "        <matplotlib.axes._subplots.AxesSubplot object at 0x7fbe570c6610>]],\n",
       "      dtype=object)"
      ]
     },
     "execution_count": 64,
     "metadata": {},
     "output_type": "execute_result"
    },
    {
     "data": {
      "image/png": "[encoded data removed]",
      "text/plain": [
       "<Figure size 432x288 with 2 Axes>"
      ]
     },
     "metadata": {},
     "output_type": "display_data"
    }
   ],
   "source": [
    "volumeMerged.plot(kind='hist', layout=(1,2), subplots=True, sharey=True,\n",
    "                )"
   ]
  },
  {
   "cell_type": "code",
   "execution_count": 84,
   "metadata": {},
   "outputs": [
    {
     "data": {
      "text/plain": [
       "Text(0,0.5,'Likelihood of occurrence')"
      ]
     },
     "execution_count": 84,
     "metadata": {},
     "output_type": "execute_result"
    },
    {
     "data": {
      "image/png": "[encoded data removed]",
      "text/plain": [
       "<Figure size 432x288 with 3 Axes>"
      ]
     },
     "metadata": {},
     "output_type": "display_data"
    }
   ],
   "source": [
    "n_bins = 10\n",
    "x = pd.Series(volumeData['gts5_6']).dropna()\n",
    "y = pd.Series(volumeData['gts5_5']).dropna()\n",
    "z = pd.Series(volumeData['gts5_1']).dropna()\n",
    "fig, (ax1, ax2, ax3) = plt.subplots(1,3)\n",
    "# fig, ax = plt.subplots(figsize=(8, 4))\n",
    "n, bins, patches = ax1.hist(x, n_bins, density=True, histtype='step',\n",
    "                           cumulative=True, label='ctrl', color='r')\n",
    "n, bins, patches = ax2.hist(y, n_bins, density=True, histtype='step',\n",
    "                           cumulative=True, label='cort')\n",
    "n, bins, patches = ax3.hist(z, n_bins, density=True, histtype='step',\n",
    "                           cumulative=True, label='cort')\n",
    "\n",
    "ax1.grid(True)\n",
    "ax1.legend(loc='right')\n",
    "ax1.set_title('Cumulative step histograms')\n",
    "ax1.set_xlabel('Annual rainfall (mm)')\n",
    "ax1.set_ylabel('Likelihood of occurrence')\n",
    "\n",
    "ax2.grid(True)\n",
    "ax2.legend(loc='right')\n",
    "ax2.set_title('Cumulative step histograms')\n",
    "ax2.set_xlabel('Annual rainfall (mm)')\n",
    "ax2.set_ylabel('Likelihood of occurrence')\n",
    "\n",
    "ax3.grid(True)\n",
    "ax3.legend(loc='right')\n",
    "ax3.set_title('Cumulative step histograms')\n",
    "ax3.set_xlabel('Annual rainfall (mm)')\n",
    "ax3.set_ylabel('Likelihood of occurrence')\n"
   ]
  },
  {
   "cell_type": "code",
   "execution_count": 73,
   "metadata": {},
   "outputs": [
    {
     "data": {
      "image/png": "[encoded data removed]",
      "text/plain": [
       "<Figure size 576x288 with 1 Axes>"
      ]
     },
     "metadata": {},
     "output_type": "display_data"
    }
   ],
   "source": [
    "n_bins = 10\n",
    "y = pd.Series(volumeData['gts5_5']).dropna()\n",
    "fig, ax = plt.subplots(figsize=(8, 4))\n",
    "n, bins, patches = ax.hist(y, n_bins, density=True, histtype='step',\n",
    "                           cumulative=True, label='Empirical')"
   ]
  },
  {
   "cell_type": "code",
   "execution_count": 74,
   "metadata": {},
   "outputs": [
    {
     "data": {
      "image/png": "[encoded data removed]",
      "text/plain": [
       "<Figure size 576x288 with 1 Axes>"
      ]
     },
     "metadata": {},
     "output_type": "display_data"
    }
   ],
   "source": [
    "n_bins = 10\n",
    "z = pd.Series(volumeData['gts5_1']).dropna()\n",
    "fig, ax = plt.subplots(figsize=(8, 4))\n",
    "n, bins, patches = ax.hist(z, n_bins, density=True, histtype='step',\n",
    "                           cumulative=True, label='Empirical')"
   ]
  },
  {
   "cell_type": "code",
   "execution_count": 94,
   "metadata": {},
   "outputs": [
    {
     "data": {
      "text/plain": [
       "Text(0.5,1,'Cumulative step histograms')"
      ]
     },
     "execution_count": 94,
     "metadata": {},
     "output_type": "execute_result"
    },
    {
     "data": {
      "image/png": "[encoded data removed]",
      "text/plain": [
       "<Figure size 576x288 with 1 Axes>"
      ]
     },
     "metadata": {},
     "output_type": "display_data"
    }
   ],
   "source": [
    "n_bins = 10\n",
    "x = pd.Series(volumeData['gts5_6']).dropna()\n",
    "y = pd.Series(volumeData['gts5_5']).dropna()\n",
    "z = pd.Series(volumeData['gts5_1']).dropna()\n",
    "fig, ax = plt.subplots(figsize=(8,4))\n",
    "\n",
    "n, bins, patches = ax.hist(x, n_bins, density=True, histtype='step',\n",
    "                           cumulative=True, label='ctrl', color='r')\n",
    "n, bins, patches = ax.hist(y, n_bins, density=True, histtype='step',\n",
    "                           cumulative=True, label='cort', color='b')\n",
    "n, bins, patches = ax.hist(z, n_bins, density=True, histtype='step',\n",
    "                           cumulative=True, label='cort', color='b')\n",
    "\n",
    "ax.grid(True)\n",
    "ax.legend(loc='right')\n",
    "ax.set_title('Cumulative step histograms')\n",
    "# ax.set_xlabel('Annual rainfall (mm)')\n",
    "# ax.set_ylabel('Likelihood of occurrence')"
   ]
  },
  {
   "cell_type": "code",
   "execution_count": 88,
   "metadata": {},
   "outputs": [
    {
     "data": {
      "text/plain": [
       "array([0.01 , 0.062, 0.114, 0.166, 0.218, 0.27 , 0.322, 0.374, 0.426,\n",
       "       0.478, 0.53 ])"
      ]
     },
     "execution_count": 88,
     "metadata": {},
     "output_type": "execute_result"
    }
   ],
   "source": [
    "bins"
   ]
  },
  {
   "cell_type": "code",
   "execution_count": null,
   "metadata": {},
   "outputs": [],
   "source": [
    "stats.kstest()"
   ]
  }
 ],
 "metadata": {
  "kernelspec": {
   "display_name": "Python 2",
   "language": "python",
   "name": "python2"
  },
  "language_info": {
   "codemirror_mode": {
    "name": "ipython",
    "version": 2
   },
   "file_extension": ".py",
   "mimetype": "text/x-python",
   "name": "python",
   "nbconvert_exporter": "python",
   "pygments_lexer": "ipython2",
   "version": "2.7.15"
  }
 },
 "nbformat": 4,
 "nbformat_minor": 2
}
