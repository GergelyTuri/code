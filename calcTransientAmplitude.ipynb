{
 "cells": [
  {
   "cell_type": "markdown",
   "metadata": {},
   "source": [
    "#### calculating and plotting transients __this was cleaned up an moved to the /code/analysis/analysis-scripts repo__"
   ]
  },
  {
   "cell_type": "code",
   "execution_count": 131,
   "metadata": {},
   "outputs": [],
   "source": [
    "%matplotlib inline\n",
    "import os"
   ]
  },
  {
   "cell_type": "code",
   "execution_count": 132,
   "metadata": {},
   "outputs": [],
   "source": [
    "os.chdir('/home/gergely/code/analysis/analysis-scripts/')"
   ]
  },
  {
   "cell_type": "code",
   "execution_count": 133,
   "metadata": {},
   "outputs": [],
   "source": [
    "import matplotlib as mpl\n",
    "import matplotlib.pyplot as plt\n",
    "import numpy as np \n",
    "import pandas as pd\n",
    "import lab.analysis as la\n",
    "from lab.analysis import calc_activity as ca\n",
    "from lab.analysis import imaging_analysis as ia\n",
    "import lab\n",
    "import VIP_common as vc\n",
    "# T statistics\n",
    "from scipy.stats import ttest_ind, mannwhitneyu\n",
    "import seaborn as sns\n",
    "# sns.set()\n",
    "mpl.rcParams['pdf.fonttype'] = 42;\n",
    "mpl.rcParams['ps.fonttype'] = 42;"
   ]
  },
  {
   "cell_type": "code",
   "execution_count": 134,
   "metadata": {},
   "outputs": [],
   "source": [
    "expSet = lab.ExperimentSet('raphe.sql')\n",
    "# gtr5_1 is omitted since the recorded channel was Ch1 not 2\n",
    "mouseIDs = ['gtr6_a1', 'gtr6_a3', 'gtr6_a4', 'gtr6_a5',\n",
    "            'gtr6_b1', 'gtr6_b1', 'gtr6_b2', 'gtr6_b3']"
   ]
  },
  {
   "cell_type": "code",
   "execution_count": 135,
   "metadata": {},
   "outputs": [],
   "source": [
    "rfExpGroups=vc.loadExptsByType(expSet, mouseIDs, \"randomForaging\", channel=\"Ch2\");\n",
    "hrExpGroups=vc.loadHRExpGrp(expSet, mouseIDs, minLicks=10)\n",
    "orfExpGroups=vc.loadExptsByType(expSet, mouseIDs, \"operantRandomForaging\")\n",
    "imExpList=list(rfExpGroups[\"imaging\"])\n",
    "imExpList.extend(list(hrExpGroups[\"imaging\"]));\n",
    "imExpList.extend(list(orfExpGroups[\"imaging\"]));\n",
    "imExpGroup=lab.ExperimentGroup(imExpList)"
   ]
  },
  {
   "cell_type": "code",
   "execution_count": 136,
   "metadata": {},
   "outputs": [
    {
     "data": {
      "text/plain": [
       "85"
      ]
     },
     "execution_count": 136,
     "metadata": {},
     "output_type": "execute_result"
    }
   ],
   "source": [
    "len(imExpGroup)"
   ]
  },
  {
   "cell_type": "code",
   "execution_count": 235,
   "metadata": {},
   "outputs": [
    {
     "name": "stdout",
     "output_type": "stream",
     "text": [
      "<Mouse: gtr6_a1, genotype=, nExpts=9>\n",
      "<Mouse: gtr6_a5, genotype=, nExpts=33>\n",
      "<Mouse: gtr6_b2, genotype=, nExpts=15>\n",
      "<Mouse: gtr6_a3, genotype=, nExpts=21>\n",
      "<Mouse: gtr6_a4, genotype=, nExpts=15>\n",
      "<Mouse: gtr6_b1, genotype=, nExpts=17>\n",
      "<Mouse: gtr6_b3, genotype=, nExpts=26>\n"
     ]
    }
   ],
   "source": [
    "mousedict = imExpGroup.dictByMouse(imExpList)\n",
    "for keys in mousedict.viewkeys():\n",
    "    print(keys)"
   ]
  },
  {
   "cell_type": "code",
   "execution_count": 221,
   "metadata": {},
   "outputs": [
    {
     "ename": "KeyError",
     "evalue": "'<Mouse: gtr6_a1, genotype=, nExpts=9>'",
     "output_type": "error",
     "traceback": [
      "\u001b[0;31m---------------------------------------------------------------------------\u001b[0m",
      "\u001b[0;31mKeyError\u001b[0m                                  Traceback (most recent call last)",
      "\u001b[0;32m<ipython-input-221-6b6cc43423b0>\u001b[0m in \u001b[0;36m<module>\u001b[0;34m()\u001b[0m\n\u001b[0;32m----> 1\u001b[0;31m \u001b[0mmousedict\u001b[0m\u001b[0;34m[\u001b[0m\u001b[0;34m'<Mouse: gtr6_a1, genotype=, nExpts=9>'\u001b[0m\u001b[0;34m]\u001b[0m\u001b[0;34m\u001b[0m\u001b[0m\n\u001b[0m",
      "\u001b[0;31mKeyError\u001b[0m: '<Mouse: gtr6_a1, genotype=, nExpts=9>'"
     ]
    }
   ],
   "source": [
    "mousedict['<Mouse: gtr6_a1, genotype=, nExpts=9>']"
   ]
  },
  {
   "cell_type": "code",
   "execution_count": 233,
   "metadata": {},
   "outputs": [],
   "source": [
    "mice = mousedict.keys()"
   ]
  },
  {
   "cell_type": "code",
   "execution_count": 234,
   "metadata": {},
   "outputs": [
    {
     "ename": "AttributeError",
     "evalue": "'list' object has no attribute 'keys'",
     "output_type": "error",
     "traceback": [
      "\u001b[0;31m---------------------------------------------------------------------------\u001b[0m",
      "\u001b[0;31mAttributeError\u001b[0m                            Traceback (most recent call last)",
      "\u001b[0;32m<ipython-input-234-cf2e09285777>\u001b[0m in \u001b[0;36m<module>\u001b[0;34m()\u001b[0m\n\u001b[0;32m----> 1\u001b[0;31m \u001b[0mmousedict\u001b[0m\u001b[0;34m[\u001b[0m\u001b[0mmice\u001b[0m\u001b[0;34m[\u001b[0m\u001b[0;36m0\u001b[0m\u001b[0;34m]\u001b[0m\u001b[0;34m]\u001b[0m\u001b[0;34m.\u001b[0m\u001b[0mkeys\u001b[0m\u001b[0;34m(\u001b[0m\u001b[0;34m)\u001b[0m\u001b[0;34m\u001b[0m\u001b[0m\n\u001b[0m",
      "\u001b[0;31mAttributeError\u001b[0m: 'list' object has no attribute 'keys'"
     ]
    }
   ],
   "source": [
    "mousedict[mice[0]].keys()"
   ]
  },
  {
   "cell_type": "code",
   "execution_count": 210,
   "metadata": {},
   "outputs": [
    {
     "name": "stdout",
     "output_type": "stream",
     "text": [
      "['trial_id', 'session', 'lap_tolerance', 'experimentType', 'patch_threshold', 'laps', 'stopTime', 'uniqueLocationKey', 'belt', 'tSeriesDirectory', 'track_length', 'lap_reset_tag', 'position_scale', 'startTime', 'trial_length', 'sensors', 'day', 'condition', 'contexts', 'uses', 'controllers', 'sync_pin', 'imagingLayer', 'experimenter', 'reward', 'trial_attrs']\n",
      "['trial_id', 'session', 'lap_tolerance', 'experimentType', 'patch_threshold', 'laps', 'stopTime', 'uniqueLocationKey', 'belt', 'tSeriesDirectory', 'track_length', 'lap_reset_tag', 'position_scale', 'startTime', 'trial_length', 'sensors', 'day', 'condition', 'contexts', 'uses', 'controllers', 'sync_pin', 'imagingLayer', 'experimenter', 'reward', 'trial_attrs']\n",
      "['trial_id', 'session', 'lap_tolerance', 'experimentType', 'laps', 'comments', 'stopTime', 'uniqueLocationKey', 'belt', 'tSeriesDirectory', 'track_length', 'lap_reset_tag', 'position_scale', 'startTime', 'trial_length', 'sensors', 'day', 'condition', 'contexts', 'uses', 'controllers', 'sync_pin', 'imagingLayer', 'experimenter', 'reward', 'trial_attrs']\n",
      "['trial_id', 'session', 'lap_tolerance', 'experimentType', 'patch_threshold', 'laps', 'stopTime', 'uniqueLocationKey', 'belt', 'tSeriesDirectory', 'track_length', 'lap_reset_tag', 'position_scale', 'startTime', 'trial_length', 'sensors', 'day', 'condition', 'contexts', 'uses', 'controllers', 'sync_pin', 'imagingLayer', 'experimenter', 'reward', 'trial_attrs']\n",
      "['comment', 'trial_id', 'session', 'lap_tolerance', 'experimentType', 'laps', 'stopTime', 'uniqueLocationKey', 'belt', 'tSeriesDirectory', 'track_length', 'lap_reset_tag', 'position_scale', 'startTime', 'trial_length', 'sensors', 'day', 'condition', 'contexts', 'uses', 'controllers', 'sync_pin', 'imagingLayer', 'experimenter', 'reward', 'trial_attrs']\n",
      "['comment', 'trial_id', 'session', 'lap_tolerance', 'experimentType', 'laps', 'stopTime', 'uniqueLocationKey', 'belt', 'tSeriesDirectory', 'track_length', 'lap_reset_tag', 'position_scale', 'startTime', 'trial_length', 'sensors', 'day', 'condition', 'contexts', 'uses', 'controllers', 'sync_pin', 'imagingLayer', 'experimenter', 'reward', 'trial_attrs']\n",
      "['comment', 'trial_id', 'session', 'lap_tolerance', 'experimentType', 'laps', 'stopTime', 'uniqueLocationKey', 'belt', 'tSeriesDirectory', 'track_length', 'lap_reset_tag', 'position_scale', 'startTime', 'trial_length', 'sensors', 'day', 'condition', 'contexts', 'uses', 'controllers', 'sync_pin', 'imagingLayer', 'experimenter', 'reward', 'trial_attrs']\n",
      "['comment', 'trial_id', 'session', 'lap_tolerance', 'experimentType', 'laps', 'stopTime', 'uniqueLocationKey', 'belt', 'tSeriesDirectory', 'track_length', 'lap_reset_tag', 'position_scale', 'startTime', 'trial_length', 'sensors', 'day', 'condition', 'contexts', 'uses', 'controllers', 'sync_pin', 'imagingLayer', 'experimenter', 'reward', 'trial_attrs']\n",
      "['comment', 'trial_id', 'session', 'lap_tolerance', 'experimentType', 'laps', 'stopTime', 'uniqueLocationKey', 'belt', 'tSeriesDirectory', 'track_length', 'lap_reset_tag', 'position_scale', 'startTime', 'trial_length', 'sensors', 'day', 'condition', 'contexts', 'uses', 'controllers', 'sync_pin', 'imagingLayer', 'experimenter', 'reward', 'trial_attrs']\n",
      "['comment', 'trial_id', 'session', 'lap_tolerance', 'experimentType', 'laps', 'stopTime', 'uniqueLocationKey', 'belt', 'tSeriesDirectory', 'track_length', 'lap_reset_tag', 'position_scale', 'startTime', 'trial_length', 'sensors', 'day', 'condition', 'contexts', 'uses', 'controllers', 'sync_pin', 'imagingLayer', 'experimenter', 'reward', 'trial_attrs']\n",
      "['comment', 'trial_id', 'session', 'lap_tolerance', 'experimentType', 'laps', 'stopTime', 'uniqueLocationKey', 'belt', 'tSeriesDirectory', 'track_length', 'lap_reset_tag', 'position_scale', 'startTime', 'trial_length', 'sensors', 'day', 'condition', 'contexts', 'uses', 'controllers', 'sync_pin', 'imagingLayer', 'experimenter', 'reward', 'trial_attrs']\n",
      "['comment', 'trial_id', 'session', 'lap_tolerance', 'experimentType', 'laps', 'stopTime', 'uniqueLocationKey', 'belt', 'tSeriesDirectory', 'track_length', 'lap_reset_tag', 'position_scale', 'startTime', 'trial_length', 'sensors', 'day', 'condition', 'contexts', 'uses', 'controllers', 'sync_pin', 'imagingLayer', 'experimenter', 'reward', 'trial_attrs']\n",
      "['comment', 'trial_id', 'session', 'lap_tolerance', 'experimentType', 'laps', 'stopTime', 'uniqueLocationKey', 'belt', 'tSeriesDirectory', 'track_length', 'lap_reset_tag', 'position_scale', 'startTime', 'trial_length', 'sensors', 'day', 'condition', 'contexts', 'uses', 'controllers', 'sync_pin', 'imagingLayer', 'experimenter', 'reward', 'trial_attrs']\n",
      "['comment', 'trial_id', 'session', 'lap_tolerance', 'experimentType', 'laps', 'stopTime', 'uniqueLocationKey', 'belt', 'tSeriesDirectory', 'track_length', 'lap_reset_tag', 'position_scale', 'startTime', 'trial_length', 'sensors', 'day', 'condition', 'contexts', 'uses', 'controllers', 'sync_pin', 'imagingLayer', 'experimenter', 'reward', 'trial_attrs']\n",
      "['comment', 'trial_id', 'session', 'lap_tolerance', 'experimentType', 'laps', 'stopTime', 'uniqueLocationKey', 'belt', 'tSeriesDirectory', 'track_length', 'lap_reset_tag', 'position_scale', 'startTime', 'trial_length', 'sensors', 'day', 'condition', 'contexts', 'uses', 'controllers', 'sync_pin', 'imagingLayer', 'experimenter', 'reward', 'trial_attrs']\n",
      "['comment', 'trial_id', 'session', 'lap_tolerance', 'experimentType', 'laps', 'stopTime', 'uniqueLocationKey', 'belt', 'tSeriesDirectory', 'track_length', 'lap_reset_tag', 'position_scale', 'startTime', 'trial_length', 'sensors', 'day', 'condition', 'contexts', 'uses', 'controllers', 'sync_pin', 'imagingLayer', 'experimenter', 'reward', 'trial_attrs']\n",
      "['comment', 'trial_id', 'session', 'lap_tolerance', 'experimentType', 'laps', 'stopTime', 'uniqueLocationKey', 'belt', 'tSeriesDirectory', 'track_length', 'lap_reset_tag', 'position_scale', 'startTime', 'trial_length', 'sensors', 'day', 'condition', 'contexts', 'uses', 'controllers', 'sync_pin', 'imagingLayer', 'experimenter', 'reward', 'trial_attrs']\n",
      "['comment', 'trial_id', 'session', 'lap_tolerance', 'experimentType', 'laps', 'stopTime', 'uniqueLocationKey', 'belt', 'tSeriesDirectory', 'track_length', 'lap_reset_tag', 'position_scale', 'startTime', 'trial_length', 'sensors', 'day', 'condition', 'contexts', 'uses', 'controllers', 'sync_pin', 'imagingLayer', 'experimenter', 'reward', 'trial_attrs']\n",
      "['comment', 'trial_id', 'session', 'lap_tolerance', 'experimentType', 'laps', 'stopTime', 'uniqueLocationKey', 'belt', 'tSeriesDirectory', 'track_length', 'lap_reset_tag', 'position_scale', 'startTime', 'trial_length', 'sensors', 'day', 'condition', 'contexts', 'uses', 'controllers', 'sync_pin', 'imagingLayer', 'experimenter', 'reward', 'trial_attrs']\n",
      "['comment', 'trial_id', 'session', 'lap_tolerance', 'experimentType', 'laps', 'stopTime', 'uniqueLocationKey', 'belt', 'tSeriesDirectory', 'track_length', 'lap_reset_tag', 'position_scale', 'startTime', 'trial_length', 'sensors', 'day', 'condition', 'contexts', 'uses', 'controllers', 'sync_pin', 'imagingLayer', 'experimenter', 'reward', 'trial_attrs']\n",
      "['comment', 'trial_id', 'session', 'lap_tolerance', 'experimentType', 'laps', 'stopTime', 'uniqueLocationKey', 'belt', 'tSeriesDirectory', 'track_length', 'lap_reset_tag', 'position_scale', 'startTime', 'trial_length', 'sensors', 'day', 'condition', 'contexts', 'uses', 'controllers', 'sync_pin', 'imagingLayer', 'experimenter', 'reward', 'trial_attrs']\n",
      "['comment', 'trial_id', 'session', 'lap_tolerance', 'experimentType', 'laps', 'stopTime', 'uniqueLocationKey', 'belt', 'tSeriesDirectory', 'track_length', 'lap_reset_tag', 'position_scale', 'startTime', 'trial_length', 'sensors', 'day', 'condition', 'contexts', 'uses', 'controllers', 'sync_pin', 'imagingLayer', 'experimenter', 'reward', 'trial_attrs']\n",
      "['comment', 'trial_id', 'session', 'lap_tolerance', 'experimentType', 'laps', 'stopTime', 'uniqueLocationKey', 'belt', 'tSeriesDirectory', 'track_length', 'lap_reset_tag', 'position_scale', 'startTime', 'trial_length', 'sensors', 'day', 'condition', 'contexts', 'uses', 'controllers', 'sync_pin', 'imagingLayer', 'experimenter', 'reward', 'trial_attrs']\n",
      "['comment', 'trial_id', 'session', 'lap_tolerance', 'experimentType', 'laps', 'stopTime', 'uniqueLocationKey', 'belt', 'tSeriesDirectory', 'track_length', 'lap_reset_tag', 'position_scale', 'startTime', 'trial_length', 'sensors', 'day', 'condition', 'contexts', 'uses', 'controllers', 'sync_pin', 'imagingLayer', 'experimenter', 'reward', 'trial_attrs']\n",
      "['comment', 'trial_id', 'session', 'lap_tolerance', 'experimentType', 'laps', 'stopTime', 'uniqueLocationKey', 'belt', 'tSeriesDirectory', 'track_length', 'lap_reset_tag', 'position_scale', 'startTime', 'trial_length', 'sensors', 'day', 'condition', 'contexts', 'uses', 'controllers', 'sync_pin', 'imagingLayer', 'experimenter', 'reward', 'trial_attrs']\n",
      "['comment', 'trial_id', 'session', 'lap_tolerance', 'experimentType', 'laps', 'stopTime', 'uniqueLocationKey', 'belt', 'tSeriesDirectory', 'track_length', 'lap_reset_tag', 'position_scale', 'startTime', 'trial_length', 'sensors', 'day', 'condition', 'contexts', 'uses', 'controllers', 'sync_pin', 'imagingLayer', 'experimenter', 'reward', 'trial_attrs']\n",
      "['comment', 'trial_id', 'session', 'lap_tolerance', 'experimentType', 'laps', 'stopTime', 'uniqueLocationKey', 'belt', 'tSeriesDirectory', 'track_length', 'lap_reset_tag', 'position_scale', 'startTime', 'trial_length', 'sensors', 'day', 'condition', 'contexts', 'uses', 'controllers', 'sync_pin', 'imagingLayer', 'experimenter', 'reward', 'trial_attrs']\n",
      "['comment', 'trial_id', 'session', 'lap_tolerance', 'experimentType', 'laps', 'stopTime', 'uniqueLocationKey', 'belt', 'tSeriesDirectory', 'track_length', 'lap_reset_tag', 'position_scale', 'startTime', 'trial_length', 'sensors', 'day', 'condition', 'contexts', 'uses', 'controllers', 'sync_pin', 'imagingLayer', 'experimenter', 'reward', 'trial_attrs']\n",
      "['comment', 'trial_id', 'session', 'lap_tolerance', 'experimentType', 'laps', 'stopTime', 'uniqueLocationKey', 'belt', 'tSeriesDirectory', 'track_length', 'lap_reset_tag', 'position_scale', 'startTime', 'trial_length', 'sensors', 'day', 'condition', 'contexts', 'uses', 'controllers', 'sync_pin', 'imagingLayer', 'experimenter', 'reward', 'trial_attrs']\n",
      "['comment', 'trial_id', 'session', 'lap_tolerance', 'experimentType', 'laps', 'stopTime', 'uniqueLocationKey', 'belt', 'tSeriesDirectory', 'track_length', 'lap_reset_tag', 'position_scale', 'startTime', 'trial_length', 'sensors', 'day', 'condition', 'contexts', 'uses', 'controllers', 'sync_pin', 'imagingLayer', 'experimenter', 'reward', 'trial_attrs']\n",
      "['comment', 'trial_id', 'session', 'lap_tolerance', 'experimentType', 'laps', 'stopTime', 'uniqueLocationKey', 'belt', 'tSeriesDirectory', 'track_length', 'lap_reset_tag', 'position_scale', 'startTime', 'trial_length', 'sensors', 'day', 'condition', 'contexts', 'uses', 'controllers', 'sync_pin', 'imagingLayer', 'experimenter', 'reward', 'trial_attrs']\n",
      "['comment', 'trial_id', 'session', 'lap_tolerance', 'experimentType', 'laps', 'stopTime', 'uniqueLocationKey', 'belt', 'tSeriesDirectory', 'track_length', 'lap_reset_tag', 'position_scale', 'startTime', 'trial_length', 'sensors', 'day', 'condition', 'contexts', 'uses', 'controllers', 'sync_pin', 'imagingLayer', 'experimenter', 'reward', 'trial_attrs']\n",
      "['comment', 'trial_id', 'session', 'lap_tolerance', 'experimentType', 'laps', 'stopTime', 'uniqueLocationKey', 'belt', 'tSeriesDirectory', 'track_length', 'lap_reset_tag', 'position_scale', 'startTime', 'trial_length', 'sensors', 'day', 'condition', 'contexts', 'uses', 'controllers', 'sync_pin', 'imagingLayer', 'experimenter', 'reward', 'trial_attrs']\n",
      "['comment', 'trial_id', 'session', 'lap_tolerance', 'experimentType', 'laps', 'stopTime', 'uniqueLocationKey', 'belt', 'tSeriesDirectory', 'track_length', 'lap_reset_tag', 'position_scale', 'startTime', 'trial_length', 'sensors', 'day', 'condition', 'contexts', 'uses', 'controllers', 'sync_pin', 'imagingLayer', 'experimenter', 'reward', 'trial_attrs']\n",
      "['comment', 'trial_id', 'session', 'lap_tolerance', 'experimentType', 'laps', 'stopTime', 'uniqueLocationKey', 'belt', 'tSeriesDirectory', 'track_length', 'lap_reset_tag', 'position_scale', 'startTime', 'trial_length', 'sensors', 'day', 'condition', 'contexts', 'uses', 'controllers', 'sync_pin', 'imagingLayer', 'experimenter', 'reward', 'trial_attrs']\n",
      "['comment', 'trial_id', 'session', 'lap_tolerance', 'experimentType', 'laps', 'stopTime', 'uniqueLocationKey', 'belt', 'tSeriesDirectory', 'track_length', 'lap_reset_tag', 'position_scale', 'startTime', 'trial_length', 'sensors', 'day', 'condition', 'contexts', 'uses', 'controllers', 'sync_pin', 'imagingLayer', 'experimenter', 'reward', 'trial_attrs']\n",
      "['comment', 'trial_id', 'session', 'lap_tolerance', 'experimentType', 'laps', 'stopTime', 'uniqueLocationKey', 'belt', 'tSeriesDirectory', 'track_length', 'lap_reset_tag', 'position_scale', 'startTime', 'trial_length', 'sensors', 'day', 'condition', 'contexts', 'uses', 'controllers', 'sync_pin', 'imagingLayer', 'experimenter', 'reward', 'trial_attrs']\n",
      "['comment', 'trial_id', 'session', 'lap_tolerance', 'experimentType', 'laps', 'stopTime', 'uniqueLocationKey', 'belt', 'tSeriesDirectory', 'track_length', 'lap_reset_tag', 'position_scale', 'startTime', 'trial_length', 'sensors', 'day', 'condition', 'contexts', 'uses', 'controllers', 'sync_pin', 'imagingLayer', 'experimenter', 'reward', 'trial_attrs']\n",
      "['comment', 'trial_id', 'session', 'lap_tolerance', 'experimentType', 'laps', 'stopTime', 'uniqueLocationKey', 'belt', 'tSeriesDirectory', 'track_length', 'lap_reset_tag', 'position_scale', 'startTime', 'trial_length', 'sensors', 'day', 'condition', 'contexts', 'uses', 'controllers', 'sync_pin', 'imagingLayer', 'experimenter', 'reward', 'trial_attrs']\n",
      "['comment', 'trial_id', 'session', 'lap_tolerance', 'experimentType', 'laps', 'stopTime', 'uniqueLocationKey', 'belt', 'tSeriesDirectory', 'track_length', 'lap_reset_tag', 'position_scale', 'startTime', 'trial_length', 'sensors', 'day', 'condition', 'contexts', 'uses', 'controllers', 'sync_pin', 'imagingLayer', 'experimenter', 'reward', 'trial_attrs']\n",
      "['comment', 'trial_id', 'session', 'lap_tolerance', 'experimentType', 'laps', 'stopTime', 'uniqueLocationKey', 'belt', 'tSeriesDirectory', 'track_length', 'lap_reset_tag', 'position_scale', 'startTime', 'trial_length', 'sensors', 'day', 'condition', 'contexts', 'uses', 'controllers', 'sync_pin', 'imagingLayer', 'experimenter', 'reward', 'trial_attrs']\n",
      "['comment', 'trial_id', 'session', 'lap_tolerance', 'experimentType', 'laps', 'stopTime', 'uniqueLocationKey', 'belt', 'tSeriesDirectory', 'track_length', 'lap_reset_tag', 'position_scale', 'startTime', 'trial_length', 'sensors', 'day', 'condition', 'contexts', 'uses', 'controllers', 'sync_pin', 'imagingLayer', 'experimenter', 'reward', 'trial_attrs']\n",
      "['comment', 'trial_id', 'session', 'lap_tolerance', 'experimentType', 'laps', 'stopTime', 'uniqueLocationKey', 'belt', 'tSeriesDirectory', 'track_length', 'lap_reset_tag', 'position_scale', 'startTime', 'trial_length', 'sensors', 'day', 'condition', 'contexts', 'uses', 'controllers', 'sync_pin', 'imagingLayer', 'experimenter', 'reward', 'trial_attrs']\n",
      "['comment', 'trial_id', 'session', 'lap_tolerance', 'experimentType', 'laps', 'stopTime', 'uniqueLocationKey', 'belt', 'tSeriesDirectory', 'track_length', 'lap_reset_tag', 'position_scale', 'startTime', 'trial_length', 'sensors', 'day', 'condition', 'contexts', 'uses', 'controllers', 'sync_pin', 'imagingLayer', 'experimenter', 'reward', 'trial_attrs']\n",
      "['comment', 'trial_id', 'session', 'lap_tolerance', 'experimentType', 'laps', 'stopTime', 'uniqueLocationKey', 'belt', 'tSeriesDirectory', 'track_length', 'lap_reset_tag', 'position_scale', 'startTime', 'trial_length', 'sensors', 'day', 'condition', 'contexts', 'uses', 'controllers', 'sync_pin', 'imagingLayer', 'experimenter', 'reward', 'trial_attrs']\n",
      "['comment', 'trial_id', 'session', 'lap_tolerance', 'experimentType', 'laps', 'stopTime', 'uniqueLocationKey', 'belt', 'tSeriesDirectory', 'track_length', 'lap_reset_tag', 'position_scale', 'startTime', 'trial_length', 'sensors', 'day', 'condition', 'contexts', 'uses', 'controllers', 'sync_pin', 'imagingLayer', 'experimenter', 'reward', 'trial_attrs']\n",
      "['comment', 'trial_id', 'session', 'lap_tolerance', 'experimentType', 'laps', 'stopTime', 'uniqueLocationKey', 'belt', 'tSeriesDirectory', 'track_length', 'lap_reset_tag', 'position_scale', 'startTime', 'trial_length', 'sensors', 'day', 'condition', 'contexts', 'uses', 'controllers', 'sync_pin', 'imagingLayer', 'experimenter', 'reward', 'trial_attrs']\n",
      "['comment', 'trial_id', 'session', 'lap_tolerance', 'experimentType', 'laps', 'stopTime', 'uniqueLocationKey', 'belt', 'tSeriesDirectory', 'track_length', 'lap_reset_tag', 'position_scale', 'startTime', 'trial_length', 'sensors', 'day', 'condition', 'contexts', 'uses', 'controllers', 'sync_pin', 'imagingLayer', 'experimenter', 'reward', 'trial_attrs']\n",
      "['comment', 'trial_id', 'session', 'lap_tolerance', 'experimentType', 'laps', 'stopTime', 'uniqueLocationKey', 'belt', 'tSeriesDirectory', 'track_length', 'lap_reset_tag', 'position_scale', 'startTime', 'trial_length', 'sensors', 'day', 'condition', 'contexts', 'uses', 'controllers', 'sync_pin', 'imagingLayer', 'experimenter', 'reward', 'trial_attrs']\n",
      "['comment', 'trial_id', 'session', 'lap_tolerance', 'experimentType', 'laps', 'stopTime', 'uniqueLocationKey', 'belt', 'tSeriesDirectory', 'track_length', 'lap_reset_tag', 'position_scale', 'startTime', 'trial_length', 'sensors', 'day', 'condition', 'contexts', 'uses', 'controllers', 'sync_pin', 'imagingLayer', 'experimenter', 'reward', 'trial_attrs']\n",
      "['comment', 'trial_id', 'session', 'lap_tolerance', 'experimentType', 'laps', 'stopTime', 'uniqueLocationKey', 'belt', 'tSeriesDirectory', 'track_length', 'lap_reset_tag', 'position_scale', 'startTime', 'trial_length', 'sensors', 'day', 'condition', 'contexts', 'uses', 'controllers', 'sync_pin', 'imagingLayer', 'experimenter', 'reward', 'trial_attrs']\n",
      "['comment', 'trial_id', 'session', 'lap_tolerance', 'experimentType', 'laps', 'stopTime', 'uniqueLocationKey', 'belt', 'tSeriesDirectory', 'track_length', 'lap_reset_tag', 'position_scale', 'startTime', 'trial_length', 'sensors', 'day', 'condition', 'contexts', 'uses', 'controllers', 'sync_pin', 'imagingLayer', 'experimenter', 'reward', 'trial_attrs']\n",
      "['comment', 'trial_id', 'session', 'lap_tolerance', 'experimentType', 'laps', 'stopTime', 'uniqueLocationKey', 'belt', 'tSeriesDirectory', 'track_length', 'lap_reset_tag', 'position_scale', 'startTime', 'trial_length', 'sensors', 'day', 'condition', 'contexts', 'uses', 'controllers', 'sync_pin', 'imagingLayer', 'experimenter', 'reward', 'trial_attrs']\n",
      "['comment', 'trial_id', 'session', 'lap_tolerance', 'experimentType', 'laps', 'stopTime', 'uniqueLocationKey', 'belt', 'tSeriesDirectory', 'track_length', 'lap_reset_tag', 'position_scale', 'startTime', 'trial_length', 'sensors', 'day', 'condition', 'contexts', 'uses', 'controllers', 'sync_pin', 'imagingLayer', 'experimenter', 'reward', 'trial_attrs']\n",
      "['comment', 'trial_id', 'session', 'lap_tolerance', 'experimentType', 'laps', 'stopTime', 'uniqueLocationKey', 'belt', 'tSeriesDirectory', 'track_length', 'lap_reset_tag', 'position_scale', 'startTime', 'trial_length', 'sensors', 'day', 'condition', 'contexts', 'uses', 'controllers', 'sync_pin', 'imagingLayer', 'experimenter', 'reward', 'trial_attrs']\n",
      "['comment', 'trial_id', 'session', 'lap_tolerance', 'experimentType', 'laps', 'stopTime', 'uniqueLocationKey', 'belt', 'tSeriesDirectory', 'track_length', 'lap_reset_tag', 'position_scale', 'startTime', 'trial_length', 'sensors', 'day', 'condition', 'contexts', 'uses', 'controllers', 'sync_pin', 'imagingLayer', 'experimenter', 'reward', 'trial_attrs']\n",
      "['comment', 'trial_id', 'session', 'lap_tolerance', 'experimentType', 'laps', 'stopTime', 'uniqueLocationKey', 'belt', 'tSeriesDirectory', 'track_length', 'lap_reset_tag', 'position_scale', 'startTime', 'trial_length', 'sensors', 'day', 'condition', 'contexts', 'uses', 'controllers', 'sync_pin', 'imagingLayer', 'experimenter', 'reward', 'trial_attrs']\n",
      "['comment', 'trial_id', 'session', 'lap_tolerance', 'experimentType', 'laps', 'stopTime', 'uniqueLocationKey', 'belt', 'tSeriesDirectory', 'track_length', 'lap_reset_tag', 'position_scale', 'startTime', 'trial_length', 'sensors', 'day', 'condition', 'contexts', 'uses', 'controllers', 'sync_pin', 'imagingLayer', 'experimenter', 'reward', 'trial_attrs']\n",
      "['comment', 'trial_id', 'session', 'lap_tolerance', 'experimentType', 'laps', 'stopTime', 'uniqueLocationKey', 'belt', 'tSeriesDirectory', 'track_length', 'lap_reset_tag', 'position_scale', 'startTime', 'trial_length', 'sensors', 'day', 'condition', 'contexts', 'uses', 'controllers', 'sync_pin', 'imagingLayer', 'experimenter', 'reward', 'trial_attrs']\n",
      "['comment', 'trial_id', 'session', 'lap_tolerance', 'experimentType', 'laps', 'stopTime', 'uniqueLocationKey', 'belt', 'tSeriesDirectory', 'track_length', 'lap_reset_tag', 'position_scale', 'startTime', 'trial_length', 'sensors', 'day', 'condition', 'contexts', 'uses', 'controllers', 'sync_pin', 'imagingLayer', 'experimenter', 'reward', 'trial_attrs']\n",
      "['comment', 'trial_id', 'session', 'lap_tolerance', 'experimentType', 'laps', 'stopTime', 'uniqueLocationKey', 'belt', 'tSeriesDirectory', 'track_length', 'lap_reset_tag', 'position_scale', 'startTime', 'trial_length', 'sensors', 'day', 'condition', 'contexts', 'uses', 'controllers', 'sync_pin', 'imagingLayer', 'experimenter', 'reward', 'trial_attrs']\n",
      "['comment', 'trial_id', 'session', 'lap_tolerance', 'experimentType', 'laps', 'stopTime', 'uniqueLocationKey', 'belt', 'tSeriesDirectory', 'track_length', 'lap_reset_tag', 'position_scale', 'startTime', 'trial_length', 'sensors', 'day', 'condition', 'contexts', 'uses', 'controllers', 'sync_pin', 'imagingLayer', 'experimenter', 'reward', 'trial_attrs']\n",
      "['comment', 'trial_id', 'session', 'lap_tolerance', 'experimentType', 'laps', 'stopTime', 'uniqueLocationKey', 'belt', 'tSeriesDirectory', 'track_length', 'lap_reset_tag', 'position_scale', 'startTime', 'trial_length', 'sensors', 'day', 'condition', 'contexts', 'uses', 'controllers', 'sync_pin', 'imagingLayer', 'experimenter', 'reward', 'trial_attrs']\n",
      "['comment', 'trial_id', 'session', 'lap_tolerance', 'experimentType', 'laps', 'stopTime', 'uniqueLocationKey', 'belt', 'tSeriesDirectory', 'track_length', 'lap_reset_tag', 'position_scale', 'startTime', 'trial_length', 'sensors', 'day', 'condition', 'contexts', 'uses', 'controllers', 'sync_pin', 'imagingLayer', 'experimenter', 'reward', 'trial_attrs']\n",
      "['comment', 'trial_id', 'session', 'lap_tolerance', 'experimentType', 'laps', 'stopTime', 'uniqueLocationKey', 'belt', 'tSeriesDirectory', 'track_length', 'lap_reset_tag', 'position_scale', 'startTime', 'trial_length', 'sensors', 'day', 'condition', 'contexts', 'uses', 'controllers', 'sync_pin', 'imagingLayer', 'experimenter', 'reward', 'trial_attrs']\n",
      "['comment', 'trial_id', 'session', 'lap_tolerance', 'experimentType', 'laps', 'stopTime', 'uniqueLocationKey', 'belt', 'tSeriesDirectory', 'track_length', 'lap_reset_tag', 'position_scale', 'startTime', 'trial_length', 'sensors', 'day', 'condition', 'contexts', 'uses', 'controllers', 'sync_pin', 'imagingLayer', 'experimenter', 'reward', 'trial_attrs']\n",
      "['comment', 'trial_id', 'session', 'lap_tolerance', 'experimentType', 'laps', 'stopTime', 'uniqueLocationKey', 'belt', 'tSeriesDirectory', 'track_length', 'lap_reset_tag', 'position_scale', 'startTime', 'trial_length', 'sensors', 'day', 'condition', 'contexts', 'uses', 'controllers', 'sync_pin', 'imagingLayer', 'experimenter', 'reward', 'trial_attrs']\n",
      "['comment', 'trial_id', 'session', 'lap_tolerance', 'experimentType', 'laps', 'stopTime', 'uniqueLocationKey', 'belt', 'tSeriesDirectory', 'track_length', 'lap_reset_tag', 'position_scale', 'startTime', 'trial_length', 'sensors', 'day', 'condition', 'contexts', 'uses', 'controllers', 'sync_pin', 'imagingLayer', 'experimenter', 'reward', 'trial_attrs']\n",
      "['comment', 'trial_id', 'session', 'lap_tolerance', 'experimentType', 'laps', 'stopTime', 'uniqueLocationKey', 'belt', 'tSeriesDirectory', 'track_length', 'lap_reset_tag', 'position_scale', 'startTime', 'trial_length', 'sensors', 'day', 'condition', 'contexts', 'uses', 'controllers', 'sync_pin', 'imagingLayer', 'experimenter', 'reward', 'trial_attrs']\n",
      "['comment', 'trial_id', 'session', 'lap_tolerance', 'experimentType', 'laps', 'stopTime', 'uniqueLocationKey', 'belt', 'tSeriesDirectory', 'track_length', 'lap_reset_tag', 'position_scale', 'startTime', 'trial_length', 'sensors', 'day', 'condition', 'contexts', 'uses', 'controllers', 'sync_pin', 'imagingLayer', 'experimenter', 'reward', 'trial_attrs']\n",
      "['comment', 'trial_id', 'session', 'lap_tolerance', 'experimentType', 'laps', 'stopTime', 'uniqueLocationKey', 'belt', 'tSeriesDirectory', 'track_length', 'lap_reset_tag', 'position_scale', 'startTime', 'trial_length', 'sensors', 'day', 'condition', 'contexts', 'uses', 'controllers', 'sync_pin', 'imagingLayer', 'experimenter', 'reward', 'trial_attrs']\n",
      "['comment', 'trial_id', 'session', 'lap_tolerance', 'experimentType', 'laps', 'stopTime', 'uniqueLocationKey', 'belt', 'tSeriesDirectory', 'track_length', 'lap_reset_tag', 'position_scale', 'startTime', 'trial_length', 'sensors', 'day', 'condition', 'contexts', 'uses', 'controllers', 'sync_pin', 'imagingLayer', 'experimenter', 'reward', 'trial_attrs']\n",
      "['comment', 'trial_id', 'session', 'lap_tolerance', 'experimentType', 'laps', 'stopTime', 'uniqueLocationKey', 'belt', 'tSeriesDirectory', 'track_length', 'lap_reset_tag', 'position_scale', 'startTime', 'trial_length', 'sensors', 'day', 'condition', 'contexts', 'uses', 'controllers', 'sync_pin', 'imagingLayer', 'experimenter', 'reward', 'trial_attrs']\n",
      "['comment', 'trial_id', 'session', 'lap_tolerance', 'experimentType', 'patch_threshold', 'laps', 'stopTime', 'uniqueLocationKey', 'belt', 'tSeriesDirectory', 'track_length', 'lap_reset_tag', 'position_scale', 'startTime', 'trial_length', 'sensors', 'day', 'condition', 'contexts', 'uses', 'controllers', 'sync_pin', 'imagingLayer', 'experimenter', 'reward', 'trial_attrs']\n",
      "['comment', 'trial_id', 'session', 'lap_tolerance', 'experimentType', 'patch_threshold', 'laps', 'stopTime', 'uniqueLocationKey', 'belt', 'tSeriesDirectory', 'track_length', 'lap_reset_tag', 'position_scale', 'startTime', 'trial_length', 'sensors', 'day', 'condition', 'contexts', 'uses', 'controllers', 'sync_pin', 'imagingLayer', 'experimenter', 'reward', 'trial_attrs']\n",
      "['comment', 'trial_id', 'session', 'lap_tolerance', 'experimentType', 'patch_threshold', 'laps', 'stopTime', 'uniqueLocationKey', 'belt', 'tSeriesDirectory', 'track_length', 'lap_reset_tag', 'position_scale', 'startTime', 'trial_length', 'sensors', 'day', 'condition', 'contexts', 'uses', 'controllers', 'sync_pin', 'imagingLayer', 'experimenter', 'reward', 'trial_attrs']\n",
      "['comment', 'trial_id', 'session', 'lap_tolerance', 'experimentType', 'patch_threshold', 'laps', 'stopTime', 'uniqueLocationKey', 'belt', 'tSeriesDirectory', 'track_length', 'lap_reset_tag', 'position_scale', 'startTime', 'trial_length', 'sensors', 'day', 'condition', 'contexts', 'uses', 'controllers', 'sync_pin', 'imagingLayer', 'experimenter', 'reward', 'trial_attrs']\n",
      "['comment', 'trial_id', 'session', 'lap_tolerance', 'experimentType', 'patch_threshold', 'laps', 'stopTime', 'uniqueLocationKey', 'belt', 'tSeriesDirectory', 'track_length', 'lap_reset_tag', 'position_scale', 'startTime', 'trial_length', 'sensors', 'day', 'condition', 'contexts', 'uses', 'controllers', 'sync_pin', 'imagingLayer', 'experimenter', 'reward', 'trial_attrs']\n",
      "['comment', 'trial_id', 'session', 'lap_tolerance', 'experimentType', 'patch_threshold', 'laps', 'stopTime', 'uniqueLocationKey', 'belt', 'tSeriesDirectory', 'track_length', 'lap_reset_tag', 'position_scale', 'startTime', 'trial_length', 'sensors', 'day', 'condition', 'contexts', 'uses', 'controllers', 'sync_pin', 'imagingLayer', 'experimenter', 'reward', 'trial_attrs']\n",
      "['comment', 'trial_id', 'session', 'lap_tolerance', 'experimentType', 'patch_threshold', 'laps', 'stopTime', 'uniqueLocationKey', 'belt', 'tSeriesDirectory', 'track_length', 'lap_reset_tag', 'position_scale', 'startTime', 'trial_length', 'sensors', 'day', 'condition', 'contexts', 'uses', 'controllers', 'sync_pin', 'imagingLayer', 'experimenter', 'reward', 'trial_attrs']\n",
      "['comment', 'trial_id', 'session', 'lap_tolerance', 'experimentType', 'patch_threshold', 'laps', 'stopTime', 'uniqueLocationKey', 'belt', 'tSeriesDirectory', 'track_length', 'lap_reset_tag', 'position_scale', 'startTime', 'trial_length', 'sensors', 'day', 'condition', 'contexts', 'uses', 'controllers', 'sync_pin', 'imagingLayer', 'experimenter', 'reward', 'trial_attrs']\n",
      "['comment', 'trial_id', 'session', 'lap_tolerance', 'experimentType', 'patch_threshold', 'laps', 'stopTime', 'uniqueLocationKey', 'belt', 'tSeriesDirectory', 'track_length', 'lap_reset_tag', 'position_scale', 'startTime', 'trial_length', 'sensors', 'day', 'condition', 'contexts', 'uses', 'controllers', 'sync_pin', 'imagingLayer', 'experimenter', 'reward', 'trial_attrs']\n",
      "['comment', 'trial_id', 'session', 'lap_tolerance', 'experimentType', 'patch_threshold', 'laps', 'stopTime', 'uniqueLocationKey', 'belt', 'tSeriesDirectory', 'track_length', 'lap_reset_tag', 'position_scale', 'startTime', 'trial_length', 'sensors', 'day', 'condition', 'contexts', 'uses', 'controllers', 'sync_pin', 'imagingLayer', 'experimenter', 'reward', 'trial_attrs']\n",
      "['comment', 'trial_id', 'session', 'lap_tolerance', 'experimentType', 'patch_threshold', 'laps', 'stopTime', 'uniqueLocationKey', 'belt', 'tSeriesDirectory', 'track_length', 'lap_reset_tag', 'position_scale', 'startTime', 'trial_length', 'sensors', 'day', 'condition', 'contexts', 'uses', 'controllers', 'sync_pin', 'imagingLayer', 'experimenter', 'reward', 'trial_attrs']\n",
      "['comment', 'trial_id', 'session', 'lap_tolerance', 'experimentType', 'patch_threshold', 'laps', 'stopTime', 'uniqueLocationKey', 'belt', 'tSeriesDirectory', 'track_length', 'lap_reset_tag', 'position_scale', 'startTime', 'trial_length', 'sensors', 'day', 'condition', 'contexts', 'uses', 'controllers', 'sync_pin', 'imagingLayer', 'experimenter', 'reward', 'trial_attrs']\n"
     ]
    }
   ],
   "source": [
    "for expt in imExpGroup:\n",
    "    print(expt.keys())"
   ]
  },
  {
   "cell_type": "code",
   "execution_count": 238,
   "metadata": {},
   "outputs": [
    {
     "name": "stdout",
     "output_type": "stream",
     "text": [
      "randomForaging\n",
      "randomForaging\n",
      "randomForaging\n",
      "randomForaging\n",
      "hiddenRewards\n",
      "hiddenRewards\n",
      "hiddenRewards\n",
      "hiddenRewards\n",
      "hiddenRewards\n",
      "hiddenRewards\n",
      "hiddenRewards\n",
      "hiddenRewards\n",
      "hiddenRewards\n",
      "hiddenRewards\n",
      "hiddenRewards\n",
      "hiddenRewards\n",
      "hiddenRewards\n",
      "hiddenRewards\n",
      "hiddenRewards\n",
      "hiddenRewards\n",
      "hiddenRewards\n",
      "hiddenRewards\n",
      "hiddenRewards\n",
      "hiddenRewards\n",
      "hiddenRewards\n",
      "hiddenRewards\n",
      "hiddenRewards\n",
      "hiddenRewards\n",
      "hiddenRewards\n",
      "hiddenRewards\n",
      "hiddenRewards\n",
      "hiddenRewards\n",
      "hiddenRewards\n",
      "hiddenRewards\n",
      "hiddenRewards\n",
      "hiddenRewards\n",
      "hiddenRewards\n",
      "hiddenRewards\n",
      "hiddenRewards\n",
      "hiddenRewards\n",
      "hiddenRewards\n",
      "hiddenRewards\n",
      "hiddenRewards\n",
      "hiddenRewards\n",
      "hiddenRewards\n",
      "hiddenRewards\n",
      "hiddenRewards\n",
      "hiddenRewards\n",
      "hiddenRewards\n",
      "hiddenRewards\n",
      "hiddenRewards\n",
      "hiddenRewards\n",
      "hiddenRewards\n",
      "hiddenRewards\n",
      "hiddenRewards\n",
      "hiddenRewards\n",
      "hiddenRewards\n",
      "hiddenRewards\n",
      "hiddenRewards\n",
      "hiddenRewards\n",
      "hiddenRewards\n",
      "hiddenRewards\n",
      "hiddenRewards\n",
      "hiddenRewards\n",
      "hiddenRewards\n",
      "hiddenRewards\n",
      "hiddenRewards\n",
      "hiddenRewards\n",
      "hiddenRewards\n",
      "hiddenRewards\n",
      "hiddenRewards\n",
      "hiddenRewards\n",
      "hiddenRewards\n",
      "hiddenRewards\n",
      "hiddenRewards\n",
      "hiddenRewards\n",
      "hiddenRewards\n",
      "hiddenRewards\n",
      "hiddenRewards\n",
      "hiddenRewards\n",
      "hiddenRewards\n",
      "hiddenRewards\n",
      "hiddenRewards\n",
      "hiddenRewards\n",
      "hiddenRewards\n"
     ]
    }
   ],
   "source": [
    "grp_list = list()\n",
    "for expt in imExpGroup:\n",
    "    print(expt.get('experimentType'))\n",
    "#     parent.get('experimentType')"
   ]
  },
  {
   "cell_type": "code",
   "execution_count": null,
   "metadata": {},
   "outputs": [],
   "source": [
    "    print(expt.get"
   ]
  },
  {
   "cell_type": "code",
   "execution_count": 187,
   "metadata": {},
   "outputs": [
    {
     "name": "stdout",
     "output_type": "stream",
     "text": [
      "{\n",
      "    \"experiments\": {\n",
      "        \"gtr6_a1\": [\n",
      "            \"2018-08-04-19h00m54s\", \n",
      "            \"2018-08-06-17h10m16s\"\n",
      "        ], \n",
      "        \"gtr6_a3\": [\n",
      "            \"2018-08-28-12h00m07s\", \n",
      "            \"2018-08-28-14h18m49s\", \n",
      "            \"2018-08-28-15h53m46s\", \n",
      "            \"2018-08-29-13h17m22s\", \n",
      "            \"2018-08-29-15h06m32s\", \n",
      "            \"2018-08-29-17h10m54s\", \n",
      "            \"2018-08-30-13h46m43s\", \n",
      "            \"2018-08-30-15h23m55s\", \n",
      "            \"2018-08-30-16h58m08s\", \n",
      "            \"2018-08-31-11h34m09s\", \n",
      "            \"2018-08-31-13h12m05s\", \n",
      "            \"2018-08-31-15h50m14s\"\n",
      "        ], \n",
      "        \"gtr6_a4\": [\n",
      "            \"2018-08-28-12h17m54s\", \n",
      "            \"2018-08-28-14h33m28s\", \n",
      "            \"2018-08-28-16h08m14s\", \n",
      "            \"2018-08-29-13h43m41s\", \n",
      "            \"2018-08-29-15h26m13s\", \n",
      "            \"2018-08-29-17h26m22s\", \n",
      "            \"2018-08-30-14h10m19s\", \n",
      "            \"2018-08-30-15h46m40s\", \n",
      "            \"2018-08-30-17h14m50s\"\n",
      "        ], \n",
      "        \"gtr6_a5\": [\n",
      "            \"2018-08-04-18h26m11s\", \n",
      "            \"2018-08-28-12h37m08s\", \n",
      "            \"2018-08-28-14h51m56s\", \n",
      "            \"2018-08-28-16h22m40s\", \n",
      "            \"2018-08-29-14h05m05s\", \n",
      "            \"2018-08-29-15h46m26s\", \n",
      "            \"2018-08-29-17h40m22s\", \n",
      "            \"2018-08-30-14h24m45s\", \n",
      "            \"2018-08-30-16h01m01s\", \n",
      "            \"2018-08-30-17h28m57s\", \n",
      "            \"2018-08-31-11h56m58s\", \n",
      "            \"2018-08-31-13h28m20s\", \n",
      "            \"2018-08-31-16h05m17s\"\n",
      "        ], \n",
      "        \"gtr6_b1\": [\n",
      "            \"2018-08-28-13h11m39s\", \n",
      "            \"2018-08-28-13h11m39s\", \n",
      "            \"2018-08-28-15h06m08s\", \n",
      "            \"2018-08-28-15h06m08s\", \n",
      "            \"2018-08-28-18h59m55s\", \n",
      "            \"2018-08-28-18h59m55s\", \n",
      "            \"2018-08-29-14h19m05s\", \n",
      "            \"2018-08-29-14h19m05s\", \n",
      "            \"2018-08-29-16h01m40s\", \n",
      "            \"2018-08-29-16h01m40s\", \n",
      "            \"2018-08-29-17h54m13s\", \n",
      "            \"2018-08-29-17h54m13s\", \n",
      "            \"2018-08-30-14h39m19s\", \n",
      "            \"2018-08-30-14h39m19s\", \n",
      "            \"2018-08-30-16h15m10s\", \n",
      "            \"2018-08-30-16h15m10s\", \n",
      "            \"2018-08-30-17h43m30s\", \n",
      "            \"2018-08-30-17h43m30s\", \n",
      "            \"2018-08-31-12h12m58s\", \n",
      "            \"2018-08-31-12h12m58s\", \n",
      "            \"2018-08-31-15h07m27s\", \n",
      "            \"2018-08-31-15h07m27s\", \n",
      "            \"2018-08-31-16h19m14s\", \n",
      "            \"2018-08-31-16h19m14s\"\n",
      "        ], \n",
      "        \"gtr6_b2\": [\n",
      "            \"2018-08-28-13h28m13s\", \n",
      "            \"2018-08-28-15h23m50s\", \n",
      "            \"2018-08-28-19h17m40s\", \n",
      "            \"2018-08-29-14h35m48s\", \n",
      "            \"2018-08-29-16h17m16s\", \n",
      "            \"2018-08-29-18h10m01s\", \n",
      "            \"2018-08-30-14h53m15s\", \n",
      "            \"2018-08-30-16h29m10s\", \n",
      "            \"2018-08-30-18h01m10s\", \n",
      "            \"2018-08-31-12h26m59s\", \n",
      "            \"2018-08-31-15h21m56s\", \n",
      "            \"2018-08-31-16h34m32s\"\n",
      "        ], \n",
      "        \"gtr6_b3\": [\n",
      "            \"2018-08-04-18h43m03s\", \n",
      "            \"2018-08-28-13h44m33s\", \n",
      "            \"2018-08-28-15h39m03s\", \n",
      "            \"2018-08-28-19h35m04s\", \n",
      "            \"2018-08-29-14h50m16s\", \n",
      "            \"2018-08-29-16h30m51s\", \n",
      "            \"2018-08-29-18h24m51s\", \n",
      "            \"2018-08-30-15h08m08s\", \n",
      "            \"2018-08-30-16h43m23s\", \n",
      "            \"2018-08-30-18h20m51s\", \n",
      "            \"2018-08-31-12h47m24s\", \n",
      "            \"2018-08-31-15h35m45s\", \n",
      "            \"2018-08-31-16h48m00s\"\n",
      "        ]\n",
      "    }\n",
      "}\n"
     ]
    }
   ],
   "source": [
    "tyimExpGroup.to_json()"
   ]
  },
  {
   "cell_type": "code",
   "execution_count": null,
   "metadata": {},
   "outputs": [],
   "source": [
    "miceJson = imExpGroup.to_json"
   ]
  },
  {
   "cell_type": "code",
   "execution_count": 186,
   "metadata": {},
   "outputs": [
    {
     "ename": "NameError",
     "evalue": "name 'defaultdict' is not defined",
     "output_type": "error",
     "traceback": [
      "\u001b[0;31m---------------------------------------------------------------------------\u001b[0m",
      "\u001b[0;31mNameError\u001b[0m                                 Traceback (most recent call last)",
      "\u001b[0;32m<ipython-input-186-1b92b03ae5bd>\u001b[0m in \u001b[0;36m<module>\u001b[0;34m()\u001b[0m\n\u001b[0;32m----> 1\u001b[0;31m \u001b[0mdefaultdict\u001b[0m\u001b[0;34m\u001b[0m\u001b[0m\n\u001b[0m",
      "\u001b[0;31mNameError\u001b[0m: name 'defaultdict' is not defined"
     ]
    }
   ],
   "source": [
    "defaultdict"
   ]
  },
  {
   "cell_type": "code",
   "execution_count": null,
   "metadata": {},
   "outputs": [],
   "source": [
    "ID = mousedict.get"
   ]
  },
  {
   "cell_type": "code",
   "execution_count": 159,
   "metadata": {},
   "outputs": [
    {
     "name": "stdout",
     "output_type": "stream",
     "text": [
      "None\n"
     ]
    }
   ],
   "source": [
    "print(ID)"
   ]
  },
  {
   "cell_type": "code",
   "execution_count": null,
   "metadata": {},
   "outputs": [],
   "source": []
  },
  {
   "cell_type": "code",
   "execution_count": 7,
   "metadata": {},
   "outputs": [],
   "source": [
    "amplitude = ca.calc_average_amplitude(imExpGroup, channel='Ch2')"
   ]
  },
  {
   "cell_type": "code",
   "execution_count": 23,
   "metadata": {},
   "outputs": [
    {
     "data": {
      "text/html": [
       "<div>\n",
       "<style scoped>\n",
       "    .dataframe tbody tr th:only-of-type {\n",
       "        vertical-align: middle;\n",
       "    }\n",
       "\n",
       "    .dataframe tbody tr th {\n",
       "        vertical-align: top;\n",
       "    }\n",
       "\n",
       "    .dataframe thead th {\n",
       "        text-align: right;\n",
       "    }\n",
       "</style>\n",
       "<table border=\"1\" class=\"dataframe\">\n",
       "  <thead>\n",
       "    <tr style=\"text-align: right;\">\n",
       "      <th></th>\n",
       "      <th>roi</th>\n",
       "      <th>trial</th>\n",
       "      <th>max_amplitude</th>\n",
       "    </tr>\n",
       "  </thead>\n",
       "  <tbody>\n",
       "    <tr>\n",
       "      <th>0</th>\n",
       "      <td>&lt;ROI: label=1544220806885&gt;</td>\n",
       "      <td>[]</td>\n",
       "      <td>0.464654</td>\n",
       "    </tr>\n",
       "    <tr>\n",
       "      <th>1</th>\n",
       "      <td>&lt;ROI: label=1544220916365&gt;</td>\n",
       "      <td>[]</td>\n",
       "      <td>0.460210</td>\n",
       "    </tr>\n",
       "    <tr>\n",
       "      <th>2</th>\n",
       "      <td>&lt;ROI: label=1544220870088&gt;</td>\n",
       "      <td>[]</td>\n",
       "      <td>0.299708</td>\n",
       "    </tr>\n",
       "    <tr>\n",
       "      <th>3</th>\n",
       "      <td>&lt;ROI: label=1544220885829&gt;</td>\n",
       "      <td>[]</td>\n",
       "      <td>0.237444</td>\n",
       "    </tr>\n",
       "    <tr>\n",
       "      <th>4</th>\n",
       "      <td>&lt;ROI: label=1544220961480&gt;</td>\n",
       "      <td>[]</td>\n",
       "      <td>0.326694</td>\n",
       "    </tr>\n",
       "  </tbody>\n",
       "</table>\n",
       "</div>"
      ],
      "text/plain": [
       "                          roi trial  max_amplitude\n",
       "0  <ROI: label=1544220806885>    []       0.464654\n",
       "1  <ROI: label=1544220916365>    []       0.460210\n",
       "2  <ROI: label=1544220870088>    []       0.299708\n",
       "3  <ROI: label=1544220885829>    []       0.237444\n",
       "4  <ROI: label=1544220961480>    []       0.326694"
      ]
     },
     "execution_count": 23,
     "metadata": {},
     "output_type": "execute_result"
    }
   ],
   "source": [
    "amplitude.head()"
   ]
  },
  {
   "cell_type": "code",
   "execution_count": 28,
   "metadata": {},
   "outputs": [
    {
     "data": {
      "text/html": [
       "<div>\n",
       "<style scoped>\n",
       "    .dataframe tbody tr th:only-of-type {\n",
       "        vertical-align: middle;\n",
       "    }\n",
       "\n",
       "    .dataframe tbody tr th {\n",
       "        vertical-align: top;\n",
       "    }\n",
       "\n",
       "    .dataframe thead th {\n",
       "        text-align: right;\n",
       "    }\n",
       "</style>\n",
       "<table border=\"1\" class=\"dataframe\">\n",
       "  <thead>\n",
       "    <tr style=\"text-align: right;\">\n",
       "      <th></th>\n",
       "      <th>max_amplitude</th>\n",
       "    </tr>\n",
       "  </thead>\n",
       "  <tbody>\n",
       "    <tr>\n",
       "      <th>count</th>\n",
       "      <td>553.000000</td>\n",
       "    </tr>\n",
       "    <tr>\n",
       "      <th>mean</th>\n",
       "      <td>0.289407</td>\n",
       "    </tr>\n",
       "    <tr>\n",
       "      <th>std</th>\n",
       "      <td>0.122563</td>\n",
       "    </tr>\n",
       "    <tr>\n",
       "      <th>min</th>\n",
       "      <td>0.085999</td>\n",
       "    </tr>\n",
       "    <tr>\n",
       "      <th>25%</th>\n",
       "      <td>0.205717</td>\n",
       "    </tr>\n",
       "    <tr>\n",
       "      <th>50%</th>\n",
       "      <td>0.265393</td>\n",
       "    </tr>\n",
       "    <tr>\n",
       "      <th>75%</th>\n",
       "      <td>0.353450</td>\n",
       "    </tr>\n",
       "    <tr>\n",
       "      <th>max</th>\n",
       "      <td>1.237996</td>\n",
       "    </tr>\n",
       "  </tbody>\n",
       "</table>\n",
       "</div>"
      ],
      "text/plain": [
       "       max_amplitude\n",
       "count     553.000000\n",
       "mean        0.289407\n",
       "std         0.122563\n",
       "min         0.085999\n",
       "25%         0.205717\n",
       "50%         0.265393\n",
       "75%         0.353450\n",
       "max         1.237996"
      ]
     },
     "execution_count": 28,
     "metadata": {},
     "output_type": "execute_result"
    }
   ],
   "source": [
    "amplitude.describe()"
   ]
  },
  {
   "cell_type": "code",
   "execution_count": 8,
   "metadata": {},
   "outputs": [
    {
     "data": {
      "text/plain": [
       "<matplotlib.axes._subplots.AxesSubplot at 0x7ffa8a1b2510>"
      ]
     },
     "execution_count": 8,
     "metadata": {},
     "output_type": "execute_result"
    },
    {
     "data": {
      "image/png": "[encoded data removed]",
      "text/plain": [
       "<matplotlib.figure.Figure at 0x7ffad29245d0>"
      ]
     },
     "metadata": {},
     "output_type": "display_data"
    }
   ],
   "source": [
    "amplitude.plot(kind='box', ylim=(0,2))"
   ]
  },
  {
   "cell_type": "code",
   "execution_count": null,
   "metadata": {},
   "outputs": [],
   "source": [
    "runing = np.array(imExpGroup.velocity_dataframe)"
   ]
  },
  {
   "cell_type": "code",
   "execution_count": 9,
   "metadata": {},
   "outputs": [],
   "source": [
    "auc = ca.calc_transient_auc(imExpGroup, channel='Ch2')"
   ]
  },
  {
   "cell_type": "code",
   "execution_count": 10,
   "metadata": {},
   "outputs": [
    {
     "data": {
      "text/html": [
       "<div>\n",
       "<style scoped>\n",
       "    .dataframe tbody tr th:only-of-type {\n",
       "        vertical-align: middle;\n",
       "    }\n",
       "\n",
       "    .dataframe tbody tr th {\n",
       "        vertical-align: top;\n",
       "    }\n",
       "\n",
       "    .dataframe thead th {\n",
       "        text-align: right;\n",
       "    }\n",
       "</style>\n",
       "<table border=\"1\" class=\"dataframe\">\n",
       "  <thead>\n",
       "    <tr style=\"text-align: right;\">\n",
       "      <th></th>\n",
       "      <th>roi</th>\n",
       "      <th>trial</th>\n",
       "      <th>trans_idx</th>\n",
       "      <th>AUC</th>\n",
       "    </tr>\n",
       "  </thead>\n",
       "  <tbody>\n",
       "    <tr>\n",
       "      <th>0</th>\n",
       "      <td>&lt;ROI: label=1540946742427&gt;</td>\n",
       "      <td>[]</td>\n",
       "      <td>0</td>\n",
       "      <td>0.187197</td>\n",
       "    </tr>\n",
       "    <tr>\n",
       "      <th>1</th>\n",
       "      <td>&lt;ROI: label=1540946742427&gt;</td>\n",
       "      <td>[]</td>\n",
       "      <td>1</td>\n",
       "      <td>0.225472</td>\n",
       "    </tr>\n",
       "    <tr>\n",
       "      <th>2</th>\n",
       "      <td>&lt;ROI: label=1540946742427&gt;</td>\n",
       "      <td>[]</td>\n",
       "      <td>2</td>\n",
       "      <td>0.265116</td>\n",
       "    </tr>\n",
       "    <tr>\n",
       "      <th>3</th>\n",
       "      <td>&lt;ROI: label=1540946742427&gt;</td>\n",
       "      <td>[]</td>\n",
       "      <td>3</td>\n",
       "      <td>0.695506</td>\n",
       "    </tr>\n",
       "    <tr>\n",
       "      <th>4</th>\n",
       "      <td>&lt;ROI: label=1540946742427&gt;</td>\n",
       "      <td>[]</td>\n",
       "      <td>4</td>\n",
       "      <td>0.541248</td>\n",
       "    </tr>\n",
       "  </tbody>\n",
       "</table>\n",
       "</div>"
      ],
      "text/plain": [
       "                          roi trial  trans_idx       AUC\n",
       "0  <ROI: label=1540946742427>    []          0  0.187197\n",
       "1  <ROI: label=1540946742427>    []          1  0.225472\n",
       "2  <ROI: label=1540946742427>    []          2  0.265116\n",
       "3  <ROI: label=1540946742427>    []          3  0.695506\n",
       "4  <ROI: label=1540946742427>    []          4  0.541248"
      ]
     },
     "execution_count": 10,
     "metadata": {},
     "output_type": "execute_result"
    }
   ],
   "source": [
    "auc.head()"
   ]
  },
  {
   "cell_type": "code",
   "execution_count": 37,
   "metadata": {
    "scrolled": true
   },
   "outputs": [],
   "source": [
    "auc2 = auc.drop(['trans_idx'], axis=1)"
   ]
  },
  {
   "cell_type": "code",
   "execution_count": 39,
   "metadata": {},
   "outputs": [
    {
     "data": {
      "text/html": [
       "<div>\n",
       "<style scoped>\n",
       "    .dataframe tbody tr th:only-of-type {\n",
       "        vertical-align: middle;\n",
       "    }\n",
       "\n",
       "    .dataframe tbody tr th {\n",
       "        vertical-align: top;\n",
       "    }\n",
       "\n",
       "    .dataframe thead th {\n",
       "        text-align: right;\n",
       "    }\n",
       "</style>\n",
       "<table border=\"1\" class=\"dataframe\">\n",
       "  <thead>\n",
       "    <tr style=\"text-align: right;\">\n",
       "      <th></th>\n",
       "      <th>roi</th>\n",
       "      <th>trial</th>\n",
       "      <th>AUC</th>\n",
       "    </tr>\n",
       "  </thead>\n",
       "  <tbody>\n",
       "    <tr>\n",
       "      <th>0</th>\n",
       "      <td>&lt;ROI: label=1540946742427&gt;</td>\n",
       "      <td>[]</td>\n",
       "      <td>0.187197</td>\n",
       "    </tr>\n",
       "    <tr>\n",
       "      <th>1</th>\n",
       "      <td>&lt;ROI: label=1540946742427&gt;</td>\n",
       "      <td>[]</td>\n",
       "      <td>0.225472</td>\n",
       "    </tr>\n",
       "    <tr>\n",
       "      <th>2</th>\n",
       "      <td>&lt;ROI: label=1540946742427&gt;</td>\n",
       "      <td>[]</td>\n",
       "      <td>0.265116</td>\n",
       "    </tr>\n",
       "    <tr>\n",
       "      <th>3</th>\n",
       "      <td>&lt;ROI: label=1540946742427&gt;</td>\n",
       "      <td>[]</td>\n",
       "      <td>0.695506</td>\n",
       "    </tr>\n",
       "    <tr>\n",
       "      <th>4</th>\n",
       "      <td>&lt;ROI: label=1540946742427&gt;</td>\n",
       "      <td>[]</td>\n",
       "      <td>0.541248</td>\n",
       "    </tr>\n",
       "  </tbody>\n",
       "</table>\n",
       "</div>"
      ],
      "text/plain": [
       "                          roi trial       AUC\n",
       "0  <ROI: label=1540946742427>    []  0.187197\n",
       "1  <ROI: label=1540946742427>    []  0.225472\n",
       "2  <ROI: label=1540946742427>    []  0.265116\n",
       "3  <ROI: label=1540946742427>    []  0.695506\n",
       "4  <ROI: label=1540946742427>    []  0.541248"
      ]
     },
     "execution_count": 39,
     "metadata": {},
     "output_type": "execute_result"
    }
   ],
   "source": [
    "auc2.head()"
   ]
  },
  {
   "cell_type": "code",
   "execution_count": 40,
   "metadata": {},
   "outputs": [
    {
     "data": {
      "text/plain": [
       "<matplotlib.axes._subplots.AxesSubplot at 0x7f971d6b8750>"
      ]
     },
     "execution_count": 40,
     "metadata": {},
     "output_type": "execute_result"
    },
    {
     "data": {
      "image/png": "[encoded data removed]",
      "text/plain": [
       "<matplotlib.figure.Figure at 0x7f971d3ad650>"
      ]
     },
     "metadata": {},
     "output_type": "display_data"
    }
   ],
   "source": [
    "auc2.plot(kind='box')"
   ]
  },
  {
   "cell_type": "markdown",
   "metadata": {},
   "source": [
    "### Calculating the AUC on the entire signal during running "
   ]
  },
  {
   "cell_type": "code",
   "execution_count": 23,
   "metadata": {},
   "outputs": [
    {
     "data": {
      "text/plain": [
       "<matplotlib.axes._subplots.AxesSubplot at 0x7ffa87573e90>"
      ]
     },
     "execution_count": 23,
     "metadata": {},
     "output_type": "execute_result"
    },
    {
     "data": {
      "image/png": "[encoded data removed]",
      "text/plain": [
       "<matplotlib.figure.Figure at 0x7ffa83aa8910>"
      ]
     },
     "metadata": {},
     "output_type": "display_data"
    }
   ],
   "source": [
    "# running\n",
    "auc_running = ia.population_activity_new(imExpGroup, \"auc\", interval='running')\n",
    "auc_running.plot(kind='box')"
   ]
  },
  {
   "cell_type": "code",
   "execution_count": 26,
   "metadata": {},
   "outputs": [
    {
     "data": {
      "text/html": [
       "<div>\n",
       "<style scoped>\n",
       "    .dataframe tbody tr th:only-of-type {\n",
       "        vertical-align: middle;\n",
       "    }\n",
       "\n",
       "    .dataframe tbody tr th {\n",
       "        vertical-align: top;\n",
       "    }\n",
       "\n",
       "    .dataframe thead th {\n",
       "        text-align: right;\n",
       "    }\n",
       "</style>\n",
       "<table border=\"1\" class=\"dataframe\">\n",
       "  <thead>\n",
       "    <tr style=\"text-align: right;\">\n",
       "      <th></th>\n",
       "      <th>trial</th>\n",
       "      <th>roi</th>\n",
       "      <th>value</th>\n",
       "    </tr>\n",
       "  </thead>\n",
       "  <tbody>\n",
       "    <tr>\n",
       "      <th>0</th>\n",
       "      <td>[]</td>\n",
       "      <td>&lt;ROI: label=1540946742427&gt;</td>\n",
       "      <td>8.115292</td>\n",
       "    </tr>\n",
       "    <tr>\n",
       "      <th>1</th>\n",
       "      <td>[]</td>\n",
       "      <td>&lt;ROI: label=1540946755275&gt;</td>\n",
       "      <td>5.975140</td>\n",
       "    </tr>\n",
       "    <tr>\n",
       "      <th>2</th>\n",
       "      <td>[]</td>\n",
       "      <td>&lt;ROI: label=1540946764969&gt;</td>\n",
       "      <td>2.481729</td>\n",
       "    </tr>\n",
       "    <tr>\n",
       "      <th>3</th>\n",
       "      <td>[]</td>\n",
       "      <td>&lt;ROI: label=1540946776027&gt;</td>\n",
       "      <td>14.679916</td>\n",
       "    </tr>\n",
       "    <tr>\n",
       "      <th>4</th>\n",
       "      <td>[]</td>\n",
       "      <td>&lt;ROI: label=1540946789346&gt;</td>\n",
       "      <td>15.694689</td>\n",
       "    </tr>\n",
       "  </tbody>\n",
       "</table>\n",
       "</div>"
      ],
      "text/plain": [
       "  trial                         roi      value\n",
       "0    []  <ROI: label=1540946742427>   8.115292\n",
       "1    []  <ROI: label=1540946755275>   5.975140\n",
       "2    []  <ROI: label=1540946764969>   2.481729\n",
       "3    []  <ROI: label=1540946776027>  14.679916\n",
       "4    []  <ROI: label=1540946789346>  15.694689"
      ]
     },
     "execution_count": 26,
     "metadata": {},
     "output_type": "execute_result"
    }
   ],
   "source": [
    "auc_running.head()"
   ]
  },
  {
   "cell_type": "code",
   "execution_count": 30,
   "metadata": {},
   "outputs": [
    {
     "data": {
      "text/plain": [
       "<  Trial: gtr6_a1, filename = /data/gergely/BehaviorData/gtr6_a1/gtr6_a1_20180804190054.csv, time = 2018-08-04-19h00m54s>"
      ]
     },
     "execution_count": 30,
     "metadata": {},
     "output_type": "execute_result"
    }
   ],
   "source": [
    "auc_running['trial'][0]"
   ]
  },
  {
   "cell_type": "code",
   "execution_count": 22,
   "metadata": {},
   "outputs": [
    {
     "data": {
      "text/plain": [
       "<matplotlib.axes._subplots.AxesSubplot at 0x7ffa8756b0d0>"
      ]
     },
     "execution_count": 22,
     "metadata": {},
     "output_type": "execute_result"
    },
    {
     "data": {
      "image/png": "[encoded data removed]",
      "text/plain": [
       "<matplotlib.figure.Figure at 0x7ffa87443750>"
      ]
     },
     "metadata": {},
     "output_type": "display_data"
    }
   ],
   "source": [
    "# running\n",
    "auc_stationary = ia.population_activity_new(imExpGroup, \"auc\", interval='non-running')\n",
    "auc_stationary.plot(kind='box')"
   ]
  },
  {
   "cell_type": "markdown",
   "metadata": {},
   "source": [
    "### something is not OK with this code. it returns a way bigger df than the sum of the two. try stack maybe? -- See number of transient below for correct calc."
   ]
  },
  {
   "cell_type": "code",
   "execution_count": 33,
   "metadata": {},
   "outputs": [
    {
     "data": {
      "text/html": [
       "<div>\n",
       "<style scoped>\n",
       "    .dataframe tbody tr th:only-of-type {\n",
       "        vertical-align: middle;\n",
       "    }\n",
       "\n",
       "    .dataframe tbody tr th {\n",
       "        vertical-align: top;\n",
       "    }\n",
       "\n",
       "    .dataframe thead th {\n",
       "        text-align: right;\n",
       "    }\n",
       "</style>\n",
       "<table border=\"1\" class=\"dataframe\">\n",
       "  <thead>\n",
       "    <tr style=\"text-align: right;\">\n",
       "      <th></th>\n",
       "      <th>trial</th>\n",
       "      <th>roi_x</th>\n",
       "      <th>value_x</th>\n",
       "      <th>roi_y</th>\n",
       "      <th>value_y</th>\n",
       "    </tr>\n",
       "  </thead>\n",
       "  <tbody>\n",
       "    <tr>\n",
       "      <th>0</th>\n",
       "      <td>[]</td>\n",
       "      <td>&lt;ROI: label=1540946742427&gt;</td>\n",
       "      <td>8.115292</td>\n",
       "      <td>&lt;ROI: label=1540946742427&gt;</td>\n",
       "      <td>-1.319859</td>\n",
       "    </tr>\n",
       "    <tr>\n",
       "      <th>1</th>\n",
       "      <td>[]</td>\n",
       "      <td>&lt;ROI: label=1540946742427&gt;</td>\n",
       "      <td>8.115292</td>\n",
       "      <td>&lt;ROI: label=1540946755275&gt;</td>\n",
       "      <td>0.165245</td>\n",
       "    </tr>\n",
       "    <tr>\n",
       "      <th>2</th>\n",
       "      <td>[]</td>\n",
       "      <td>&lt;ROI: label=1540946742427&gt;</td>\n",
       "      <td>8.115292</td>\n",
       "      <td>&lt;ROI: label=1540946764969&gt;</td>\n",
       "      <td>-1.012167</td>\n",
       "    </tr>\n",
       "    <tr>\n",
       "      <th>3</th>\n",
       "      <td>[]</td>\n",
       "      <td>&lt;ROI: label=1540946742427&gt;</td>\n",
       "      <td>8.115292</td>\n",
       "      <td>&lt;ROI: label=1540946776027&gt;</td>\n",
       "      <td>0.479716</td>\n",
       "    </tr>\n",
       "    <tr>\n",
       "      <th>4</th>\n",
       "      <td>[]</td>\n",
       "      <td>&lt;ROI: label=1540946742427&gt;</td>\n",
       "      <td>8.115292</td>\n",
       "      <td>&lt;ROI: label=1540946789346&gt;</td>\n",
       "      <td>-0.626212</td>\n",
       "    </tr>\n",
       "  </tbody>\n",
       "</table>\n",
       "</div>"
      ],
      "text/plain": [
       "  trial                       roi_x   value_x                       roi_y  \\\n",
       "0    []  <ROI: label=1540946742427>  8.115292  <ROI: label=1540946742427>   \n",
       "1    []  <ROI: label=1540946742427>  8.115292  <ROI: label=1540946755275>   \n",
       "2    []  <ROI: label=1540946742427>  8.115292  <ROI: label=1540946764969>   \n",
       "3    []  <ROI: label=1540946742427>  8.115292  <ROI: label=1540946776027>   \n",
       "4    []  <ROI: label=1540946742427>  8.115292  <ROI: label=1540946789346>   \n",
       "\n",
       "    value_y  \n",
       "0 -1.319859  \n",
       "1  0.165245  \n",
       "2 -1.012167  \n",
       "3  0.479716  \n",
       "4 -0.626212  "
      ]
     },
     "execution_count": 33,
     "metadata": {},
     "output_type": "execute_result"
    }
   ],
   "source": [
    "auc_data = auc_running.merge(auc_stationary, on='trial')\n",
    "auc_data.head()"
   ]
  },
  {
   "cell_type": "code",
   "execution_count": 35,
   "metadata": {},
   "outputs": [
    {
     "data": {
      "text/plain": [
       "<matplotlib.axes._subplots.AxesSubplot at 0x7ffa859f6050>"
      ]
     },
     "execution_count": 35,
     "metadata": {},
     "output_type": "execute_result"
    },
    {
     "data": {
      "image/png": "[encoded data removed]",
      "text/plain": [
       "<matplotlib.figure.Figure at 0x7ffa86d61210>"
      ]
     },
     "metadata": {},
     "output_type": "display_data"
    }
   ],
   "source": [
    "auc_data.plot(kind='box')"
   ]
  },
  {
   "cell_type": "markdown",
   "metadata": {},
   "source": [
    "### Calculating AUC on the transients during running vs. non-running."
   ]
  },
  {
   "cell_type": "code",
   "execution_count": 37,
   "metadata": {},
   "outputs": [
    {
     "data": {
      "text/plain": [
       "<matplotlib.axes._subplots.AxesSubplot at 0x7ffa86a73150>"
      ]
     },
     "execution_count": 37,
     "metadata": {},
     "output_type": "execute_result"
    },
    {
     "data": {
      "image/png": "[encoded data removed]",
      "text/plain": [
       "<matplotlib.figure.Figure at 0x7ffa84354610>"
      ]
     },
     "metadata": {},
     "output_type": "display_data"
    }
   ],
   "source": [
    "transient_auc_running = ia.population_activity_new(imExpGroup, \"transient auc\",\n",
    "                                                   interval='running')\n",
    "transient_auc_stationary = ia.population_activity_new(imExpGroup, \"transient auc\",\n",
    "                                                       interval='non-running')\n",
    "transient_auc_data = transient_auc_running.merge(transient_auc_stationary, on='trial')\n",
    "transient_auc_data.plot(kind='box')"
   ]
  },
  {
   "cell_type": "markdown",
   "metadata": {},
   "source": [
    "## Calculating normalized AUC on the transients during running vs. non-running.\n",
    "### Total area under curve of transients during interval normalized to length of interval"
   ]
  },
  {
   "cell_type": "code",
   "execution_count": 61,
   "metadata": {},
   "outputs": [
    {
     "data": {
      "text/plain": [
       "<matplotlib.axes._subplots.AxesSubplot at 0x7ffa84a2a850>"
      ]
     },
     "execution_count": 61,
     "metadata": {},
     "output_type": "execute_result"
    },
    {
     "data": {
      "image/png": "[encoded data removed]",
      "text/plain": [
       "<matplotlib.figure.Figure at 0x7ffa84a50250>"
      ]
     },
     "metadata": {},
     "output_type": "display_data"
    }
   ],
   "source": [
    "normtransient_auc_running = ia.population_activity_new(imExpGroup, \"norm transient auc\",\n",
    "                                                   interval='running')\n",
    "normtransient_auc_stationary = ia.population_activity_new(imExpGroup, \"norm transient auc\",\n",
    "                                                       interval='non-running')\n",
    "normtransient_auc_data = normtransient_auc_running.merge(normtransient_auc_stationary,\n",
    "                                                     on='trial')\n",
    "normtransient_auc_data.plot(kind='box')"
   ]
  },
  {
   "cell_type": "markdown",
   "metadata": {},
   "source": [
    "## Calculating AUC on the transients during running vs. non-running.\n",
    "### Total area under curve of transients that peak during interval"
   ]
  },
  {
   "cell_type": "code",
   "execution_count": 62,
   "metadata": {},
   "outputs": [
    {
     "data": {
      "text/plain": [
       "<matplotlib.axes._subplots.AxesSubplot at 0x7ffa842082d0>"
      ]
     },
     "execution_count": 62,
     "metadata": {},
     "output_type": "execute_result"
    },
    {
     "data": {
      "image/png": "[encoded data removed]",
      "text/plain": [
       "<matplotlib.figure.Figure at 0x7ffa83dde410>"
      ]
     },
     "metadata": {},
     "output_type": "display_data"
    }
   ],
   "source": [
    "transient_auc2_running = ia.population_activity_new(imExpGroup, \"transient auc2\",\n",
    "                                                   interval='running')\n",
    "transient_auc2_stationary = ia.population_activity_new(imExpGroup, \"transient auc2\",\n",
    "                                                       interval='non-running')\n",
    "transient_auc2_data = transient_auc2_running.merge(transient_auc2_stationary,\n",
    "                                                     on='trial')\n",
    "transient_auc2_data.plot(kind='box')"
   ]
  },
  {
   "cell_type": "markdown",
   "metadata": {},
   "source": [
    "## Calculating MEAN on the df/f during running vs. non-running."
   ]
  },
  {
   "cell_type": "code",
   "execution_count": 70,
   "metadata": {},
   "outputs": [
    {
     "data": {
      "text/plain": [
       "<matplotlib.axes._subplots.AxesSubplot at 0x7ffa83bc8550>"
      ]
     },
     "execution_count": 70,
     "metadata": {},
     "output_type": "execute_result"
    },
    {
     "data": {
      "image/png": "[encoded data removed]",
      "text/plain": [
       "<matplotlib.figure.Figure at 0x7ffa8461eed0>"
      ]
     },
     "metadata": {},
     "output_type": "display_data"
    }
   ],
   "source": [
    "mean_running = ia.population_activity_new(imExpGroup, \"mean\",\n",
    "                                                   interval='running')\n",
    "mean_stationary = ia.population_activity_new(imExpGroup, \"mean\",\n",
    "                                                       interval='non-running')\n",
    "mean_data = mean_running.merge(mean_stationary, on='trial')\n",
    "mean_data.plot(kind='box')"
   ]
  },
  {
   "cell_type": "markdown",
   "metadata": {},
   "source": [
    "## Calculating frequency of the transients running vs. non-running."
   ]
  },
  {
   "cell_type": "code",
   "execution_count": 71,
   "metadata": {},
   "outputs": [
    {
     "data": {
      "text/plain": [
       "<matplotlib.axes._subplots.AxesSubplot at 0x7ffa8590a210>"
      ]
     },
     "execution_count": 71,
     "metadata": {},
     "output_type": "execute_result"
    },
    {
     "data": {
      "image/png": "[encoded data removed]",
      "text/plain": [
       "<matplotlib.figure.Figure at 0x7ffa8787f690>"
      ]
     },
     "metadata": {},
     "output_type": "display_data"
    }
   ],
   "source": [
    "freq_running = ia.population_activity_new(imExpGroup, \"frequency\",\n",
    "                                                   interval='running')\n",
    "freq_stationary = ia.population_activity_new(imExpGroup, \"frequency\",\n",
    "                                                       interval='non-running')\n",
    "freq_data = freq_running.merge(freq_stationary, on='trial')\n",
    "freq_data.plot(kind='box')"
   ]
  },
  {
   "cell_type": "markdown",
   "metadata": {},
   "source": [
    "## Calculating number of transients during running vs. non-running."
   ]
  },
  {
   "cell_type": "code",
   "execution_count": 7,
   "metadata": {},
   "outputs": [
    {
     "data": {
      "text/plain": [
       "<matplotlib.axes._subplots.AxesSubplot at 0x7f836ab63fd0>"
      ]
     },
     "execution_count": 7,
     "metadata": {},
     "output_type": "execute_result"
    },
    {
     "data": {
      "image/png": "[encoded data removed]",
      "text/plain": [
       "<matplotlib.figure.Figure at 0x7f83b41635d0>"
      ]
     },
     "metadata": {},
     "output_type": "display_data"
    }
   ],
   "source": [
    "nTrans_running = ia.population_activity_new(imExpGroup, \"n transients\",\n",
    "                                                   interval='running')\n",
    "nTrans_stationary = ia.population_activity_new(imExpGroup, \"n transients\",\n",
    "                                                       interval='non-running')\n",
    "nTrans_data = nTrans_running.merge(nTrans_stationary, on='trial', how='inner')\n",
    "nTrans_data.plot(kind='box')"
   ]
  },
  {
   "cell_type": "code",
   "execution_count": 20,
   "metadata": {},
   "outputs": [
    {
     "data": {
      "text/html": [
       "<div>\n",
       "<style scoped>\n",
       "    .dataframe tbody tr th:only-of-type {\n",
       "        vertical-align: middle;\n",
       "    }\n",
       "\n",
       "    .dataframe tbody tr th {\n",
       "        vertical-align: top;\n",
       "    }\n",
       "\n",
       "    .dataframe thead th {\n",
       "        text-align: right;\n",
       "    }\n",
       "</style>\n",
       "<table border=\"1\" class=\"dataframe\">\n",
       "  <thead>\n",
       "    <tr style=\"text-align: right;\">\n",
       "      <th></th>\n",
       "      <th>trial</th>\n",
       "      <th>roi</th>\n",
       "      <th>value</th>\n",
       "    </tr>\n",
       "  </thead>\n",
       "  <tbody>\n",
       "    <tr>\n",
       "      <th>0</th>\n",
       "      <td>[]</td>\n",
       "      <td>&lt;ROI: label=1540946742427&gt;</td>\n",
       "      <td>14</td>\n",
       "    </tr>\n",
       "    <tr>\n",
       "      <th>1</th>\n",
       "      <td>[]</td>\n",
       "      <td>&lt;ROI: label=1540946755275&gt;</td>\n",
       "      <td>21</td>\n",
       "    </tr>\n",
       "    <tr>\n",
       "      <th>2</th>\n",
       "      <td>[]</td>\n",
       "      <td>&lt;ROI: label=1540946764969&gt;</td>\n",
       "      <td>8</td>\n",
       "    </tr>\n",
       "    <tr>\n",
       "      <th>3</th>\n",
       "      <td>[]</td>\n",
       "      <td>&lt;ROI: label=1540946776027&gt;</td>\n",
       "      <td>22</td>\n",
       "    </tr>\n",
       "    <tr>\n",
       "      <th>4</th>\n",
       "      <td>[]</td>\n",
       "      <td>&lt;ROI: label=1540946789346&gt;</td>\n",
       "      <td>20</td>\n",
       "    </tr>\n",
       "  </tbody>\n",
       "</table>\n",
       "</div>"
      ],
      "text/plain": [
       "  trial                         roi  value\n",
       "0    []  <ROI: label=1540946742427>     14\n",
       "1    []  <ROI: label=1540946755275>     21\n",
       "2    []  <ROI: label=1540946764969>      8\n",
       "3    []  <ROI: label=1540946776027>     22\n",
       "4    []  <ROI: label=1540946789346>     20"
      ]
     },
     "execution_count": 20,
     "metadata": {},
     "output_type": "execute_result"
    }
   ],
   "source": [
    "# copy dataset to play with\n",
    "testCopy = nTrans_running.copy()"
   ]
  },
  {
   "cell_type": "markdown",
   "metadata": {},
   "source": [
    "## This looks good!"
   ]
  },
  {
   "cell_type": "code",
   "execution_count": 77,
   "metadata": {},
   "outputs": [],
   "source": [
    "transientsRun = nTrans_running.copy()\n",
    "transientsStill = nTrans_stationary.copy()\n",
    "transientsRun['mouseID']=map(lambda id: id.parent.parent.get('mouseID'),\n",
    "                             transientsRun['trial'])\n",
    "transientsStill['mouseID']=map(lambda id: id.parent.parent.get('mouseID'),\n",
    "                              transientsStill['trial'])\n",
    "runstate = 'running'\n",
    "stillstate = 'standing'\n",
    "transientsRun['state']=runstate\n",
    "transientsStill['state']=stillstate"
   ]
  },
  {
   "cell_type": "code",
   "execution_count": 78,
   "metadata": {},
   "outputs": [
    {
     "data": {
      "text/html": [
       "<div>\n",
       "<style scoped>\n",
       "    .dataframe tbody tr th:only-of-type {\n",
       "        vertical-align: middle;\n",
       "    }\n",
       "\n",
       "    .dataframe tbody tr th {\n",
       "        vertical-align: top;\n",
       "    }\n",
       "\n",
       "    .dataframe thead th {\n",
       "        text-align: right;\n",
       "    }\n",
       "</style>\n",
       "<table border=\"1\" class=\"dataframe\">\n",
       "  <thead>\n",
       "    <tr style=\"text-align: right;\">\n",
       "      <th></th>\n",
       "      <th>trial</th>\n",
       "      <th>roi</th>\n",
       "      <th>value</th>\n",
       "      <th>mouseID</th>\n",
       "      <th>state</th>\n",
       "    </tr>\n",
       "  </thead>\n",
       "  <tbody>\n",
       "    <tr>\n",
       "      <th>737</th>\n",
       "      <td>[]</td>\n",
       "      <td>&lt;ROI: label=1544221712357&gt;</td>\n",
       "      <td>3</td>\n",
       "      <td>gtr6_b3</td>\n",
       "      <td>standing</td>\n",
       "    </tr>\n",
       "    <tr>\n",
       "      <th>738</th>\n",
       "      <td>[]</td>\n",
       "      <td>&lt;ROI: label=1544221752042&gt;</td>\n",
       "      <td>3</td>\n",
       "      <td>gtr6_b3</td>\n",
       "      <td>standing</td>\n",
       "    </tr>\n",
       "    <tr>\n",
       "      <th>739</th>\n",
       "      <td>[]</td>\n",
       "      <td>&lt;ROI: label=1544221769764&gt;</td>\n",
       "      <td>3</td>\n",
       "      <td>gtr6_b3</td>\n",
       "      <td>standing</td>\n",
       "    </tr>\n",
       "    <tr>\n",
       "      <th>740</th>\n",
       "      <td>[]</td>\n",
       "      <td>&lt;ROI: label=1544221782534&gt;</td>\n",
       "      <td>3</td>\n",
       "      <td>gtr6_b3</td>\n",
       "      <td>standing</td>\n",
       "    </tr>\n",
       "    <tr>\n",
       "      <th>741</th>\n",
       "      <td>[]</td>\n",
       "      <td>&lt;ROI: label=1544221793469&gt;</td>\n",
       "      <td>3</td>\n",
       "      <td>gtr6_b3</td>\n",
       "      <td>standing</td>\n",
       "    </tr>\n",
       "  </tbody>\n",
       "</table>\n",
       "</div>"
      ],
      "text/plain": [
       "    trial                         roi  value  mouseID     state\n",
       "737    []  <ROI: label=1544221712357>      3  gtr6_b3  standing\n",
       "738    []  <ROI: label=1544221752042>      3  gtr6_b3  standing\n",
       "739    []  <ROI: label=1544221769764>      3  gtr6_b3  standing\n",
       "740    []  <ROI: label=1544221782534>      3  gtr6_b3  standing\n",
       "741    []  <ROI: label=1544221793469>      3  gtr6_b3  standing"
      ]
     },
     "execution_count": 78,
     "metadata": {},
     "output_type": "execute_result"
    }
   ],
   "source": [
    "allTransients = pd.concat([transientsRun, transientsStill], axis=0)\n",
    "allTransients.tail()"
   ]
  },
  {
   "cell_type": "code",
   "execution_count": 79,
   "metadata": {},
   "outputs": [
    {
     "data": {
      "text/plain": [
       "<matplotlib.axes._subplots.AxesSubplot at 0x7f8365eb9290>"
      ]
     },
     "execution_count": 79,
     "metadata": {},
     "output_type": "execute_result"
    },
    {
     "data": {
      "image/png": "[encoded data removed]",
      "text/plain": [
       "<matplotlib.figure.Figure at 0x7f83691efd90>"
      ]
     },
     "metadata": {},
     "output_type": "display_data"
    }
   ],
   "source": [
    "sns.categorical.boxplot(x=allTransients['mouseID'], y=allTransients['value'],\n",
    "                        hue=\"state\", data=allTransients)"
   ]
  },
  {
   "cell_type": "code",
   "execution_count": 80,
   "metadata": {},
   "outputs": [
    {
     "data": {
      "text/plain": [
       "<matplotlib.axes._subplots.AxesSubplot at 0x7f8366750510>"
      ]
     },
     "execution_count": 80,
     "metadata": {},
     "output_type": "execute_result"
    },
    {
     "data": {
      "image/png": "[encoded data removed]",
      "text/plain": [
       "<matplotlib.figure.Figure at 0x7f83672be390>"
      ]
     },
     "metadata": {},
     "output_type": "display_data"
    }
   ],
   "source": [
    "sns.categorical.boxplot(x=allTransients['state'], y=allTransients['value'],\n",
    "                       data=allTransients)"
   ]
  },
  {
   "cell_type": "code",
   "execution_count": 100,
   "metadata": {},
   "outputs": [
    {
     "name": "stdout",
     "output_type": "stream",
     "text": [
      "Ttest_indResult(statistic=6.8546419690797382, pvalue=1.0456068732525915e-11)\n",
      "MannwhitneyuResult(statistic=227011.0, pvalue=1.5821730241076597e-09)\n"
     ]
    }
   ],
   "source": [
    "cat1 = transientsRun['value']\n",
    "cat2 = transientsStill['value']\n",
    "\n",
    "# T test on number of transients\n",
    "print(ttest_ind(cat1, cat2))\n",
    "\n",
    "# Mann-Whitney test (data is not normally distributed)\n",
    "print(mannwhitneyu(cat1, cat2))"
   ]
  },
  {
   "cell_type": "code",
   "execution_count": 130,
   "metadata": {},
   "outputs": [
    {
     "data": {
      "image/png": "[encoded data removed]",
      "text/plain": [
       "<matplotlib.figure.Figure at 0x7f83684f5b50>"
      ]
     },
     "metadata": {},
     "output_type": "display_data"
    }
   ],
   "source": [
    "context = sns.plotting_context(context='paper', font_scale=1)\n",
    "style = sns.axes_style(style='whitegrid')\n",
    "color = sns.color_palette(palette='muted')\n",
    "sns.set(context, style, color)\n",
    "plt.figure(figsize=(2,3))\n",
    "ax = sns.categorical.boxplot(x=allTransients['state'], y=allTransients['value'],\n",
    "                       data=allTransients)\n",
    "ax.set(ylabel=\"number of transients\")\n",
    "ax.set_ylim(0,40)\n",
    "ax.set_yticks(ticks=[0,20,40])\n",
    "ax.grid(b=False)\n",
    "\n",
    "plt.savefig('/data/gergely/Summaries/_raphe/locomotion/gtr6Cohort_numTransients.pdf',\n",
    "            dpi=300, format='pdf', transparent=True,)"
   ]
  },
  {
   "cell_type": "code",
   "execution_count": 124,
   "metadata": {},
   "outputs": [
    {
     "data": {
      "text/plain": [
       "u'/home/gergely/code/analysis/analysis-scripts'"
      ]
     },
     "execution_count": 124,
     "metadata": {},
     "output_type": "execute_result"
    }
   ],
   "source": [
    "pwd"
   ]
  },
  {
   "cell_type": "code",
   "execution_count": 23,
   "metadata": {},
   "outputs": [],
   "source": [
    "trial1 = testCopy['trial'][0]"
   ]
  },
  {
   "cell_type": "code",
   "execution_count": 37,
   "metadata": {},
   "outputs": [
    {
     "data": {
      "text/plain": [
       "'gtr6_a1'"
      ]
     },
     "execution_count": 37,
     "metadata": {},
     "output_type": "execute_result"
    }
   ],
   "source": [
    "trial1.parent.parent.get('mouseID')"
   ]
  },
  {
   "cell_type": "code",
   "execution_count": 39,
   "metadata": {},
   "outputs": [],
   "source": [
    "testCopy['mouseID']=map(lambda id: id.parent.parent.get('mouseID'), testCopy['trial'])"
   ]
  },
  {
   "cell_type": "code",
   "execution_count": 47,
   "metadata": {},
   "outputs": [],
   "source": [
    "# testCopy.rename(columns={'value':'running_value'}, inplace=True)"
   ]
  },
  {
   "cell_type": "code",
   "execution_count": 59,
   "metadata": {},
   "outputs": [],
   "source": [
    "state = 'runnig'\n",
    "testCopy['state']=state"
   ]
  },
  {
   "cell_type": "code",
   "execution_count": 60,
   "metadata": {},
   "outputs": [
    {
     "data": {
      "text/html": [
       "<div>\n",
       "<style scoped>\n",
       "    .dataframe tbody tr th:only-of-type {\n",
       "        vertical-align: middle;\n",
       "    }\n",
       "\n",
       "    .dataframe tbody tr th {\n",
       "        vertical-align: top;\n",
       "    }\n",
       "\n",
       "    .dataframe thead th {\n",
       "        text-align: right;\n",
       "    }\n",
       "</style>\n",
       "<table border=\"1\" class=\"dataframe\">\n",
       "  <thead>\n",
       "    <tr style=\"text-align: right;\">\n",
       "      <th></th>\n",
       "      <th>trial</th>\n",
       "      <th>roi</th>\n",
       "      <th>running_value</th>\n",
       "      <th>mouseID</th>\n",
       "      <th>state</th>\n",
       "    </tr>\n",
       "  </thead>\n",
       "  <tbody>\n",
       "    <tr>\n",
       "      <th>0</th>\n",
       "      <td>[]</td>\n",
       "      <td>&lt;ROI: label=1540946742427&gt;</td>\n",
       "      <td>14</td>\n",
       "      <td>gtr6_a1</td>\n",
       "      <td>runnig</td>\n",
       "    </tr>\n",
       "    <tr>\n",
       "      <th>1</th>\n",
       "      <td>[]</td>\n",
       "      <td>&lt;ROI: label=1540946755275&gt;</td>\n",
       "      <td>21</td>\n",
       "      <td>gtr6_a1</td>\n",
       "      <td>runnig</td>\n",
       "    </tr>\n",
       "    <tr>\n",
       "      <th>2</th>\n",
       "      <td>[]</td>\n",
       "      <td>&lt;ROI: label=1540946764969&gt;</td>\n",
       "      <td>8</td>\n",
       "      <td>gtr6_a1</td>\n",
       "      <td>runnig</td>\n",
       "    </tr>\n",
       "    <tr>\n",
       "      <th>3</th>\n",
       "      <td>[]</td>\n",
       "      <td>&lt;ROI: label=1540946776027&gt;</td>\n",
       "      <td>22</td>\n",
       "      <td>gtr6_a1</td>\n",
       "      <td>runnig</td>\n",
       "    </tr>\n",
       "    <tr>\n",
       "      <th>4</th>\n",
       "      <td>[]</td>\n",
       "      <td>&lt;ROI: label=1540946789346&gt;</td>\n",
       "      <td>20</td>\n",
       "      <td>gtr6_a1</td>\n",
       "      <td>runnig</td>\n",
       "    </tr>\n",
       "    <tr>\n",
       "      <th>5</th>\n",
       "      <td>[]</td>\n",
       "      <td>&lt;ROI: label=1540946807009&gt;</td>\n",
       "      <td>2</td>\n",
       "      <td>gtr6_a1</td>\n",
       "      <td>runnig</td>\n",
       "    </tr>\n",
       "    <tr>\n",
       "      <th>6</th>\n",
       "      <td>[]</td>\n",
       "      <td>&lt;ROI: label=1540946867864&gt;</td>\n",
       "      <td>3</td>\n",
       "      <td>gtr6_a1</td>\n",
       "      <td>runnig</td>\n",
       "    </tr>\n",
       "    <tr>\n",
       "      <th>7</th>\n",
       "      <td>[]</td>\n",
       "      <td>&lt;ROI: label=1540946882001&gt;</td>\n",
       "      <td>10</td>\n",
       "      <td>gtr6_a1</td>\n",
       "      <td>runnig</td>\n",
       "    </tr>\n",
       "    <tr>\n",
       "      <th>8</th>\n",
       "      <td>[]</td>\n",
       "      <td>&lt;ROI: label=1540946901546&gt;</td>\n",
       "      <td>4</td>\n",
       "      <td>gtr6_a1</td>\n",
       "      <td>runnig</td>\n",
       "    </tr>\n",
       "    <tr>\n",
       "      <th>9</th>\n",
       "      <td>[]</td>\n",
       "      <td>&lt;ROI: label=1540946932292&gt;</td>\n",
       "      <td>10</td>\n",
       "      <td>gtr6_a1</td>\n",
       "      <td>runnig</td>\n",
       "    </tr>\n",
       "    <tr>\n",
       "      <th>10</th>\n",
       "      <td>[]</td>\n",
       "      <td>&lt;ROI: label=1540946942625&gt;</td>\n",
       "      <td>24</td>\n",
       "      <td>gtr6_a1</td>\n",
       "      <td>runnig</td>\n",
       "    </tr>\n",
       "    <tr>\n",
       "      <th>11</th>\n",
       "      <td>[]</td>\n",
       "      <td>&lt;ROI: label=1540946968743&gt;</td>\n",
       "      <td>22</td>\n",
       "      <td>gtr6_a1</td>\n",
       "      <td>runnig</td>\n",
       "    </tr>\n",
       "    <tr>\n",
       "      <th>12</th>\n",
       "      <td>[]</td>\n",
       "      <td>&lt;ROI: label=1540947017915&gt;</td>\n",
       "      <td>19</td>\n",
       "      <td>gtr6_a1</td>\n",
       "      <td>runnig</td>\n",
       "    </tr>\n",
       "    <tr>\n",
       "      <th>13</th>\n",
       "      <td>[]</td>\n",
       "      <td>&lt;ROI: label=1540947036028&gt;</td>\n",
       "      <td>19</td>\n",
       "      <td>gtr6_a1</td>\n",
       "      <td>runnig</td>\n",
       "    </tr>\n",
       "    <tr>\n",
       "      <th>14</th>\n",
       "      <td>[]</td>\n",
       "      <td>&lt;ROI: label=1540947080139&gt;</td>\n",
       "      <td>6</td>\n",
       "      <td>gtr6_a1</td>\n",
       "      <td>runnig</td>\n",
       "    </tr>\n",
       "    <tr>\n",
       "      <th>15</th>\n",
       "      <td>[]</td>\n",
       "      <td>&lt;ROI: label=1540947092362&gt;</td>\n",
       "      <td>0</td>\n",
       "      <td>gtr6_a1</td>\n",
       "      <td>runnig</td>\n",
       "    </tr>\n",
       "    <tr>\n",
       "      <th>16</th>\n",
       "      <td>[]</td>\n",
       "      <td>&lt;ROI: label=1540947114082&gt;</td>\n",
       "      <td>2</td>\n",
       "      <td>gtr6_a1</td>\n",
       "      <td>runnig</td>\n",
       "    </tr>\n",
       "    <tr>\n",
       "      <th>17</th>\n",
       "      <td>[]</td>\n",
       "      <td>&lt;ROI: label=1540947194742&gt;</td>\n",
       "      <td>2</td>\n",
       "      <td>gtr6_a1</td>\n",
       "      <td>runnig</td>\n",
       "    </tr>\n",
       "    <tr>\n",
       "      <th>18</th>\n",
       "      <td>[]</td>\n",
       "      <td>&lt;ROI: label=1541472057702&gt;</td>\n",
       "      <td>4</td>\n",
       "      <td>gtr6_a5</td>\n",
       "      <td>runnig</td>\n",
       "    </tr>\n",
       "    <tr>\n",
       "      <th>19</th>\n",
       "      <td>[]</td>\n",
       "      <td>&lt;ROI: label=1541472128883&gt;</td>\n",
       "      <td>9</td>\n",
       "      <td>gtr6_a5</td>\n",
       "      <td>runnig</td>\n",
       "    </tr>\n",
       "    <tr>\n",
       "      <th>20</th>\n",
       "      <td>[]</td>\n",
       "      <td>&lt;ROI: label=1541472242995&gt;</td>\n",
       "      <td>21</td>\n",
       "      <td>gtr6_a5</td>\n",
       "      <td>runnig</td>\n",
       "    </tr>\n",
       "    <tr>\n",
       "      <th>21</th>\n",
       "      <td>[]</td>\n",
       "      <td>&lt;ROI: label=1541472305140&gt;</td>\n",
       "      <td>3</td>\n",
       "      <td>gtr6_a5</td>\n",
       "      <td>runnig</td>\n",
       "    </tr>\n",
       "    <tr>\n",
       "      <th>22</th>\n",
       "      <td>[]</td>\n",
       "      <td>&lt;ROI: label=1541472360716&gt;</td>\n",
       "      <td>19</td>\n",
       "      <td>gtr6_a5</td>\n",
       "      <td>runnig</td>\n",
       "    </tr>\n",
       "    <tr>\n",
       "      <th>23</th>\n",
       "      <td>[]</td>\n",
       "      <td>&lt;ROI: label=1541472442652&gt;</td>\n",
       "      <td>0</td>\n",
       "      <td>gtr6_a5</td>\n",
       "      <td>runnig</td>\n",
       "    </tr>\n",
       "    <tr>\n",
       "      <th>24</th>\n",
       "      <td>[]</td>\n",
       "      <td>&lt;ROI: label=1541472504574&gt;</td>\n",
       "      <td>22</td>\n",
       "      <td>gtr6_a5</td>\n",
       "      <td>runnig</td>\n",
       "    </tr>\n",
       "    <tr>\n",
       "      <th>25</th>\n",
       "      <td>[]</td>\n",
       "      <td>&lt;ROI: label=1541472589541&gt;</td>\n",
       "      <td>2</td>\n",
       "      <td>gtr6_a5</td>\n",
       "      <td>runnig</td>\n",
       "    </tr>\n",
       "    <tr>\n",
       "      <th>26</th>\n",
       "      <td>[]</td>\n",
       "      <td>&lt;ROI: label=1541472836892&gt;</td>\n",
       "      <td>4</td>\n",
       "      <td>gtr6_a5</td>\n",
       "      <td>runnig</td>\n",
       "    </tr>\n",
       "    <tr>\n",
       "      <th>27</th>\n",
       "      <td>[]</td>\n",
       "      <td>&lt;ROI: label=1541472928956&gt;</td>\n",
       "      <td>1</td>\n",
       "      <td>gtr6_a5</td>\n",
       "      <td>runnig</td>\n",
       "    </tr>\n",
       "    <tr>\n",
       "      <th>28</th>\n",
       "      <td>[]</td>\n",
       "      <td>&lt;ROI: label=1541472987404&gt;</td>\n",
       "      <td>6</td>\n",
       "      <td>gtr6_a5</td>\n",
       "      <td>runnig</td>\n",
       "    </tr>\n",
       "    <tr>\n",
       "      <th>29</th>\n",
       "      <td>[]</td>\n",
       "      <td>&lt;ROI: label=1541473053364&gt;</td>\n",
       "      <td>2</td>\n",
       "      <td>gtr6_a5</td>\n",
       "      <td>runnig</td>\n",
       "    </tr>\n",
       "    <tr>\n",
       "      <th>...</th>\n",
       "      <td>...</td>\n",
       "      <td>...</td>\n",
       "      <td>...</td>\n",
       "      <td>...</td>\n",
       "      <td>...</td>\n",
       "    </tr>\n",
       "    <tr>\n",
       "      <th>712</th>\n",
       "      <td>[]</td>\n",
       "      <td>&lt;ROI: label=1544220806885&gt;</td>\n",
       "      <td>3</td>\n",
       "      <td>gtr6_b3</td>\n",
       "      <td>runnig</td>\n",
       "    </tr>\n",
       "    <tr>\n",
       "      <th>713</th>\n",
       "      <td>[]</td>\n",
       "      <td>&lt;ROI: label=1544220870088&gt;</td>\n",
       "      <td>0</td>\n",
       "      <td>gtr6_b3</td>\n",
       "      <td>runnig</td>\n",
       "    </tr>\n",
       "    <tr>\n",
       "      <th>714</th>\n",
       "      <td>[]</td>\n",
       "      <td>&lt;ROI: label=1544220885829&gt;</td>\n",
       "      <td>1</td>\n",
       "      <td>gtr6_b3</td>\n",
       "      <td>runnig</td>\n",
       "    </tr>\n",
       "    <tr>\n",
       "      <th>715</th>\n",
       "      <td>[]</td>\n",
       "      <td>&lt;ROI: label=1544220916365&gt;</td>\n",
       "      <td>2</td>\n",
       "      <td>gtr6_b3</td>\n",
       "      <td>runnig</td>\n",
       "    </tr>\n",
       "    <tr>\n",
       "      <th>716</th>\n",
       "      <td>[]</td>\n",
       "      <td>&lt;ROI: label=1544220936405&gt;</td>\n",
       "      <td>5</td>\n",
       "      <td>gtr6_b3</td>\n",
       "      <td>runnig</td>\n",
       "    </tr>\n",
       "    <tr>\n",
       "      <th>717</th>\n",
       "      <td>[]</td>\n",
       "      <td>&lt;ROI: label=1544220950014&gt;</td>\n",
       "      <td>1</td>\n",
       "      <td>gtr6_b3</td>\n",
       "      <td>runnig</td>\n",
       "    </tr>\n",
       "    <tr>\n",
       "      <th>718</th>\n",
       "      <td>[]</td>\n",
       "      <td>&lt;ROI: label=1544220961480&gt;</td>\n",
       "      <td>1</td>\n",
       "      <td>gtr6_b3</td>\n",
       "      <td>runnig</td>\n",
       "    </tr>\n",
       "    <tr>\n",
       "      <th>719</th>\n",
       "      <td>[]</td>\n",
       "      <td>&lt;ROI: label=1544220982695&gt;</td>\n",
       "      <td>1</td>\n",
       "      <td>gtr6_b3</td>\n",
       "      <td>runnig</td>\n",
       "    </tr>\n",
       "    <tr>\n",
       "      <th>720</th>\n",
       "      <td>[]</td>\n",
       "      <td>&lt;ROI: label=1544220999357&gt;</td>\n",
       "      <td>1</td>\n",
       "      <td>gtr6_b3</td>\n",
       "      <td>runnig</td>\n",
       "    </tr>\n",
       "    <tr>\n",
       "      <th>721</th>\n",
       "      <td>[]</td>\n",
       "      <td>&lt;ROI: label=1544221026229&gt;</td>\n",
       "      <td>1</td>\n",
       "      <td>gtr6_b3</td>\n",
       "      <td>runnig</td>\n",
       "    </tr>\n",
       "    <tr>\n",
       "      <th>722</th>\n",
       "      <td>[]</td>\n",
       "      <td>&lt;ROI: label=1544221048391&gt;</td>\n",
       "      <td>2</td>\n",
       "      <td>gtr6_b3</td>\n",
       "      <td>runnig</td>\n",
       "    </tr>\n",
       "    <tr>\n",
       "      <th>723</th>\n",
       "      <td>[]</td>\n",
       "      <td>&lt;ROI: label=1544221102382&gt;</td>\n",
       "      <td>0</td>\n",
       "      <td>gtr6_b3</td>\n",
       "      <td>runnig</td>\n",
       "    </tr>\n",
       "    <tr>\n",
       "      <th>724</th>\n",
       "      <td>[]</td>\n",
       "      <td>&lt;ROI: label=1544221120823&gt;</td>\n",
       "      <td>1</td>\n",
       "      <td>gtr6_b3</td>\n",
       "      <td>runnig</td>\n",
       "    </tr>\n",
       "    <tr>\n",
       "      <th>725</th>\n",
       "      <td>[]</td>\n",
       "      <td>&lt;ROI: label=1544221157632&gt;</td>\n",
       "      <td>1</td>\n",
       "      <td>gtr6_b3</td>\n",
       "      <td>runnig</td>\n",
       "    </tr>\n",
       "    <tr>\n",
       "      <th>726</th>\n",
       "      <td>[]</td>\n",
       "      <td>&lt;ROI: label=1544221235692&gt;</td>\n",
       "      <td>0</td>\n",
       "      <td>gtr6_b3</td>\n",
       "      <td>runnig</td>\n",
       "    </tr>\n",
       "    <tr>\n",
       "      <th>727</th>\n",
       "      <td>[]</td>\n",
       "      <td>&lt;ROI: label=1544221292188&gt;</td>\n",
       "      <td>3</td>\n",
       "      <td>gtr6_b3</td>\n",
       "      <td>runnig</td>\n",
       "    </tr>\n",
       "    <tr>\n",
       "      <th>728</th>\n",
       "      <td>[]</td>\n",
       "      <td>&lt;ROI: label=1544221310289&gt;</td>\n",
       "      <td>2</td>\n",
       "      <td>gtr6_b3</td>\n",
       "      <td>runnig</td>\n",
       "    </tr>\n",
       "    <tr>\n",
       "      <th>729</th>\n",
       "      <td>[]</td>\n",
       "      <td>&lt;ROI: label=1544221416109&gt;</td>\n",
       "      <td>1</td>\n",
       "      <td>gtr6_b3</td>\n",
       "      <td>runnig</td>\n",
       "    </tr>\n",
       "    <tr>\n",
       "      <th>730</th>\n",
       "      <td>[]</td>\n",
       "      <td>&lt;ROI: label=1544221486223&gt;</td>\n",
       "      <td>2</td>\n",
       "      <td>gtr6_b3</td>\n",
       "      <td>runnig</td>\n",
       "    </tr>\n",
       "    <tr>\n",
       "      <th>731</th>\n",
       "      <td>[]</td>\n",
       "      <td>&lt;ROI: label=1544221499700&gt;</td>\n",
       "      <td>1</td>\n",
       "      <td>gtr6_b3</td>\n",
       "      <td>runnig</td>\n",
       "    </tr>\n",
       "    <tr>\n",
       "      <th>732</th>\n",
       "      <td>[]</td>\n",
       "      <td>&lt;ROI: label=1544221549736&gt;</td>\n",
       "      <td>3</td>\n",
       "      <td>gtr6_b3</td>\n",
       "      <td>runnig</td>\n",
       "    </tr>\n",
       "    <tr>\n",
       "      <th>733</th>\n",
       "      <td>[]</td>\n",
       "      <td>&lt;ROI: label=1544221578105&gt;</td>\n",
       "      <td>1</td>\n",
       "      <td>gtr6_b3</td>\n",
       "      <td>runnig</td>\n",
       "    </tr>\n",
       "    <tr>\n",
       "      <th>734</th>\n",
       "      <td>[]</td>\n",
       "      <td>&lt;ROI: label=1544221646349&gt;</td>\n",
       "      <td>0</td>\n",
       "      <td>gtr6_b3</td>\n",
       "      <td>runnig</td>\n",
       "    </tr>\n",
       "    <tr>\n",
       "      <th>735</th>\n",
       "      <td>[]</td>\n",
       "      <td>&lt;ROI: label=1544221667062&gt;</td>\n",
       "      <td>2</td>\n",
       "      <td>gtr6_b3</td>\n",
       "      <td>runnig</td>\n",
       "    </tr>\n",
       "    <tr>\n",
       "      <th>736</th>\n",
       "      <td>[]</td>\n",
       "      <td>&lt;ROI: label=1544221692122&gt;</td>\n",
       "      <td>0</td>\n",
       "      <td>gtr6_b3</td>\n",
       "      <td>runnig</td>\n",
       "    </tr>\n",
       "    <tr>\n",
       "      <th>737</th>\n",
       "      <td>[]</td>\n",
       "      <td>&lt;ROI: label=1544221712357&gt;</td>\n",
       "      <td>0</td>\n",
       "      <td>gtr6_b3</td>\n",
       "      <td>runnig</td>\n",
       "    </tr>\n",
       "    <tr>\n",
       "      <th>738</th>\n",
       "      <td>[]</td>\n",
       "      <td>&lt;ROI: label=1544221752042&gt;</td>\n",
       "      <td>1</td>\n",
       "      <td>gtr6_b3</td>\n",
       "      <td>runnig</td>\n",
       "    </tr>\n",
       "    <tr>\n",
       "      <th>739</th>\n",
       "      <td>[]</td>\n",
       "      <td>&lt;ROI: label=1544221769764&gt;</td>\n",
       "      <td>0</td>\n",
       "      <td>gtr6_b3</td>\n",
       "      <td>runnig</td>\n",
       "    </tr>\n",
       "    <tr>\n",
       "      <th>740</th>\n",
       "      <td>[]</td>\n",
       "      <td>&lt;ROI: label=1544221782534&gt;</td>\n",
       "      <td>0</td>\n",
       "      <td>gtr6_b3</td>\n",
       "      <td>runnig</td>\n",
       "    </tr>\n",
       "    <tr>\n",
       "      <th>741</th>\n",
       "      <td>[]</td>\n",
       "      <td>&lt;ROI: label=1544221793469&gt;</td>\n",
       "      <td>0</td>\n",
       "      <td>gtr6_b3</td>\n",
       "      <td>runnig</td>\n",
       "    </tr>\n",
       "  </tbody>\n",
       "</table>\n",
       "<p>742 rows × 5 columns</p>\n",
       "</div>"
      ],
      "text/plain": [
       "    trial                         roi  running_value  mouseID   state\n",
       "0      []  <ROI: label=1540946742427>             14  gtr6_a1  runnig\n",
       "1      []  <ROI: label=1540946755275>             21  gtr6_a1  runnig\n",
       "2      []  <ROI: label=1540946764969>              8  gtr6_a1  runnig\n",
       "3      []  <ROI: label=1540946776027>             22  gtr6_a1  runnig\n",
       "4      []  <ROI: label=1540946789346>             20  gtr6_a1  runnig\n",
       "5      []  <ROI: label=1540946807009>              2  gtr6_a1  runnig\n",
       "6      []  <ROI: label=1540946867864>              3  gtr6_a1  runnig\n",
       "7      []  <ROI: label=1540946882001>             10  gtr6_a1  runnig\n",
       "8      []  <ROI: label=1540946901546>              4  gtr6_a1  runnig\n",
       "9      []  <ROI: label=1540946932292>             10  gtr6_a1  runnig\n",
       "10     []  <ROI: label=1540946942625>             24  gtr6_a1  runnig\n",
       "11     []  <ROI: label=1540946968743>             22  gtr6_a1  runnig\n",
       "12     []  <ROI: label=1540947017915>             19  gtr6_a1  runnig\n",
       "13     []  <ROI: label=1540947036028>             19  gtr6_a1  runnig\n",
       "14     []  <ROI: label=1540947080139>              6  gtr6_a1  runnig\n",
       "15     []  <ROI: label=1540947092362>              0  gtr6_a1  runnig\n",
       "16     []  <ROI: label=1540947114082>              2  gtr6_a1  runnig\n",
       "17     []  <ROI: label=1540947194742>              2  gtr6_a1  runnig\n",
       "18     []  <ROI: label=1541472057702>              4  gtr6_a5  runnig\n",
       "19     []  <ROI: label=1541472128883>              9  gtr6_a5  runnig\n",
       "20     []  <ROI: label=1541472242995>             21  gtr6_a5  runnig\n",
       "21     []  <ROI: label=1541472305140>              3  gtr6_a5  runnig\n",
       "22     []  <ROI: label=1541472360716>             19  gtr6_a5  runnig\n",
       "23     []  <ROI: label=1541472442652>              0  gtr6_a5  runnig\n",
       "24     []  <ROI: label=1541472504574>             22  gtr6_a5  runnig\n",
       "25     []  <ROI: label=1541472589541>              2  gtr6_a5  runnig\n",
       "26     []  <ROI: label=1541472836892>              4  gtr6_a5  runnig\n",
       "27     []  <ROI: label=1541472928956>              1  gtr6_a5  runnig\n",
       "28     []  <ROI: label=1541472987404>              6  gtr6_a5  runnig\n",
       "29     []  <ROI: label=1541473053364>              2  gtr6_a5  runnig\n",
       "..    ...                         ...            ...      ...     ...\n",
       "712    []  <ROI: label=1544220806885>              3  gtr6_b3  runnig\n",
       "713    []  <ROI: label=1544220870088>              0  gtr6_b3  runnig\n",
       "714    []  <ROI: label=1544220885829>              1  gtr6_b3  runnig\n",
       "715    []  <ROI: label=1544220916365>              2  gtr6_b3  runnig\n",
       "716    []  <ROI: label=1544220936405>              5  gtr6_b3  runnig\n",
       "717    []  <ROI: label=1544220950014>              1  gtr6_b3  runnig\n",
       "718    []  <ROI: label=1544220961480>              1  gtr6_b3  runnig\n",
       "719    []  <ROI: label=1544220982695>              1  gtr6_b3  runnig\n",
       "720    []  <ROI: label=1544220999357>              1  gtr6_b3  runnig\n",
       "721    []  <ROI: label=1544221026229>              1  gtr6_b3  runnig\n",
       "722    []  <ROI: label=1544221048391>              2  gtr6_b3  runnig\n",
       "723    []  <ROI: label=1544221102382>              0  gtr6_b3  runnig\n",
       "724    []  <ROI: label=1544221120823>              1  gtr6_b3  runnig\n",
       "725    []  <ROI: label=1544221157632>              1  gtr6_b3  runnig\n",
       "726    []  <ROI: label=1544221235692>              0  gtr6_b3  runnig\n",
       "727    []  <ROI: label=1544221292188>              3  gtr6_b3  runnig\n",
       "728    []  <ROI: label=1544221310289>              2  gtr6_b3  runnig\n",
       "729    []  <ROI: label=1544221416109>              1  gtr6_b3  runnig\n",
       "730    []  <ROI: label=1544221486223>              2  gtr6_b3  runnig\n",
       "731    []  <ROI: label=1544221499700>              1  gtr6_b3  runnig\n",
       "732    []  <ROI: label=1544221549736>              3  gtr6_b3  runnig\n",
       "733    []  <ROI: label=1544221578105>              1  gtr6_b3  runnig\n",
       "734    []  <ROI: label=1544221646349>              0  gtr6_b3  runnig\n",
       "735    []  <ROI: label=1544221667062>              2  gtr6_b3  runnig\n",
       "736    []  <ROI: label=1544221692122>              0  gtr6_b3  runnig\n",
       "737    []  <ROI: label=1544221712357>              0  gtr6_b3  runnig\n",
       "738    []  <ROI: label=1544221752042>              1  gtr6_b3  runnig\n",
       "739    []  <ROI: label=1544221769764>              0  gtr6_b3  runnig\n",
       "740    []  <ROI: label=1544221782534>              0  gtr6_b3  runnig\n",
       "741    []  <ROI: label=1544221793469>              0  gtr6_b3  runnig\n",
       "\n",
       "[742 rows x 5 columns]"
      ]
     },
     "execution_count": 60,
     "metadata": {},
     "output_type": "execute_result"
    }
   ],
   "source": [
    "testCopy"
   ]
  },
  {
   "cell_type": "code",
   "execution_count": 55,
   "metadata": {},
   "outputs": [
    {
     "data": {
      "text/plain": [
       "mouseID\n",
       "gtr6_a1    Axes(0.125,0.125;0.775x0.775)\n",
       "gtr6_a3    Axes(0.125,0.125;0.775x0.775)\n",
       "gtr6_a4    Axes(0.125,0.125;0.775x0.775)\n",
       "gtr6_a5    Axes(0.125,0.125;0.775x0.775)\n",
       "gtr6_b1    Axes(0.125,0.125;0.775x0.775)\n",
       "gtr6_b2    Axes(0.125,0.125;0.775x0.775)\n",
       "gtr6_b3    Axes(0.125,0.125;0.775x0.775)\n",
       "Name: running_value, dtype: object"
      ]
     },
     "execution_count": 55,
     "metadata": {},
     "output_type": "execute_result"
    },
    {
     "data": {
      "image/png": "[encoded data removed]",
      "text/plain": [
       "<matplotlib.figure.Figure at 0x7f83677402d0>"
      ]
     },
     "metadata": {},
     "output_type": "display_data"
    }
   ],
   "source": [
    "test = testCopy.set_index('mouseID')\n",
    "test.groupby('mouseID')['running_value'].plot(kind='box')"
   ]
  },
  {
   "cell_type": "code",
   "execution_count": 46,
   "metadata": {},
   "outputs": [
    {
     "data": {
      "text/plain": [
       "<matplotlib.axes._subplots.AxesSubplot at 0x7f8368c7cb50>"
      ]
     },
     "execution_count": 46,
     "metadata": {},
     "output_type": "execute_result"
    },
    {
     "data": {
      "image/png": "[encoded data removed]",
      "text/plain": [
       "<matplotlib.figure.Figure at 0x7f83689ec1d0>"
      ]
     },
     "metadata": {},
     "output_type": "display_data"
    }
   ],
   "source": [
    "sns.categorical.boxplot(x=testCopy['mouseID'], y=testCopy['value'])"
   ]
  },
  {
   "cell_type": "code",
   "execution_count": 15,
   "metadata": {},
   "outputs": [
    {
     "data": {
      "text/plain": [
       "<  Trial: gtr6_a1, filename = /data/gergely/BehaviorData/gtr6_a1/gtr6_a1_20180804190054.csv, time = 2018-08-04-19h00m54s>"
      ]
     },
     "execution_count": 15,
     "metadata": {},
     "output_type": "execute_result"
    }
   ],
   "source": [
    "nTrans_running[\"trial\"][1]"
   ]
  },
  {
   "cell_type": "code",
   "execution_count": 11,
   "metadata": {},
   "outputs": [
    {
     "data": {
      "text/html": [
       "<div>\n",
       "<style scoped>\n",
       "    .dataframe tbody tr th:only-of-type {\n",
       "        vertical-align: middle;\n",
       "    }\n",
       "\n",
       "    .dataframe tbody tr th {\n",
       "        vertical-align: top;\n",
       "    }\n",
       "\n",
       "    .dataframe thead th {\n",
       "        text-align: right;\n",
       "    }\n",
       "</style>\n",
       "<table border=\"1\" class=\"dataframe\">\n",
       "  <thead>\n",
       "    <tr style=\"text-align: right;\">\n",
       "      <th></th>\n",
       "      <th>value_x</th>\n",
       "      <th>value_y</th>\n",
       "    </tr>\n",
       "  </thead>\n",
       "  <tbody>\n",
       "    <tr>\n",
       "      <th>count</th>\n",
       "      <td>9716.000000</td>\n",
       "      <td>9716.000000</td>\n",
       "    </tr>\n",
       "    <tr>\n",
       "      <th>mean</th>\n",
       "      <td>5.522231</td>\n",
       "      <td>3.682277</td>\n",
       "    </tr>\n",
       "    <tr>\n",
       "      <th>std</th>\n",
       "      <td>6.934472</td>\n",
       "      <td>4.946239</td>\n",
       "    </tr>\n",
       "    <tr>\n",
       "      <th>min</th>\n",
       "      <td>0.000000</td>\n",
       "      <td>0.000000</td>\n",
       "    </tr>\n",
       "    <tr>\n",
       "      <th>25%</th>\n",
       "      <td>1.000000</td>\n",
       "      <td>0.000000</td>\n",
       "    </tr>\n",
       "    <tr>\n",
       "      <th>50%</th>\n",
       "      <td>3.000000</td>\n",
       "      <td>1.000000</td>\n",
       "    </tr>\n",
       "    <tr>\n",
       "      <th>75%</th>\n",
       "      <td>8.000000</td>\n",
       "      <td>6.000000</td>\n",
       "    </tr>\n",
       "    <tr>\n",
       "      <th>max</th>\n",
       "      <td>47.000000</td>\n",
       "      <td>30.000000</td>\n",
       "    </tr>\n",
       "  </tbody>\n",
       "</table>\n",
       "</div>"
      ],
      "text/plain": [
       "           value_x      value_y\n",
       "count  9716.000000  9716.000000\n",
       "mean      5.522231     3.682277\n",
       "std       6.934472     4.946239\n",
       "min       0.000000     0.000000\n",
       "25%       1.000000     0.000000\n",
       "50%       3.000000     1.000000\n",
       "75%       8.000000     6.000000\n",
       "max      47.000000    30.000000"
      ]
     },
     "execution_count": 11,
     "metadata": {},
     "output_type": "execute_result"
    }
   ],
   "source": [
    "nTrans_data.describe()\n",
    "# nTrans_data.tail()"
   ]
  },
  {
   "cell_type": "code",
   "execution_count": 10,
   "metadata": {},
   "outputs": [
    {
     "data": {
      "text/plain": [
       "trial    0\n",
       "roi      0\n",
       "value    0\n",
       "dtype: int64"
      ]
     },
     "execution_count": 10,
     "metadata": {},
     "output_type": "execute_result"
    }
   ],
   "source": [
    "nTrans_stationary.isna().sum()"
   ]
  },
  {
   "cell_type": "code",
   "execution_count": 84,
   "metadata": {},
   "outputs": [
    {
     "data": {
      "text/plain": [
       "<matplotlib.axes._subplots.AxesSubplot at 0x7ffa83976fd0>"
      ]
     },
     "execution_count": 84,
     "metadata": {},
     "output_type": "execute_result"
    },
    {
     "data": {
      "image/png": "[encoded data removed]",
      "text/plain": [
       "<matplotlib.figure.Figure at 0x7ffa838e5fd0>"
      ]
     },
     "metadata": {},
     "output_type": "display_data"
    }
   ],
   "source": [
    "sns.violinplot(nTrans_data[['value_x', 'value_y']])\n",
    "# plt.violinplot(nTrans_data[['value_x', 'value_y']])"
   ]
  },
  {
   "cell_type": "code",
   "execution_count": 8,
   "metadata": {},
   "outputs": [
    {
     "data": {
      "text/plain": [
       "Ttest_indResult(statistic=21.292451517141238, pvalue=1.824103078110937e-99)"
      ]
     },
     "execution_count": 8,
     "metadata": {},
     "output_type": "execute_result"
    }
   ],
   "source": [
    "# T test on number of transients\n",
    "cat1 = nTrans_data['value_x']\n",
    "cat2 = nTrans_data['value_y']\n",
    "\n",
    "ttest_ind(cat1, cat2)"
   ]
  },
  {
   "cell_type": "code",
   "execution_count": 9,
   "metadata": {},
   "outputs": [
    {
     "data": {
      "text/plain": [
       "MannwhitneyuResult(statistic=38802131.0, pvalue=3.849167718794144e-106)"
      ]
     },
     "execution_count": 9,
     "metadata": {},
     "output_type": "execute_result"
    }
   ],
   "source": [
    "# Mann-Whitney test (data is not normally distributed)\n",
    "mannwhitneyu(cat1, cat2)"
   ]
  },
  {
   "cell_type": "code",
   "execution_count": 92,
   "metadata": {},
   "outputs": [
    {
     "name": "stdout",
     "output_type": "stream",
     "text": [
      "9716\n",
      "9716\n"
     ]
    }
   ],
   "source": [
    "print(len(cat1))\n",
    "print(len(cat2))"
   ]
  },
  {
   "cell_type": "markdown",
   "metadata": {},
   "source": []
  },
  {
   "cell_type": "code",
   "execution_count": 68,
   "metadata": {},
   "outputs": [
    {
     "data": {
      "text/plain": [
       "<matplotlib.axes._subplots.AxesSubplot at 0x7ffa85dcb550>"
      ]
     },
     "execution_count": 68,
     "metadata": {},
     "output_type": "execute_result"
    },
    {
     "data": {
      "image/png": "[encoded data removed]",
      "text/plain": [
       "<matplotlib.figure.Figure at 0x7ffa83a9eb90>"
      ]
     },
     "metadata": {},
     "output_type": "display_data"
    }
   ],
   "source": [
    "sns.distplot(transient_auc2_running['value'], kde=True)"
   ]
  },
  {
   "cell_type": "code",
   "execution_count": 69,
   "metadata": {},
   "outputs": [
    {
     "data": {
      "text/plain": [
       "<matplotlib.axes._subplots.AxesSubplot at 0x7ffa844a6510>"
      ]
     },
     "execution_count": 69,
     "metadata": {},
     "output_type": "execute_result"
    },
    {
     "data": {
      "image/png": "[encoded data removed]",
      "text/plain": [
       "<matplotlib.figure.Figure at 0x7ffa845437d0>"
      ]
     },
     "metadata": {},
     "output_type": "display_data"
    }
   ],
   "source": [
    "sns.distplot(transient_auc2_stationary['value'], kde=True)"
   ]
  },
  {
   "cell_type": "markdown",
   "metadata": {},
   "source": [
    "### TTest stats on the data"
   ]
  },
  {
   "cell_type": "code",
   "execution_count": 40,
   "metadata": {},
   "outputs": [],
   "source": []
  },
  {
   "cell_type": "code",
   "execution_count": 52,
   "metadata": {},
   "outputs": [
    {
     "data": {
      "text/plain": [
       "Ttest_indResult(statistic=123.19668424807904, pvalue=0.0)"
      ]
     },
     "execution_count": 52,
     "metadata": {},
     "output_type": "execute_result"
    }
   ],
   "source": [
    "# on df/f signal\n",
    "cat1 = auc_data['value_x']\n",
    "cat2 = auc_data['value_y']\n",
    "\n",
    "ttest_ind(cat1, cat2)"
   ]
  },
  {
   "cell_type": "code",
   "execution_count": 57,
   "metadata": {},
   "outputs": [
    {
     "data": {
      "text/plain": [
       "9716"
      ]
     },
     "execution_count": 57,
     "metadata": {},
     "output_type": "execute_result"
    }
   ],
   "source": [
    "cat11 = transient_auc_data['value_x']\n",
    "cat22 = transient_auc_data['value_y']"
   ]
  },
  {
   "cell_type": "code",
   "execution_count": 54,
   "metadata": {},
   "outputs": [
    {
     "data": {
      "text/plain": [
       "Ttest_indResult(statistic=nan, pvalue=nan)"
      ]
     },
     "execution_count": 54,
     "metadata": {},
     "output_type": "execute_result"
    }
   ],
   "source": [
    "ttest_ind(cat11, cat22)"
   ]
  },
  {
   "cell_type": "code",
   "execution_count": null,
   "metadata": {},
   "outputs": [],
   "source": []
  }
 ],
 "metadata": {
  "kernelspec": {
   "display_name": "Python 2",
   "language": "python",
   "name": "python2"
  },
  "language_info": {
   "codemirror_mode": {
    "name": "ipython",
    "version": 2
   },
   "file_extension": ".py",
   "mimetype": "text/x-python",
   "name": "python",
   "nbconvert_exporter": "python",
   "pygments_lexer": "ipython2",
   "version": "2.7.15"
  }
 },
 "nbformat": 4,
 "nbformat_minor": 2
}
