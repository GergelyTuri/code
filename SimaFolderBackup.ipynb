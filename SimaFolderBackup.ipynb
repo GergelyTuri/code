{
 "cells": [
  {
   "cell_type": "markdown",
   "metadata": {},
   "source": [
    "### This script creates backup sima folders in the TSeries directories\n",
    "GT, 4/14/2020; v1.0, python3"
   ]
  },
  {
   "cell_type": "code",
   "execution_count": 1,
   "metadata": {},
   "outputs": [],
   "source": [
    "from glob import glob\n",
    "from os import path\n",
    "import shutil"
   ]
  },
  {
   "cell_type": "code",
   "execution_count": 25,
   "metadata": {},
   "outputs": [],
   "source": [
    "# path where the sima folders are located\n",
    "pathToSearch = '/data/gergely/invivo_DATA/mossy/gt3_94/'"
   ]
  },
  {
   "cell_type": "code",
   "execution_count": 26,
   "metadata": {},
   "outputs": [
    {
     "name": "stdout",
     "output_type": "stream",
     "text": [
      "number of sima folders: 8\n"
     ]
    }
   ],
   "source": [
    "# creating a list of the sima folders\n",
    "simaFolderList = glob(pathToSearch + '**/' '*.sima', recursive=True)\n",
    "print('number of sima folders:', len(simaFolderList))"
   ]
  },
  {
   "cell_type": "code",
   "execution_count": 27,
   "metadata": {},
   "outputs": [],
   "source": [
    "# creating a copy of the original Sima folder\n",
    "# FYI running multiple times will overwrite\n",
    "# the sima.bak and not append to it!\n",
    "\n",
    "for i in range(len(simaFolderList)):\n",
    "    destPath, bkupFolder = path.split(simaFolderList[i])\n",
    "#     print(destPath)\n",
    "#     print(bkupFolder)\n",
    "    destFolderName = bkupFolder+'.bak'\n",
    "#     print(destFolderName)\n",
    "    dest = shutil.copytree(simaFolderList[i],\n",
    "                           destPath+'/'+destFolderName)"
   ]
  },
  {
   "cell_type": "code",
   "execution_count": null,
   "metadata": {},
   "outputs": [],
   "source": []
  }
 ],
 "metadata": {
  "kernelspec": {
   "display_name": "Python 3",
   "language": "python",
   "name": "python3"
  },
  "language_info": {
   "codemirror_mode": {
    "name": "ipython",
    "version": 3
   },
   "file_extension": ".py",
   "mimetype": "text/x-python",
   "name": "python",
   "nbconvert_exporter": "python",
   "pygments_lexer": "ipython3",
   "version": "3.6.9"
  }
 },
 "nbformat": 4,
 "nbformat_minor": 2
}
