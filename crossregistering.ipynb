{
 "cells": [
  {
   "cell_type": "markdown",
   "metadata": {},
   "source": [
    "### This script is used to generate input files compatible with `CellReg`\n",
    "#### GT 4/2/2020 v0.0"
   ]
  },
  {
   "cell_type": "code",
   "execution_count": 2,
   "metadata": {},
   "outputs": [
    {
     "name": "stderr",
     "output_type": "stream",
     "text": [
      "/home/gergely/anaconda2/lib/python2.7/site-packages/h5py/__init__.py:36: RuntimeWarning: numpy.dtype size changed, may indicate binary incompatibility. Expected 96, got 88\n",
      "  from ._conv import register_converters as _register_converters\n",
      "/home/gergely/anaconda2/lib/python2.7/site-packages/h5py/__init__.py:45: RuntimeWarning: numpy.dtype size changed, may indicate binary incompatibility. Expected 96, got 88\n",
      "  from . import h5a, h5d, h5ds, h5f, h5fd, h5g, h5r, h5s, h5t, h5p, h5z\n",
      "/home/gergely/anaconda2/lib/python2.7/site-packages/h5py/_hl/group.py:22: RuntimeWarning: numpy.dtype size changed, may indicate binary incompatibility. Expected 96, got 88\n",
      "  from .. import h5g, h5i, h5o, h5r, h5t, h5l, h5p\n",
      "/home/gergely/anaconda2/lib/python2.7/site-packages/skimage/measure/_marching_cubes_lewiner.py:16: RuntimeWarning: numpy.dtype size changed, may indicate binary incompatibility. Expected 96, got 88\n",
      "  from . import _marching_cubes_lewiner_cy\n",
      "/home/gergely/anaconda2/lib/python2.7/site-packages/skimage/measure/_marching_cubes_classic.py:4: RuntimeWarning: numpy.dtype size changed, may indicate binary incompatibility. Expected 96, got 88\n",
      "  from . import _marching_cubes_classic_cy\n",
      "/home/gergely/anaconda2/lib/python2.7/site-packages/skimage/measure/_label.py:1: RuntimeWarning: numpy.dtype size changed, may indicate binary incompatibility. Expected 96, got 88\n",
      "  from ._ccomp import label_cython as clabel\n",
      "/home/gergely/anaconda2/lib/python2.7/site-packages/skimage/measure/pnpoly.py:1: RuntimeWarning: numpy.dtype size changed, may indicate binary incompatibility. Expected 96, got 88\n",
      "  from ._pnpoly import _grid_points_in_poly, _points_in_poly\n",
      "/home/gergely/anaconda2/lib/python2.7/site-packages/skimage/transform/hough_transform.py:4: RuntimeWarning: numpy.dtype size changed, may indicate binary incompatibility. Expected 96, got 88\n",
      "  from ._hough_transform import (_hough_circle,\n",
      "/home/gergely/anaconda2/lib/python2.7/site-packages/skimage/draw/draw.py:5: RuntimeWarning: numpy.dtype size changed, may indicate binary incompatibility. Expected 96, got 88\n",
      "  from ._draw import (_coords_inside_image, _line, _line_aa,\n",
      "/home/gergely/anaconda2/lib/python2.7/site-packages/skimage/transform/radon_transform.py:6: RuntimeWarning: numpy.dtype size changed, may indicate binary incompatibility\n",
      "  from ._warps_cy import _warp_fast\n",
      "/home/gergely/anaconda2/lib/python2.7/site-packages/skimage/transform/radon_transform.py:7: RuntimeWarning: numpy.dtype size changed, may indicate binary incompatibility\n",
      "  from ._radon_transform import sart_projection_update\n",
      "/home/gergely/anaconda2/lib/python2.7/site-packages/skimage/transform/seam_carving.py:1: RuntimeWarning: numpy.dtype size changed, may indicate binary incompatibility\n",
      "  from ._seam_carving import _seam_carve_v\n",
      "/home/gergely/anaconda2/lib/python2.7/site-packages/sklearn/utils/__init__.py:12: RuntimeWarning: numpy.dtype size changed, may indicate binary incompatibility. Expected 96, got 88\n",
      "  from .murmurhash import murmurhash3_32\n",
      "/home/gergely/anaconda2/lib/python2.7/site-packages/sklearn/utils/extmath.py:23: RuntimeWarning: numpy.dtype size changed, may indicate binary incompatibility. Expected 96, got 88\n",
      "  from ._logistic_sigmoid import _log_logistic_sigmoid\n",
      "/home/gergely/anaconda2/lib/python2.7/site-packages/sklearn/utils/extmath.py:25: RuntimeWarning: numpy.dtype size changed, may indicate binary incompatibility. Expected 96, got 88\n",
      "  from .sparsefuncs_fast import csr_row_norms\n",
      "/home/gergely/anaconda2/lib/python2.7/site-packages/sklearn/metrics/cluster/supervised.py:25: RuntimeWarning: numpy.dtype size changed, may indicate binary incompatibility. Expected 96, got 88\n",
      "  from .expected_mutual_info_fast import expected_mutual_information\n",
      "/home/gergely/anaconda2/lib/python2.7/site-packages/sklearn/metrics/pairwise.py:31: RuntimeWarning: numpy.dtype size changed, may indicate binary incompatibility. Expected 96, got 88\n",
      "  from .pairwise_fast import _chi2_kernel_fast, _sparse_manhattan\n",
      "/home/gergely/anaconda2/lib/python2.7/site-packages/sklearn/linear_model/base.py:35: RuntimeWarning: numpy.dtype size changed, may indicate binary incompatibility. Expected 96, got 88\n",
      "  from ..utils.seq_dataset import ArrayDataset, CSRDataset\n",
      "/home/gergely/anaconda2/lib/python2.7/site-packages/sklearn/linear_model/least_angle.py:23: RuntimeWarning: numpy.dtype size changed, may indicate binary incompatibility. Expected 96, got 88\n",
      "  from ..utils import arrayfuncs, as_float_array, check_X_y, deprecated\n",
      "/home/gergely/anaconda2/lib/python2.7/site-packages/sklearn/utils/random.py:10: RuntimeWarning: numpy.dtype size changed, may indicate binary incompatibility. Expected 96, got 88\n",
      "  from ._random import sample_without_replacement\n",
      "/home/gergely/anaconda2/lib/python2.7/site-packages/sklearn/linear_model/coordinate_descent.py:29: RuntimeWarning: numpy.dtype size changed, may indicate binary incompatibility. Expected 96, got 88\n",
      "  from . import cd_fast\n",
      "/home/gergely/anaconda2/lib/python2.7/site-packages/sklearn/linear_model/__init__.py:22: RuntimeWarning: numpy.dtype size changed, may indicate binary incompatibility. Expected 96, got 88\n",
      "  from .sgd_fast import Hinge, Log, ModifiedHuber, SquaredLoss, Huber\n",
      "/home/gergely/anaconda2/lib/python2.7/site-packages/sklearn/linear_model/sag.py:12: RuntimeWarning: numpy.dtype size changed, may indicate binary incompatibility. Expected 96, got 88\n",
      "  from .sag_fast import sag\n",
      "/home/gergely/anaconda2/lib/python2.7/site-packages/sklearn/svm/base.py:8: RuntimeWarning: numpy.dtype size changed, may indicate binary incompatibility. Expected 96, got 88\n",
      "  from . import libsvm, liblinear\n",
      "/home/gergely/anaconda2/lib/python2.7/site-packages/sklearn/svm/base.py:9: RuntimeWarning: numpy.dtype size changed, may indicate binary incompatibility. Expected 96, got 88\n",
      "  from . import libsvm_sparse\n",
      "/home/gergely/anaconda2/lib/python2.7/site-packages/sklearn/neighbors/__init__.py:6: RuntimeWarning: numpy.dtype size changed, may indicate binary incompatibility. Expected 96, got 88\n",
      "  from .ball_tree import BallTree\n",
      "/home/gergely/anaconda2/lib/python2.7/site-packages/sklearn/neighbors/__init__.py:7: RuntimeWarning: numpy.dtype size changed, may indicate binary incompatibility. Expected 96, got 88\n",
      "  from .kd_tree import KDTree\n",
      "/home/gergely/anaconda2/lib/python2.7/site-packages/sklearn/decomposition/online_lda.py:28: RuntimeWarning: numpy.dtype size changed, may indicate binary incompatibility. Expected 96, got 88\n",
      "  from ._online_lda import (mean_change, _dirichlet_expectation_1d,\n",
      "/home/gergely/anaconda2/lib/python2.7/site-packages/skimage/restoration/_denoise.py:6: RuntimeWarning: numpy.dtype size changed, may indicate binary incompatibility. Expected 96, got 88\n",
      "  from ..restoration._denoise_cy import _denoise_bilateral, _denoise_tv_bregman\n",
      "/home/gergely/anaconda2/lib/python2.7/site-packages/pywt/__init__.py:16: RuntimeWarning: numpy.dtype size changed, may indicate binary incompatibility. Expected 96, got 88\n",
      "  from ._extensions._pywt import *\n",
      "/home/gergely/anaconda2/lib/python2.7/site-packages/pywt/_swt.py:1: RuntimeWarning: numpy.dtype size changed, may indicate binary incompatibility. Expected 96, got 88\n",
      "  from ._extensions._swt import swt_max_level, swt as _swt, swt_axis as _swt_axis\n",
      "/home/gergely/anaconda2/lib/python2.7/site-packages/skimage/restoration/non_local_means.py:3: RuntimeWarning: numpy.dtype size changed, may indicate binary incompatibility. Expected 96, got 88\n",
      "  from ._nl_means_denoising import (\n",
      "/home/gergely/anaconda2/lib/python2.7/site-packages/skimage/filters/rank/generic.py:57: RuntimeWarning: numpy.dtype size changed, may indicate binary incompatibility\n",
      "  from . import generic_cy\n",
      "/home/gergely/anaconda2/lib/python2.7/site-packages/skimage/filters/rank/_percentile.py:27: RuntimeWarning: numpy.dtype size changed, may indicate binary incompatibility\n",
      "  from . import percentile_cy\n",
      "/home/gergely/anaconda2/lib/python2.7/site-packages/skimage/filters/rank/bilateral.py:29: RuntimeWarning: numpy.dtype size changed, may indicate binary incompatibility\n",
      "  from . import bilateral_cy\n",
      "/home/gergely/anaconda2/lib/python2.7/site-packages/pyfftw/__init__.py:16: RuntimeWarning: numpy.dtype size changed, may indicate binary incompatibility. Expected 96, got 88\n",
      "  from .pyfftw import (\n"
     ]
    }
   ],
   "source": [
    "%matplotlib inline\n",
    "import matplotlib.pyplot as plt\n",
    "import numpy as np\n",
    "import scipy as sp\n",
    "from scipy import io as sio\n",
    "import sima"
   ]
  },
  {
   "cell_type": "markdown",
   "metadata": {},
   "source": [
    "### Step 1. importing imaging data to Matlab"
   ]
  },
  {
   "cell_type": "code",
   "execution_count": 15,
   "metadata": {},
   "outputs": [
    {
     "data": {
      "text/plain": [
       "['ROIs', 'ROIs_binarized']"
      ]
     },
     "execution_count": 15,
     "metadata": {},
     "output_type": "execute_result"
    }
   ],
   "source": [
    "# importing an imaging dataset\n",
    "dataset = sima.ImagingDataset.load('/data/gergely/invivo_DATA/mossy/gtm4_1/10_23_hr1/TSeries-10232018-rf_A_d0s2-003/TSeries-10232018-rf_A_d0s2-003.sima/')\n",
    "dataset.ROIs.keys()"
   ]
  },
  {
   "cell_type": "code",
   "execution_count": 16,
   "metadata": {},
   "outputs": [
    {
     "name": "stdout",
     "output_type": "stream",
     "text": [
      "('number of cells:', 143)\n",
      "('type of rois:', <class 'sima.ROI.ROIList'>)\n",
      "('image shape', (508, 503))\n"
     ]
    }
   ],
   "source": [
    "# checking roi set\n",
    "rois = dataset.ROIs['ROIs']\n",
    "print('number of cells:', len(rois))\n",
    "print('type of rois:', type(rois))\n",
    "print('image shape', rois[0].__array__()[1].shape)"
   ]
  },
  {
   "cell_type": "code",
   "execution_count": 17,
   "metadata": {},
   "outputs": [
    {
     "name": "stdout",
     "output_type": "stream",
     "text": [
      "(143, 508, 503)\n"
     ]
    }
   ],
   "source": [
    "# converting all of the roi-s to a dict and saving them as .mat file \n",
    "roiArray = []\n",
    "for i in range(len(rois)):\n",
    "    roiDict = rois[i].todict(type='mask')\n",
    "    roiArray.append((roiDict['mask'][0]).toarray())\n",
    "roiArray = np.array(roiArray)\n",
    "print(roiArray.shape)\n",
    "matFileName = 'roiMask_d0_s2.mat'\n",
    "sio.savemat(matFileName, {'roiMasks': roiArray})"
   ]
  },
  {
   "cell_type": "markdown",
   "metadata": {},
   "source": [
    "This file now can be read by Matlab"
   ]
  },
  {
   "cell_type": "code",
   "execution_count": 7,
   "metadata": {},
   "outputs": [],
   "source": [
    "# converting a single roi to a dictionary and saving\n",
    "# it as a .mat file.\n",
    "roiDict = rois[100].todict(type='mask')\n",
    "inputDict = {roiDict['id']:(roiDict['mask'][0]).toarray()}\n",
    "matFileName = roiDict['id']+'_mask.mat'\n",
    "sio.savemat(matFileName, inputDict)"
   ]
  },
  {
   "cell_type": "code",
   "execution_count": 10,
   "metadata": {},
   "outputs": [
    {
     "data": {
      "image/png": "[encoded data removed]",
      "text/plain": [
       "<Figure size 864x432 with 3 Axes>"
      ]
     },
     "metadata": {},
     "output_type": "display_data"
    }
   ],
   "source": [
    "# plotting roi mask in matplotlib\n",
    "\n",
    "H = (rois[0].mask[0]).toarray()\n",
    "# H = roiDict['mask'][0].toarray()\n",
    "fig = plt.figure(figsize=(12, 6))\n",
    "\n",
    "ax = fig.add_subplot(111)\n",
    "ax.set_title('colorMap')\n",
    "plt.imshow(H)\n",
    "ax.set_aspect('equal')\n",
    "\n",
    "cax = fig.add_axes([0.12, 0.1, 0.78, 0.8])\n",
    "cax.get_xaxis().set_visible(False)\n",
    "cax.get_yaxis().set_visible(False)\n",
    "cax.patch.set_alpha(0)\n",
    "cax.set_frame_on(False)\n",
    "plt.colorbar(orientation='vertical')\n",
    "plt.show()"
   ]
  },
  {
   "cell_type": "markdown",
   "metadata": {},
   "source": [
    "TODO: add plotting function which plots all of the ROIs"
   ]
  },
  {
   "cell_type": "markdown",
   "metadata": {},
   "source": [
    "### Step 2. Importing the result `.mat` files to Python"
   ]
  },
  {
   "cell_type": "code",
   "execution_count": null,
   "metadata": {},
   "outputs": [],
   "source": []
  }
 ],
 "metadata": {
  "kernelspec": {
   "display_name": "Python 2",
   "language": "python",
   "name": "python2"
  },
  "language_info": {
   "codemirror_mode": {
    "name": "ipython",
    "version": 2
   },
   "file_extension": ".py",
   "mimetype": "text/x-python",
   "name": "python",
   "nbconvert_exporter": "python",
   "pygments_lexer": "ipython2",
   "version": "2.7.15"
  }
 },
 "nbformat": 4,
 "nbformat_minor": 2
}
