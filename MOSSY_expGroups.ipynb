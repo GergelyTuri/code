{
 "cells": [
  {
   "cell_type": "markdown",
   "metadata": {},
   "source": [
    "### compiling mossy mice exp groups"
   ]
  },
  {
   "cell_type": "code",
   "execution_count": 21,
   "metadata": {},
   "outputs": [],
   "source": [
    "import os\n",
    "from glob import glob\n",
    "\n",
    "import matplotlib as mpl\n",
    "import matplotlib.pyplot as plt\n",
    "import numpy as np \n",
    "import pandas as pd\n",
    "import lab.analysis as la\n",
    "from lab import Experiment, ExperimentSet, ExperimentGroup\n",
    "# from lab import database\n",
    "# import database\n",
    "from lab.analysis import calc_activity as ca\n",
    "from lab.analysis import imaging_analysis as ia\n",
    "# import VIP_common as vc\n",
    "# T statistics\n",
    "# from scipy.stats import ttest_ind, mannwhitneyu\n",
    "# import seaborn as sns\n",
    "# sns.set()\n",
    "# mpl.rcParams['pdf.fonttype'] = 42;\n",
    "# mpl.rcParams['ps.fonttype'] = 42;"
   ]
  },
  {
   "cell_type": "code",
   "execution_count": 29,
   "metadata": {},
   "outputs": [],
   "source": [
    "pathToSearch = '/data/gergely/invivo_DATA/mossy/drd2/'"
   ]
  },
  {
   "cell_type": "code",
   "execution_count": 33,
   "metadata": {},
   "outputs": [
    {
     "ename": "TypeError",
     "evalue": "glob() got an unexpected keyword argument 'recursive'",
     "output_type": "error",
     "traceback": [
      "\u001b[0;31m---------------------------------------------------------------------------\u001b[0m",
      "\u001b[0;31mTypeError\u001b[0m                                 Traceback (most recent call last)",
      "\u001b[0;32m<ipython-input-33-957bed0b8e0d>\u001b[0m in \u001b[0;36m<module>\u001b[0;34m()\u001b[0m\n\u001b[0;32m----> 1\u001b[0;31m \u001b[0msimaFolderList\u001b[0m \u001b[0;34m=\u001b[0m \u001b[0mglob\u001b[0m\u001b[0;34m(\u001b[0m\u001b[0mpathToSearch\u001b[0m \u001b[0;34m+\u001b[0m \u001b[0;34m'*.sima'\u001b[0m\u001b[0;34m,\u001b[0m \u001b[0mrecursive\u001b[0m\u001b[0;34m=\u001b[0m\u001b[0mTrue\u001b[0m\u001b[0;34m)\u001b[0m\u001b[0;34m\u001b[0m\u001b[0m\n\u001b[0m\u001b[1;32m      2\u001b[0m \u001b[0msimaFolderList\u001b[0m\u001b[0;34m\u001b[0m\u001b[0m\n",
      "\u001b[0;31mTypeError\u001b[0m: glob() got an unexpected keyword argument 'recursive'"
     ]
    }
   ],
   "source": [
    "simaFolderList = glob(pathToSearch + '*.sima', recursive=True)\n",
    "simaFolderList"
   ]
  },
  {
   "cell_type": "code",
   "execution_count": 6,
   "metadata": {},
   "outputs": [],
   "source": [
    "expSet = ExperimentSet('mossy.sql')"
   ]
  },
  {
   "cell_type": "code",
   "execution_count": 16,
   "metadata": {},
   "outputs": [],
   "source": [
    "mouse = 'gt2_40'"
   ]
  },
  {
   "cell_type": "code",
   "execution_count": 19,
   "metadata": {},
   "outputs": [
    {
     "data": {
      "text/plain": [
       "<Mouse: mouseID = gt2_40,>"
      ]
     },
     "execution_count": 19,
     "metadata": {},
     "output_type": "execute_result"
    }
   ],
   "source": [
    "expMice = expSet.grabMouse(mouse)\n",
    "expMice"
   ]
  },
  {
   "cell_type": "code",
   "execution_count": 20,
   "metadata": {},
   "outputs": [
    {
     "name": "stdout",
     "output_type": "stream",
     "text": [
      "('experiment list:', 39)\n",
      "('experiment group:', 39)\n",
      "('imaging experiments:', 0)\n"
     ]
    }
   ],
   "source": [
    "expList = exps.findall('experiment')\n",
    "print('experiment list:', len(expList))\n",
    "expGrp = ExperimentGroup(expList)\n",
    "print('experiment group:', len(expGrp))\n",
    "imagingExps = exps.imagingExperiments()\n",
    "print('imaging experiments:', len(imagingExps))"
   ]
  },
  {
   "cell_type": "code",
   "execution_count": 8,
   "metadata": {},
   "outputs": [],
   "source": [
    "imagingExps = exps.imagingExperiments()"
   ]
  },
  {
   "cell_type": "code",
   "execution_count": 9,
   "metadata": {},
   "outputs": [
    {
     "data": {
      "text/plain": [
       "[]"
      ]
     },
     "execution_count": 9,
     "metadata": {},
     "output_type": "execute_result"
    }
   ],
   "source": [
    "imagingExps"
   ]
  },
  {
   "cell_type": "code",
   "execution_count": null,
   "metadata": {},
   "outputs": [],
   "source": []
  }
 ],
 "metadata": {
  "kernelspec": {
   "display_name": "Python 2",
   "language": "python",
   "name": "python2"
  },
  "language_info": {
   "codemirror_mode": {
    "name": "ipython",
    "version": 2
   },
   "file_extension": ".py",
   "mimetype": "text/x-python",
   "name": "python",
   "nbconvert_exporter": "python",
   "pygments_lexer": "ipython2",
   "version": "2.7.15"
  }
 },
 "nbformat": 4,
 "nbformat_minor": 2
}
