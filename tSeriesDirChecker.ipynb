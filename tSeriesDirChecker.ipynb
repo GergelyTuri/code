{
 "cells": [
  {
   "cell_type": "markdown",
   "metadata": {},
   "source": [
    "## Checking paired TSeries dirs"
   ]
  },
  {
   "cell_type": "code",
   "execution_count": 1,
   "metadata": {},
   "outputs": [
    {
     "name": "stderr",
     "output_type": "stream",
     "text": [
      "/home/gergely/anaconda2/lib/python2.7/site-packages/seaborn/apionly.py:6: UserWarning: As seaborn no longer sets a default style on import, the seaborn.apionly module is deprecated. It will be removed in a future version.\n",
      "  warnings.warn(msg, UserWarning)\n",
      "/home/gergely/code/analysis/lab/misc/lfp_helpers.py:16: UserWarning: rhd package not found, lab.misc.lfp_helpers.py will not work\n",
      "  warnings.warn(\"rhd package not found, lab.misc.lfp_helpers.py will not work\")\n"
     ]
    }
   ],
   "source": [
    "import pandas as pd\n",
    "from datetime import datetime\n",
    "import lab\n",
    "from lab.classes import database"
   ]
  },
  {
   "cell_type": "code",
   "execution_count": 26,
   "metadata": {},
   "outputs": [],
   "source": [
    "mouseID='gtr6_a1'\n",
    "project='raphe.sql'"
   ]
  },
  {
   "cell_type": "code",
   "execution_count": 27,
   "metadata": {},
   "outputs": [
    {
     "data": {
      "text/html": [
       "<style  type=\"text/css\" >\n",
       "</style>  \n",
       "<table id=\"T_828b9d86_fb56_11e8_9d6e_1866da8c6568\" > \n",
       "<thead>    <tr> \n",
       "        <th class=\"blank level0\" ></th> \n",
       "        <th class=\"col_heading level0 col0\" >TSeriesDir</th> \n",
       "        <th class=\"col_heading level0 col1\" >expType</th> \n",
       "        <th class=\"col_heading level0 col2\" >startTime</th> \n",
       "    </tr></thead> \n",
       "<tbody>    <tr> \n",
       "        <th id=\"T_828b9d86_fb56_11e8_9d6e_1866da8c6568level0_row0\" class=\"row_heading level0 row0\" >0</th> \n",
       "        <td id=\"T_828b9d86_fb56_11e8_9d6e_1866da8c6568row0_col0\" class=\"data row0 col0\" >/data/gergely/invivo_DATA/raphe/gtr6_a1/8_4/TSeries-08042018-001</td> \n",
       "        <td id=\"T_828b9d86_fb56_11e8_9d6e_1866da8c6568row0_col1\" class=\"data row0 col1\" >randomForaging</td> \n",
       "        <td id=\"T_828b9d86_fb56_11e8_9d6e_1866da8c6568row0_col2\" class=\"data row0 col2\" >2018-08-04-19h00m54s</td> \n",
       "    </tr>    <tr> \n",
       "        <th id=\"T_828b9d86_fb56_11e8_9d6e_1866da8c6568level0_row1\" class=\"row_heading level0 row1\" >1</th> \n",
       "        <td id=\"T_828b9d86_fb56_11e8_9d6e_1866da8c6568row1_col0\" class=\"data row1 col0\" >/data/gergely/invivo_DATA/raphe/gtr6_a1/8_6/TSeries-08062018-001</td> \n",
       "        <td id=\"T_828b9d86_fb56_11e8_9d6e_1866da8c6568row1_col1\" class=\"data row1 col1\" >randomForaging</td> \n",
       "        <td id=\"T_828b9d86_fb56_11e8_9d6e_1866da8c6568row1_col2\" class=\"data row1 col2\" >2018-08-06-17h10m16s</td> \n",
       "    </tr>    <tr> \n",
       "        <th id=\"T_828b9d86_fb56_11e8_9d6e_1866da8c6568level0_row2\" class=\"row_heading level0 row2\" >2</th> \n",
       "        <td id=\"T_828b9d86_fb56_11e8_9d6e_1866da8c6568row2_col0\" class=\"data row2 col0\" ></td> \n",
       "        <td id=\"T_828b9d86_fb56_11e8_9d6e_1866da8c6568row2_col1\" class=\"data row2 col1\" >randomForaging</td> \n",
       "        <td id=\"T_828b9d86_fb56_11e8_9d6e_1866da8c6568row2_col2\" class=\"data row2 col2\" >2018-08-06-17h35m17s</td> \n",
       "    </tr>    <tr> \n",
       "        <th id=\"T_828b9d86_fb56_11e8_9d6e_1866da8c6568level0_row3\" class=\"row_heading level0 row3\" >3</th> \n",
       "        <td id=\"T_828b9d86_fb56_11e8_9d6e_1866da8c6568row3_col0\" class=\"data row3 col0\" ></td> \n",
       "        <td id=\"T_828b9d86_fb56_11e8_9d6e_1866da8c6568row3_col1\" class=\"data row3 col1\" ></td> \n",
       "        <td id=\"T_828b9d86_fb56_11e8_9d6e_1866da8c6568row3_col2\" class=\"data row3 col2\" >2018-08-25-17h35m48s</td> \n",
       "    </tr>    <tr> \n",
       "        <th id=\"T_828b9d86_fb56_11e8_9d6e_1866da8c6568level0_row4\" class=\"row_heading level0 row4\" >4</th> \n",
       "        <td id=\"T_828b9d86_fb56_11e8_9d6e_1866da8c6568row4_col0\" class=\"data row4 col0\" ></td> \n",
       "        <td id=\"T_828b9d86_fb56_11e8_9d6e_1866da8c6568row4_col1\" class=\"data row4 col1\" ></td> \n",
       "        <td id=\"T_828b9d86_fb56_11e8_9d6e_1866da8c6568row4_col2\" class=\"data row4 col2\" >2018-08-27-16h07m06s</td> \n",
       "    </tr>    <tr> \n",
       "        <th id=\"T_828b9d86_fb56_11e8_9d6e_1866da8c6568level0_row5\" class=\"row_heading level0 row5\" >5</th> \n",
       "        <td id=\"T_828b9d86_fb56_11e8_9d6e_1866da8c6568row5_col0\" class=\"data row5 col0\" ></td> \n",
       "        <td id=\"T_828b9d86_fb56_11e8_9d6e_1866da8c6568row5_col1\" class=\"data row5 col1\" ></td> \n",
       "        <td id=\"T_828b9d86_fb56_11e8_9d6e_1866da8c6568row5_col2\" class=\"data row5 col2\" >2018-08-27-16h07m29s</td> \n",
       "    </tr></tbody> \n",
       "</table> "
      ],
      "text/plain": [
       "<pandas.io.formats.style.Styler at 0x7f08763db890>"
      ]
     },
     "execution_count": 27,
     "metadata": {},
     "output_type": "execute_result"
    }
   ],
   "source": [
    "expSet=lab.ExperimentSet(project)\n",
    "mouse = expSet.grabMouse(mouseID)\n",
    "# imagingExperiments = mouse.imagingExperiments\n",
    "allExperiments = mouse.findall('experiment')\n",
    "startTime = []\n",
    "expType = []\n",
    "tSeriesDir = []\n",
    "for exp in allExperiments:\n",
    "    startTime.append(exp.get('startTime'))\n",
    "    expType.append(exp.get('experimentType'))\n",
    "    tSeriesDir.append(exp.get('tSeriesDirectory'))\n",
    "    \n",
    "df = pd.DataFrame({'startTime':startTime, 'expType':expType, 'TSeriesDir':tSeriesDir})\n",
    "df.style"
   ]
  },
  {
   "cell_type": "code",
   "execution_count": null,
   "metadata": {},
   "outputs": [],
   "source": []
  }
 ],
 "metadata": {
  "kernelspec": {
   "display_name": "Python 2",
   "language": "python",
   "name": "python2"
  },
  "language_info": {
   "codemirror_mode": {
    "name": "ipython",
    "version": 2
   },
   "file_extension": ".py",
   "mimetype": "text/x-python",
   "name": "python",
   "nbconvert_exporter": "python",
   "pygments_lexer": "ipython2",
   "version": "2.7.14"
  }
 },
 "nbformat": 4,
 "nbformat_minor": 2
}
