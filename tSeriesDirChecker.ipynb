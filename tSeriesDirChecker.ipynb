{
 "cells": [
  {
   "cell_type": "markdown",
   "metadata": {},
   "source": [
    "## Checking paired TSeries dirs"
   ]
  },
  {
   "cell_type": "code",
   "execution_count": 9,
   "metadata": {},
   "outputs": [],
   "source": [
    "import pandas as pd\n",
    "from datetime import datetime\n",
    "import lab\n",
    "from lab.classes import database, ExperimentSet"
   ]
  },
  {
   "cell_type": "code",
   "execution_count": 13,
   "metadata": {},
   "outputs": [],
   "source": [
    "expt_set = ExperimentSet(\"mossy.sql\")"
   ]
  },
  {
   "cell_type": "code",
   "execution_count": 17,
   "metadata": {},
   "outputs": [
    {
     "name": "stderr",
     "output_type": "stream",
     "text": [
      "/home/gergely/anaconda2/lib/python2.7/site-packages/ipykernel_launcher.py:2: DeprecationWarning: This method will be removed in future versions.  Use 'list(elem)' or iteration over elem instead.\n",
      "  \n"
     ]
    },
    {
     "data": {
      "text/plain": [
       "[<Mouse: mouseID = gtm4_1,>,\n",
       " <Mouse: mouseID = da002,>,\n",
       " <Mouse: mouseID = da_002,>,\n",
       " <Mouse: mouseID = gtm4_2,>,\n",
       " <Mouse: mouseID = gtm4_3,>,\n",
       " <Mouse: mouseID = gtm4_4,>,\n",
       " <Mouse: mouseID = gtm4_5,>,\n",
       " <Mouse: mouseID = da001,>]"
      ]
     },
     "execution_count": 17,
     "metadata": {},
     "output_type": "execute_result"
    }
   ],
   "source": [
    "# list all of the mice in this experiment set\n",
    "expt_set.root.getchildren()"
   ]
  },
  {
   "cell_type": "code",
   "execution_count": 18,
   "metadata": {},
   "outputs": [
    {
     "name": "stderr",
     "output_type": "stream",
     "text": [
      "/home/gergely/anaconda2/lib/python2.7/site-packages/ipykernel_launcher.py:3: DeprecationWarning: This method will be removed in future versions.  Use 'list(elem)' or iteration over elem instead.\n",
      "  This is separate from the ipykernel package so we can avoid doing imports until\n"
     ]
    },
    {
     "data": {
      "text/plain": [
       "25"
      ]
     },
     "execution_count": 18,
     "metadata": {},
     "output_type": "execute_result"
    }
   ],
   "source": [
    "# list all of the experiments for this mouse\n",
    "mouse = expt_set.grabMouse(\"gtm4_3\")\n",
    "len(mouse.getchildren())"
   ]
  },
  {
   "cell_type": "code",
   "execution_count": 19,
   "metadata": {},
   "outputs": [
    {
     "data": {
      "text/plain": [
       "[]"
      ]
     },
     "execution_count": 19,
     "metadata": {},
     "output_type": "execute_result"
    }
   ],
   "source": [
    "# lists all imaging experiments for the mouse IF they're paired\n",
    "mouse.imagingExperiments()"
   ]
  },
  {
   "cell_type": "code",
   "execution_count": 23,
   "metadata": {},
   "outputs": [],
   "source": [
    "mouseID='da002'\n",
    "project='mossy.sql'\n",
    "alltrials = database.fetchMouseTrials(mouseID)"
   ]
  },
  {
   "cell_type": "markdown",
   "metadata": {},
   "source": [
    "Show whether there are paired trials for this mouse"
   ]
  },
  {
   "cell_type": "code",
   "execution_count": 24,
   "metadata": {},
   "outputs": [],
   "source": [
    "alltrials = database.fetchMouseTrials(mouseID)"
   ]
  },
  {
   "cell_type": "code",
   "execution_count": 38,
   "metadata": {},
   "outputs": [
    {
     "name": "stdout",
     "output_type": "stream",
     "text": [
      "There are total of 15 trials for this mouse and 10 are paired trials\n"
     ]
    }
   ],
   "source": [
    "pairedTrials=[]\n",
    "for item in alltrials:\n",
    "    if type(item['tSeries_path']) == str:\n",
    "        pairedTrials.append([item['behavior_file'],item['tSeries_path']])\n",
    "print('There are total of %d trials for this mouse and %d are paired trials' % (len(alltrials), len(pairedTrials)))"
   ]
  },
  {
   "cell_type": "code",
   "execution_count": 30,
   "metadata": {},
   "outputs": [
    {
     "data": {
      "text/plain": [
       "[['/data/gergely/BehaviorData/da002/da002_20180412144308.tdml',\n",
       "  '/data/gergely/invivo_DATA/mossy/da002/2_12/TSeries-04122018-1028-002'],\n",
       " ['/data/gergely/BehaviorData/da002/da002_20180417160551.tdml',\n",
       "  '/data/gergely/invivo_DATA/mossy/da002/4_17/TSeries-04172018-0842-acuteNoCue-001'],\n",
       " ['/data/gergely/BehaviorData/da002/da002_20180417171806.tdml',\n",
       "  '/data/gergely/invivo_DATA/mossy/da002/4_17/TSeries-04172018-0842-acuteNoCue-002'],\n",
       " ['/data/gergely/BehaviorData/da002/da002_20180418142146.tdml',\n",
       "  '/data/gergely/invivo_DATA/mossy/da002/4_18/TSeries-04182018-0842-RFc0s1-001'],\n",
       " ['/data/gergely/BehaviorData/da002/da002_20180418153943.tdml',\n",
       "  '/data/gergely/invivo_DATA/mossy/da002/4_18/TSeries-04182018-0842-RFc0s2-003'],\n",
       " ['/data/gergely/BehaviorData/da002/da002_20180428161146.tdml',\n",
       "  '/data/gergely/invivo_DATA/mossy/da002/4_28/TSeries-04282018-001'],\n",
       " ['/data/gergely/BehaviorData/da002/da002_20180430154435.tdml',\n",
       "  '/data/gergely/invivo_DATA/mossy/da002/4_30/TSeries-04302018_ctrl-001'],\n",
       " ['/data/gergely/BehaviorData/da002/da002_20180430162245.tdml',\n",
       "  '/data/gergely/invivo_DATA/mossy/da002/4_30/TSeries-04302018_sal-002'],\n",
       " ['/data/gergely/BehaviorData/da002/da002_20180501114827.tdml',\n",
       "  '/data/gergely/invivo_DATA/mossy/da002/5_1_sulp/TSeries-04302018_ctrl-001'],\n",
       " ['/data/gergely/BehaviorData/da002/da002_20180501123513.tdml',\n",
       "  '/data/gergely/invivo_DATA/mossy/da002/5_1_sulp/TSeries-04302018_sulp-002']]"
      ]
     },
     "execution_count": 30,
     "metadata": {},
     "output_type": "execute_result"
    }
   ],
   "source": [
    "# lists all of the paired trials\n",
    "pairedTrials"
   ]
  },
  {
   "cell_type": "code",
   "execution_count": 39,
   "metadata": {},
   "outputs": [
    {
     "data": {
      "text/html": [
       "<style  type=\"text/css\" >\n",
       "</style>  \n",
       "<table id=\"T_93ae02f4_cabb_11e9_910a_1866da8c6568\" > \n",
       "<thead>    <tr> \n",
       "        <th class=\"blank level0\" ></th> \n",
       "        <th class=\"col_heading level0 col0\" >TSeriesDir</th> \n",
       "        <th class=\"col_heading level0 col1\" >expType</th> \n",
       "        <th class=\"col_heading level0 col2\" >startTime</th> \n",
       "    </tr></thead> \n",
       "<tbody>    <tr> \n",
       "        <th id=\"T_93ae02f4_cabb_11e9_910a_1866da8c6568level0_row0\" class=\"row_heading level0 row0\" >0</th> \n",
       "        <td id=\"T_93ae02f4_cabb_11e9_910a_1866da8c6568row0_col0\" class=\"data row0 col0\" ></td> \n",
       "        <td id=\"T_93ae02f4_cabb_11e9_910a_1866da8c6568row0_col1\" class=\"data row0 col1\" ></td> \n",
       "        <td id=\"T_93ae02f4_cabb_11e9_910a_1866da8c6568row0_col2\" class=\"data row0 col2\" >2018-04-12-14h37m11s</td> \n",
       "    </tr>    <tr> \n",
       "        <th id=\"T_93ae02f4_cabb_11e9_910a_1866da8c6568level0_row1\" class=\"row_heading level0 row1\" >1</th> \n",
       "        <td id=\"T_93ae02f4_cabb_11e9_910a_1866da8c6568row1_col0\" class=\"data row1 col0\" >/data/gergely/invivo_DATA/mossy/da002/2_12/TSeries-04122018-1028-002</td> \n",
       "        <td id=\"T_93ae02f4_cabb_11e9_910a_1866da8c6568row1_col1\" class=\"data row1 col1\" ></td> \n",
       "        <td id=\"T_93ae02f4_cabb_11e9_910a_1866da8c6568row1_col2\" class=\"data row1 col2\" >2018-04-12-14h43m08s</td> \n",
       "    </tr>    <tr> \n",
       "        <th id=\"T_93ae02f4_cabb_11e9_910a_1866da8c6568level0_row2\" class=\"row_heading level0 row2\" >2</th> \n",
       "        <td id=\"T_93ae02f4_cabb_11e9_910a_1866da8c6568row2_col0\" class=\"data row2 col0\" >/data/gergely/invivo_DATA/mossy/da002/4_17/TSeries-04172018-0842-acuteNoCue-001</td> \n",
       "        <td id=\"T_93ae02f4_cabb_11e9_910a_1866da8c6568row2_col1\" class=\"data row2 col1\" ></td> \n",
       "        <td id=\"T_93ae02f4_cabb_11e9_910a_1866da8c6568row2_col2\" class=\"data row2 col2\" >2018-04-17-16h05m51s</td> \n",
       "    </tr>    <tr> \n",
       "        <th id=\"T_93ae02f4_cabb_11e9_910a_1866da8c6568level0_row3\" class=\"row_heading level0 row3\" >3</th> \n",
       "        <td id=\"T_93ae02f4_cabb_11e9_910a_1866da8c6568row3_col0\" class=\"data row3 col0\" >/data/gergely/invivo_DATA/mossy/da002/4_17/TSeries-04172018-0842-acuteNoCue-002</td> \n",
       "        <td id=\"T_93ae02f4_cabb_11e9_910a_1866da8c6568row3_col1\" class=\"data row3 col1\" ></td> \n",
       "        <td id=\"T_93ae02f4_cabb_11e9_910a_1866da8c6568row3_col2\" class=\"data row3 col2\" >2018-04-17-17h18m06s</td> \n",
       "    </tr>    <tr> \n",
       "        <th id=\"T_93ae02f4_cabb_11e9_910a_1866da8c6568level0_row4\" class=\"row_heading level0 row4\" >4</th> \n",
       "        <td id=\"T_93ae02f4_cabb_11e9_910a_1866da8c6568row4_col0\" class=\"data row4 col0\" >/data/gergely/invivo_DATA/mossy/da002/4_18/TSeries-04182018-0842-RFc0s1-001</td> \n",
       "        <td id=\"T_93ae02f4_cabb_11e9_910a_1866da8c6568row4_col1\" class=\"data row4 col1\" ></td> \n",
       "        <td id=\"T_93ae02f4_cabb_11e9_910a_1866da8c6568row4_col2\" class=\"data row4 col2\" >2018-04-18-14h21m46s</td> \n",
       "    </tr>    <tr> \n",
       "        <th id=\"T_93ae02f4_cabb_11e9_910a_1866da8c6568level0_row5\" class=\"row_heading level0 row5\" >5</th> \n",
       "        <td id=\"T_93ae02f4_cabb_11e9_910a_1866da8c6568row5_col0\" class=\"data row5 col0\" >/data/gergely/invivo_DATA/mossy/da002/4_18/TSeries-04182018-0842-RFc0s2-003</td> \n",
       "        <td id=\"T_93ae02f4_cabb_11e9_910a_1866da8c6568row5_col1\" class=\"data row5 col1\" ></td> \n",
       "        <td id=\"T_93ae02f4_cabb_11e9_910a_1866da8c6568row5_col2\" class=\"data row5 col2\" >2018-04-18-15h39m43s</td> \n",
       "    </tr>    <tr> \n",
       "        <th id=\"T_93ae02f4_cabb_11e9_910a_1866da8c6568level0_row6\" class=\"row_heading level0 row6\" >6</th> \n",
       "        <td id=\"T_93ae02f4_cabb_11e9_910a_1866da8c6568row6_col0\" class=\"data row6 col0\" ></td> \n",
       "        <td id=\"T_93ae02f4_cabb_11e9_910a_1866da8c6568row6_col1\" class=\"data row6 col1\" ></td> \n",
       "        <td id=\"T_93ae02f4_cabb_11e9_910a_1866da8c6568row6_col2\" class=\"data row6 col2\" >2018-04-19-08h29m04s</td> \n",
       "    </tr>    <tr> \n",
       "        <th id=\"T_93ae02f4_cabb_11e9_910a_1866da8c6568level0_row7\" class=\"row_heading level0 row7\" >7</th> \n",
       "        <td id=\"T_93ae02f4_cabb_11e9_910a_1866da8c6568row7_col0\" class=\"data row7 col0\" ></td> \n",
       "        <td id=\"T_93ae02f4_cabb_11e9_910a_1866da8c6568row7_col1\" class=\"data row7 col1\" ></td> \n",
       "        <td id=\"T_93ae02f4_cabb_11e9_910a_1866da8c6568row7_col2\" class=\"data row7 col2\" >2018-04-23-14h54m23s</td> \n",
       "    </tr>    <tr> \n",
       "        <th id=\"T_93ae02f4_cabb_11e9_910a_1866da8c6568level0_row8\" class=\"row_heading level0 row8\" >8</th> \n",
       "        <td id=\"T_93ae02f4_cabb_11e9_910a_1866da8c6568row8_col0\" class=\"data row8 col0\" ></td> \n",
       "        <td id=\"T_93ae02f4_cabb_11e9_910a_1866da8c6568row8_col1\" class=\"data row8 col1\" ></td> \n",
       "        <td id=\"T_93ae02f4_cabb_11e9_910a_1866da8c6568row8_col2\" class=\"data row8 col2\" >2018-04-28-16h10m51s</td> \n",
       "    </tr>    <tr> \n",
       "        <th id=\"T_93ae02f4_cabb_11e9_910a_1866da8c6568level0_row9\" class=\"row_heading level0 row9\" >9</th> \n",
       "        <td id=\"T_93ae02f4_cabb_11e9_910a_1866da8c6568row9_col0\" class=\"data row9 col0\" >/data/gergely/invivo_DATA/mossy/da002/4_28/TSeries-04282018-001</td> \n",
       "        <td id=\"T_93ae02f4_cabb_11e9_910a_1866da8c6568row9_col1\" class=\"data row9 col1\" ></td> \n",
       "        <td id=\"T_93ae02f4_cabb_11e9_910a_1866da8c6568row9_col2\" class=\"data row9 col2\" >2018-04-28-16h11m46s</td> \n",
       "    </tr>    <tr> \n",
       "        <th id=\"T_93ae02f4_cabb_11e9_910a_1866da8c6568level0_row10\" class=\"row_heading level0 row10\" >10</th> \n",
       "        <td id=\"T_93ae02f4_cabb_11e9_910a_1866da8c6568row10_col0\" class=\"data row10 col0\" >/data/gergely/invivo_DATA/mossy/da002/4_30/TSeries-04302018_ctrl-001</td> \n",
       "        <td id=\"T_93ae02f4_cabb_11e9_910a_1866da8c6568row10_col1\" class=\"data row10 col1\" ></td> \n",
       "        <td id=\"T_93ae02f4_cabb_11e9_910a_1866da8c6568row10_col2\" class=\"data row10 col2\" >2018-04-30-15h44m35s</td> \n",
       "    </tr>    <tr> \n",
       "        <th id=\"T_93ae02f4_cabb_11e9_910a_1866da8c6568level0_row11\" class=\"row_heading level0 row11\" >11</th> \n",
       "        <td id=\"T_93ae02f4_cabb_11e9_910a_1866da8c6568row11_col0\" class=\"data row11 col0\" >/data/gergely/invivo_DATA/mossy/da002/4_30/TSeries-04302018_sal-002</td> \n",
       "        <td id=\"T_93ae02f4_cabb_11e9_910a_1866da8c6568row11_col1\" class=\"data row11 col1\" ></td> \n",
       "        <td id=\"T_93ae02f4_cabb_11e9_910a_1866da8c6568row11_col2\" class=\"data row11 col2\" >2018-04-30-16h22m45s</td> \n",
       "    </tr>    <tr> \n",
       "        <th id=\"T_93ae02f4_cabb_11e9_910a_1866da8c6568level0_row12\" class=\"row_heading level0 row12\" >12</th> \n",
       "        <td id=\"T_93ae02f4_cabb_11e9_910a_1866da8c6568row12_col0\" class=\"data row12 col0\" >/data/gergely/invivo_DATA/mossy/da002/5_1_sulp/TSeries-04302018_ctrl-001</td> \n",
       "        <td id=\"T_93ae02f4_cabb_11e9_910a_1866da8c6568row12_col1\" class=\"data row12 col1\" ></td> \n",
       "        <td id=\"T_93ae02f4_cabb_11e9_910a_1866da8c6568row12_col2\" class=\"data row12 col2\" >2018-05-01-11h48m27s</td> \n",
       "    </tr>    <tr> \n",
       "        <th id=\"T_93ae02f4_cabb_11e9_910a_1866da8c6568level0_row13\" class=\"row_heading level0 row13\" >13</th> \n",
       "        <td id=\"T_93ae02f4_cabb_11e9_910a_1866da8c6568row13_col0\" class=\"data row13 col0\" >/data/gergely/invivo_DATA/mossy/da002/5_1_sulp/TSeries-04302018_sulp-002</td> \n",
       "        <td id=\"T_93ae02f4_cabb_11e9_910a_1866da8c6568row13_col1\" class=\"data row13 col1\" ></td> \n",
       "        <td id=\"T_93ae02f4_cabb_11e9_910a_1866da8c6568row13_col2\" class=\"data row13 col2\" >2018-05-01-12h35m13s</td> \n",
       "    </tr>    <tr> \n",
       "        <th id=\"T_93ae02f4_cabb_11e9_910a_1866da8c6568level0_row14\" class=\"row_heading level0 row14\" >14</th> \n",
       "        <td id=\"T_93ae02f4_cabb_11e9_910a_1866da8c6568row14_col0\" class=\"data row14 col0\" ></td> \n",
       "        <td id=\"T_93ae02f4_cabb_11e9_910a_1866da8c6568row14_col1\" class=\"data row14 col1\" ></td> \n",
       "        <td id=\"T_93ae02f4_cabb_11e9_910a_1866da8c6568row14_col2\" class=\"data row14 col2\" >2018-05-08-13h33m02s</td> \n",
       "    </tr></tbody> \n",
       "</table> "
      ],
      "text/plain": [
       "<pandas.io.formats.style.Styler at 0x7f59d07101d0>"
      ]
     },
     "execution_count": 39,
     "metadata": {},
     "output_type": "execute_result"
    }
   ],
   "source": [
    "# mouseID='gtr6_a3'\n",
    "# project='raphe.sql'\n",
    "expSet=lab.ExperimentSet(project)\n",
    "mouse = expSet.grabMouse(mouseID)\n",
    "# imagingExperiments = mouse.imagingExperiments\n",
    "allExperiments = mouse.findall('experiment')\n",
    "startTime = []\n",
    "expType = []\n",
    "tSeriesDir = []\n",
    "for exp in allExperiments:\n",
    "    startTime.append(exp.get('startTime'))\n",
    "    expType.append(exp.get('experimentType'))\n",
    "    tSeriesDir.append(exp.get('tSeriesDirectory'))\n",
    "    \n",
    "df = pd.DataFrame({'startTime':startTime, 'expType':expType, 'TSeriesDir':tSeriesDir})\n",
    "df.style"
   ]
  },
  {
   "cell_type": "markdown",
   "metadata": {},
   "source": [
    "### Pairing TSeries with behavior manually"
   ]
  },
  {
   "cell_type": "code",
   "execution_count": null,
   "metadata": {},
   "outputs": [],
   "source": [
    "#use this to pair\n",
    "database.pairImagingData('/path/to/TSeries/dir',trial_id=<int>)"
   ]
  }
 ],
 "metadata": {
  "kernelspec": {
   "display_name": "Python 2",
   "language": "python",
   "name": "python2"
  },
  "language_info": {
   "codemirror_mode": {
    "name": "ipython",
    "version": 2
   },
   "file_extension": ".py",
   "mimetype": "text/x-python",
   "name": "python",
   "nbconvert_exporter": "python",
   "pygments_lexer": "ipython2",
   "version": "2.7.15"
  }
 },
 "nbformat": 4,
 "nbformat_minor": 2
}
