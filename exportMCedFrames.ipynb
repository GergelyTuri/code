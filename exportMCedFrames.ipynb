{
 "cells": [
  {
   "cell_type": "markdown",
   "metadata": {},
   "source": [
    "This snippet will export MC-ed images from `sima` to `.h5` file"
   ]
  },
  {
   "cell_type": "code",
   "execution_count": 1,
   "metadata": {},
   "outputs": [],
   "source": [
    "%matplotlib inline"
   ]
  },
  {
   "cell_type": "code",
   "execution_count": 66,
   "metadata": {},
   "outputs": [],
   "source": [
    "import os\n",
    "import sima\n",
    "import h5py\n",
    "import numpy as np"
   ]
  },
  {
   "cell_type": "code",
   "execution_count": 68,
   "metadata": {},
   "outputs": [
    {
     "name": "stdout",
     "output_type": "stream",
     "text": [
      "/home/gergely\n"
     ]
    }
   ],
   "source": [
    "cd"
   ]
  },
  {
   "cell_type": "markdown",
   "metadata": {},
   "source": [
    "The `h5` file is going to be located where you started your ipython notebook from. "
   ]
  },
  {
   "cell_type": "code",
   "execution_count": 85,
   "metadata": {},
   "outputs": [],
   "source": [
    "directory= '/data/gergely/invivo_DATA/structural/gts1_a2/11_21/TSeries-11212018-40x_singleplane-006/TSeries-11212018-40x_singleplane-006.sima/'"
   ]
  },
  {
   "cell_type": "code",
   "execution_count": 86,
   "metadata": {},
   "outputs": [],
   "source": [
    "os.chdir(directory)\n",
    "os.mkdir('exportedMCedFrames')\n",
    "os.chdir('exportedMCedFrames')\n",
    "dataset = sima.ImagingDataset.load(directory)"
   ]
  },
  {
   "cell_type": "markdown",
   "metadata": {},
   "source": [
    "To export tiffs you gotta do list of lists like so:<br> \n",
    "`[ [‘gts1_b2_11_28_MCed_plane0_ch1.tiff’, ‘gts1_b2_11_28_MCed_plane0_ch2.tiff’], [‘gts1_b2_11_28_MCed_plane1_ch1.tiff’, ‘gts1_b2_11_28_MCed_plane1_ch2.tiff’]]`<br><br>\n",
    "example for one channel four planes: `dataset.export_frames([[['gts1_a2_11_29_stack002_p0.tiff'],['gts1_a2_11_29_stack002_p1.tiff'],['gts1_a2_11_29_stack002_p2.tiff'],['gts1_a2_11_29_stack002_p3.tiff']]], fmt='TIFF16')` <br><br>\n",
    "if you only have a single plane and single channel:\n",
    "`dataset.export_frames([[['gts1_b2_11_28_MCed.tiff']]], fmt='TIFF16')`"
   ]
  },
  {
   "cell_type": "code",
   "execution_count": 87,
   "metadata": {},
   "outputs": [
    {
     "data": {
      "text/plain": [
       "(1, 1018, 1014, 1)"
      ]
     },
     "execution_count": 87,
     "metadata": {},
     "output_type": "execute_result"
    }
   ],
   "source": [
    "dataset.frame_shape"
   ]
  },
  {
   "cell_type": "code",
   "execution_count": 83,
   "metadata": {},
   "outputs": [
    {
     "data": {
      "text/plain": [
       "'/data/gergely/invivo_DATA/structural/gts1_a2/11_28/TSeries-11282018-40x_singleplain-001/TSeries-11282018-40x_singleplain-001.sima/'"
      ]
     },
     "execution_count": 83,
     "metadata": {},
     "output_type": "execute_result"
    }
   ],
   "source": [
    "dataset.savedir"
   ]
  },
  {
   "cell_type": "code",
   "execution_count": 88,
   "metadata": {},
   "outputs": [],
   "source": [
    "dataset.export_frames([[['gts1_a2_11_21_singleplain_006.tiff']]], fmt='TIFF16')"
   ]
  },
  {
   "cell_type": "markdown",
   "metadata": {},
   "source": [
    "opening the `h5` for reading:"
   ]
  },
  {
   "cell_type": "code",
   "execution_count": 6,
   "metadata": {},
   "outputs": [
    {
     "data": {
      "text/plain": [
       "u'/mnt/bigarray/data/gergely/invivo_DATA/structural/gts1_b2/11_28/TSeries-11272018-40x_singleplain-001'"
      ]
     },
     "execution_count": 6,
     "metadata": {},
     "output_type": "execute_result"
    }
   ],
   "source": [
    "pwd"
   ]
  },
  {
   "cell_type": "code",
   "execution_count": 22,
   "metadata": {},
   "outputs": [],
   "source": [
    "f = h5py.File('exportedfilename.h5', 'r')"
   ]
  },
  {
   "cell_type": "markdown",
   "metadata": {},
   "source": [
    "chencking the file properties. Meaning of the numbers after `shape`: # of frames, # of channels, Y pixel resolution, X pixel resolution, # of imaging planes"
   ]
  },
  {
   "cell_type": "code",
   "execution_count": 23,
   "metadata": {},
   "outputs": [
    {
     "name": "stdout",
     "output_type": "stream",
     "text": [
      "/\n"
     ]
    },
    {
     "data": {
      "text/plain": [
       "[(u'imaging',\n",
       "  <HDF5 dataset \"imaging\": shape (35712, 1, 256, 512, 1), type \"<u2\">)]"
      ]
     },
     "execution_count": 23,
     "metadata": {},
     "output_type": "execute_result"
    }
   ],
   "source": [
    "print f.name\n",
    "f.keys()\n",
    "f.items()"
   ]
  },
  {
   "cell_type": "markdown",
   "metadata": {},
   "source": [
    "Slicing the dataset. "
   ]
  },
  {
   "cell_type": "code",
   "execution_count": 24,
   "metadata": {
    "collapsed": true
   },
   "outputs": [],
   "source": [
    "images = f['imaging']\n",
    "imageset = np.array(images[1200:1500,:,:,:,:])\n",
    "len(imageset)"
   ]
  },
  {
   "cell_type": "markdown",
   "metadata": {},
   "source": [
    "Writing the sliced dataset to a new `h5` file"
   ]
  },
  {
   "cell_type": "code",
   "execution_count": 26,
   "metadata": {},
   "outputs": [],
   "source": [
    "h5f = h5py.File('nameOfNewFile.h5', 'w')\n",
    "h5f.create_dataset('imaging', data=imageset)\n",
    "h5f.close()"
   ]
  }
 ],
 "metadata": {
  "kernelspec": {
   "display_name": "Python 2",
   "language": "python",
   "name": "python2"
  },
  "language_info": {
   "codemirror_mode": {
    "name": "ipython",
    "version": 2
   },
   "file_extension": ".py",
   "mimetype": "text/x-python",
   "name": "python",
   "nbconvert_exporter": "python",
   "pygments_lexer": "ipython2",
   "version": "2.7.14"
  }
 },
 "nbformat": 4,
 "nbformat_minor": 1
}
