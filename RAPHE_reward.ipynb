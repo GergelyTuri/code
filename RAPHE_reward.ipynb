{
 "cells": [
  {
   "cell_type": "markdown",
   "metadata": {},
   "source": [
    "### This is the ipython transcript for the `RAPHE_reward.py`"
   ]
  },
  {
   "cell_type": "code",
   "execution_count": 1,
   "metadata": {},
   "outputs": [],
   "source": [
    "%matplotlib inline"
   ]
  },
  {
   "cell_type": "code",
   "execution_count": 2,
   "metadata": {},
   "outputs": [
    {
     "name": "stderr",
     "output_type": "stream",
     "text": [
      "/home/gergely/anaconda2/lib/python2.7/site-packages/matplotlib/__init__.py:1350: UserWarning:  This call to matplotlib.use() has no effect\n",
      "because the backend has already been chosen;\n",
      "matplotlib.use() must be called *before* pylab, matplotlib.pyplot,\n",
      "or matplotlib.backends is imported for the first time.\n",
      "\n",
      "  warnings.warn(_use_error_msg)\n",
      "/home/gergely/anaconda2/lib/python2.7/site-packages/seaborn/apionly.py:6: UserWarning: As seaborn no longer sets a default style on import, the seaborn.apionly module is deprecated. It will be removed in a future version.\n",
      "  warnings.warn(msg, UserWarning)\n",
      "/home/gergely/code/analysis/lab/misc/lfp_helpers.py:16: UserWarning: rhd package not found, lab.misc.lfp_helpers.py will not work\n",
      "  warnings.warn(\"rhd package not found, lab.misc.lfp_helpers.py will not work\")\n"
     ]
    }
   ],
   "source": [
    "import os;\n",
    "os.chdir('/home/gergely/code/analysis/analysis-scripts/')\n",
    "import sys;\n",
    "import copy;\n",
    "\n",
    "import cPickle as pickle;\n",
    "\n",
    "import pandas as pd;\n",
    "\n",
    "import numpy as np;\n",
    "import scipy.stats as stats;\n",
    "\n",
    "import matplotlib;\n",
    "matplotlib.use(\"pdf\");\n",
    "\n",
    "import matplotlib.pyplot as pp;\n",
    "import matplotlib.backends.backend_pdf as pdf;\n",
    "import matplotlib.gridspec as gs;\n",
    "\n",
    "import lab;\n",
    "import lab.analysis.imaging_analysis as ia;\n",
    "import lab.analysis.behavior_analysis as ba;\n",
    "import lab.analysis.reward_analysis as ra;\n",
    "\n",
    "import lab.classes.exceptions as exc;\n",
    "\n",
    "import lab.plotting.plotting_helpers as plotTools;\n",
    "\n",
    "import VIP_common as vc;\n",
    "matplotlib.rcParams['pdf.fonttype'] = 42;\n",
    "matplotlib.rcParams['ps.fonttype'] = 42;"
   ]
  },
  {
   "cell_type": "code",
   "execution_count": 3,
   "metadata": {},
   "outputs": [],
   "source": [
    "def calcMaxConsecutive(boolArr):\n",
    "    conSize=np.diff(\n",
    "        np.where(\n",
    "            np.concatenate(\n",
    "                ([boolArr[0]], boolArr[:-1]!=boolArr[1:], [True])))[0]);\n",
    "    if(conSize.size<=0):\n",
    "        return 0;\n",
    "    \n",
    "    return np.max(conSize[::2]);"
   ]
  },
  {
   "cell_type": "code",
   "execution_count": 4,
   "metadata": {},
   "outputs": [],
   "source": [
    "def bootstrapTraceDiff(df, groupbyCols, g1Key, g2Key, dataCol, timeCol, minSamples=5,\n",
    "                       iterations=3000, ciLevel=0.95):\n",
    "    groups=df.groupby(groupbyCols);\n",
    "    if(len(groups)!=2):\n",
    "        print(\"wrong number of groups\");\n",
    "        return pd.DataFrame();\n",
    "    try:\n",
    "        g1=groups.get_group(g1Key);\n",
    "        g2=groups.get_group(g2Key);\n",
    "    except KeyError:\n",
    "        print(\"bad keys\");\n",
    "        return pd.DataFrame();\n",
    "    \n",
    "    g1NS=len(g1);\n",
    "    g2NS=len(g2);\n",
    "    \n",
    "    numSamples=np.min([g1NS, g2NS]);\n",
    "    if(numSamples<minSamples):\n",
    "        return pd.DataFrame();\n",
    "    \n",
    "    ciPLow=(1-ciLevel)/2.0*100;\n",
    "    ciPHigh=ciLevel*100.0+ciPLow;\n",
    "    \n",
    "    time=g1[timeCol].iloc[0];\n",
    "    \n",
    "    g1Data=np.vstack(g1[dataCol]);\n",
    "    g2Data=np.vstack(g2[dataCol]);\n",
    "    \n",
    "    g1RSel=np.random.randint(g1NS, size=(iterations, numSamples));\n",
    "    g2RSel=np.random.randint(g2NS, size=(iterations, numSamples));\n",
    "    \n",
    "    g1RS=np.nanmean(g1Data[g1RSel], 1);\n",
    "    g2RS=np.nanmean(g2Data[g2RSel], 1);\n",
    "    \n",
    "    gDiffRS=g2RS-g1RS;\n",
    "    \n",
    "    gDiffRSPre=np.nanmean(gDiffRS[:, time<0], 1);\n",
    "    gDiffRSPost=np.nanmean(gDiffRS[:, time>=0], 1);\n",
    "    \n",
    "    gDiffRSPPDiff=gDiffRSPost-gDiffRSPre;\n",
    "    \n",
    "    result=dict();\n",
    "    \n",
    "    result[\"diffTraceMed\"]=[np.nanmedian(gDiffRS, 0)];\n",
    "    result[timeCol]=[time];\n",
    "    result[\"ppDiffTraceMed\"]=np.nanmedian(gDiffRSPPDiff);\n",
    "    result[\"ppDiffTraceCIH\"]=np.nanpercentile(gDiffRSPPDiff, ciPHigh, interpolation=\"higher\");\n",
    "    result[\"ppDiffTraceCIL\"]=np.nanpercentile(gDiffRSPPDiff, ciPLow, interpolation=\"lower\");\n",
    "    result[\"ppDiffTraceSig\"]=((result[\"ppDiffTraceCIH\"]<0)*-1)+((result[\"ppDiffTraceCIL\"]>0)*1);\n",
    "    \n",
    "    return pd.DataFrame(result);"
   ]
  },
  {
   "cell_type": "code",
   "execution_count": 5,
   "metadata": {},
   "outputs": [],
   "source": [
    "expSet=lab.ExperimentSet(\"raphe.sql\");\n",
    "mouseIDs=[\"gtr5_01\"];\n",
    "\n",
    "# hrExpGroups=vc.loadHRExpGrp(expSet, mouseIDs, minLicks=10);\n",
    "rfExpGroups=vc.loadExptsByType(expSet, mouseIDs, \"randomForaging\", channel=\"Ch1\");\n",
    "# rtExpGroups=vc.loadExptsByType(expSet, mouseIDs, \"runTraining\", channel=\"Ch1\")\n",
    "# orfExpGroups=vc.loadExptsByType(expSet, mouseIDs, \"operantRandomForaging\");\n",
    "\n",
    "# salExpGroup=vc.loadExptsByType(expSet, mouseIDs, \"salience\")[\"imaging\"];\n",
    "\n",
    "\n",
    "imExpList=list(rfExpGroups[\"imaging\"])\n",
    "# imExpList.extend(list(rtExpGroups[\"imaging\"]))\n",
    "# imExpList.extend(list(hrExpGroups[\"imaging\"]));\n",
    "# imExpList.extend(list(orfExpGroups[\"imaging\"]));\n",
    "imExpGroup=lab.classes.ExperimentGroup(imExpList);\n",
    "\n",
    "expProps=vc.loadExpPropsManualLabel(imExpGroup);\n",
    "expProps[\"mouseID\"]=map(lambda expt: expt.parent.get(\"mouseID\"), expProps[\"expt\"]);\n",
    "expProps[\"expType\"]=map(lambda expt: expt.get(\"experimentType\"), expProps[\"expt\"]);\n",
    "expProps[\"frameP\"]=map(lambda expt: expt.frame_period(), expProps[\"expt\"]);\n",
    "\n"
   ]
  },
  {
   "cell_type": "code",
   "execution_count": 6,
   "metadata": {},
   "outputs": [],
   "source": [
    "expProps[\"keep\"]=True;\n",
    "expProps.set_index([\"expType\", \"condition\"], inplace=True);\n",
    "# expProps.loc[(\"randomForaging\", \"A\"), \"keep\"]=False;\n",
    "expProps=expProps[np.array(expProps[\"keep\"])].reset_index();\n",
    "\n",
    "imExpGroup=lab.ExperimentGroup(list(expProps[\"expt\"]));"
   ]
  },
  {
   "cell_type": "code",
   "execution_count": 7,
   "metadata": {},
   "outputs": [
    {
     "data": {
      "text/html": [
       "<div>\n",
       "<style scoped>\n",
       "    .dataframe tbody tr th:only-of-type {\n",
       "        vertical-align: middle;\n",
       "    }\n",
       "\n",
       "    .dataframe tbody tr th {\n",
       "        vertical-align: top;\n",
       "    }\n",
       "\n",
       "    .dataframe thead th {\n",
       "        text-align: right;\n",
       "    }\n",
       "</style>\n",
       "<table border=\"1\" class=\"dataframe\">\n",
       "  <thead>\n",
       "    <tr style=\"text-align: right;\">\n",
       "      <th></th>\n",
       "      <th>expType</th>\n",
       "      <th>condition</th>\n",
       "      <th>condition_day</th>\n",
       "      <th>condition_day_session</th>\n",
       "      <th>expt</th>\n",
       "      <th>mouseID</th>\n",
       "      <th>frameP</th>\n",
       "      <th>keep</th>\n",
       "    </tr>\n",
       "  </thead>\n",
       "  <tbody>\n",
       "    <tr>\n",
       "      <th>0</th>\n",
       "      <td>randomForaging</td>\n",
       "      <td>A</td>\n",
       "      <td>A_0</td>\n",
       "      <td>A_0_0</td>\n",
       "      <td>[[]]</td>\n",
       "      <td>gtr5_01</td>\n",
       "      <td>0.16673</td>\n",
       "      <td>True</td>\n",
       "    </tr>\n",
       "    <tr>\n",
       "      <th>1</th>\n",
       "      <td>randomForaging</td>\n",
       "      <td>A</td>\n",
       "      <td>A_1</td>\n",
       "      <td>A_1_0</td>\n",
       "      <td>[[]]</td>\n",
       "      <td>gtr5_01</td>\n",
       "      <td>0.16673</td>\n",
       "      <td>True</td>\n",
       "    </tr>\n",
       "    <tr>\n",
       "      <th>2</th>\n",
       "      <td>randomForaging</td>\n",
       "      <td>A</td>\n",
       "      <td>A_2</td>\n",
       "      <td>A_2_0</td>\n",
       "      <td>[[]]</td>\n",
       "      <td>gtr5_01</td>\n",
       "      <td>0.16673</td>\n",
       "      <td>True</td>\n",
       "    </tr>\n",
       "    <tr>\n",
       "      <th>3</th>\n",
       "      <td>randomForaging</td>\n",
       "      <td>A</td>\n",
       "      <td>A_2</td>\n",
       "      <td>A_2_1</td>\n",
       "      <td>[[]]</td>\n",
       "      <td>gtr5_01</td>\n",
       "      <td>0.16673</td>\n",
       "      <td>True</td>\n",
       "    </tr>\n",
       "    <tr>\n",
       "      <th>4</th>\n",
       "      <td>randomForaging</td>\n",
       "      <td>A</td>\n",
       "      <td>A_3</td>\n",
       "      <td>A_3_0</td>\n",
       "      <td>[[]]</td>\n",
       "      <td>gtr5_01</td>\n",
       "      <td>0.16673</td>\n",
       "      <td>True</td>\n",
       "    </tr>\n",
       "    <tr>\n",
       "      <th>5</th>\n",
       "      <td>randomForaging</td>\n",
       "      <td>A</td>\n",
       "      <td>A_3</td>\n",
       "      <td>A_3_1</td>\n",
       "      <td>[[]]</td>\n",
       "      <td>gtr5_01</td>\n",
       "      <td>0.16673</td>\n",
       "      <td>True</td>\n",
       "    </tr>\n",
       "    <tr>\n",
       "      <th>6</th>\n",
       "      <td>randomForaging</td>\n",
       "      <td>A</td>\n",
       "      <td>A_3</td>\n",
       "      <td>A_3_2</td>\n",
       "      <td>[[]]</td>\n",
       "      <td>gtr5_01</td>\n",
       "      <td>0.16673</td>\n",
       "      <td>True</td>\n",
       "    </tr>\n",
       "  </tbody>\n",
       "</table>\n",
       "</div>"
      ],
      "text/plain": [
       "          expType condition condition_day condition_day_session  expt  \\\n",
       "0  randomForaging         A           A_0                 A_0_0  [[]]   \n",
       "1  randomForaging         A           A_1                 A_1_0  [[]]   \n",
       "2  randomForaging         A           A_2                 A_2_0  [[]]   \n",
       "3  randomForaging         A           A_2                 A_2_1  [[]]   \n",
       "4  randomForaging         A           A_3                 A_3_0  [[]]   \n",
       "5  randomForaging         A           A_3                 A_3_1  [[]]   \n",
       "6  randomForaging         A           A_3                 A_3_2  [[]]   \n",
       "\n",
       "   mouseID   frameP  keep  \n",
       "0  gtr5_01  0.16673  True  \n",
       "1  gtr5_01  0.16673  True  \n",
       "2  gtr5_01  0.16673  True  \n",
       "3  gtr5_01  0.16673  True  \n",
       "4  gtr5_01  0.16673  True  \n",
       "5  gtr5_01  0.16673  True  \n",
       "6  gtr5_01  0.16673  True  "
      ]
     },
     "execution_count": 7,
     "metadata": {},
     "output_type": "execute_result"
    }
   ],
   "source": [
    "expProps"
   ]
  },
  {
   "cell_type": "code",
   "execution_count": 8,
   "metadata": {},
   "outputs": [],
   "source": [
    "stimuli=[\"running_stop\", \"water\"];\n",
    "data=vc.getData(imExpGroup, stimuli, channel=\"Ch1\", imPreTime=3, imPostTime=3, \n",
    "                behaviorDataKeys=[\"water\", \"velocity\", \"licking\"]);                \n",
    "\n",
    "data=data.merge(expProps, on=\"expt\");\n",
    "data.drop([\"ROI\", \"expt\"], 1, inplace=True);\n",
    "data[\"conseqTThresh\"]=np.ceil(np.array(0.3/data[\"frameP\"]));\n",
    "\n",
    "data.rename(columns={\"condensedROI\": \"cROI\"}, inplace=True);\n",
    "\n",
    "data[\"preRest\"]=map(lambda v, t, tth: calcMaxConsecutive(v[t<-0.75]>1)<=tth, \n",
    "                    data[\"velocity\"], data[\"velocityTime\"], data[\"conseqTThresh\"]);\n",
    "data[\"postRest\"]=map(lambda v, t, tth: calcMaxConsecutive(v[t>=0.75]>1)<=tth, \n",
    "                     data[\"velocity\"], data[\"velocityTime\"], data[\"conseqTThresh\"]);\n",
    "data[\"preRun\"]=map(lambda v, t, tth: calcMaxConsecutive(v[t<-0.75]<1)<=tth, \n",
    "                   data[\"velocity\"], data[\"velocityTime\"], data[\"conseqTThresh\"]);\n",
    "data[\"postRun\"]=map(lambda v, t, tth: calcMaxConsecutive(v[t>=0.75]<1)<=tth, \n",
    "                    data[\"velocity\"], data[\"velocityTime\"], data[\"conseqTThresh\"]);\n",
    "data[\"rewarded\"]=map(lambda w: np.nansum(w)>0, data[\"water\"]);\n",
    "data[\"rewardedPre\"]=map(lambda w, t: np.nansum(w[t<0])>0, data[\"water\"], data[\"waterTime\"]);\n",
    "data[\"rewardedPost\"]=map(lambda w, t: np.nansum(w[t>=0])>0, data[\"water\"], data[\"waterTime\"]);\n",
    "\n",
    "stims=np.array(data[\"stimulus\"]);\n",
    "preRest=np.array(data[\"preRest\"]);\n",
    "postRest=np.array(data[\"postRest\"]);\n",
    "preRun=np.array(data[\"preRun\"]);\n",
    "postRun=np.array(data[\"postRun\"]);"
   ]
  },
  {
   "cell_type": "code",
   "execution_count": 9,
   "metadata": {},
   "outputs": [],
   "source": [
    "data[\"valid\"]=(((stims==\"running_start\") & preRest & postRun) |\n",
    "               ((stims==\"running_stop\") & preRun & postRest));"
   ]
  },
  {
   "cell_type": "code",
   "execution_count": 10,
   "metadata": {},
   "outputs": [],
   "source": [
    "data[\"licked\"]=map(lambda l, t: np.nansum(l[t>0])>0, data[\"licking\"], data[\"lickingTime\"]);\n",
    "data[\"actDiff\"]=map(lambda a, t: np.nanmean(a[t>=0])-np.nanmean(a[t<0]), \n",
    "                    data[\"activity\"], data[\"time\"]);\n",
    "\n",
    "dataGroups=data.groupby([\"stimulus\", \"rewarded\", \"licked\"]);\n",
    "rewardedData=dataGroups.get_group((\"water\", True, True)).append(\n",
    "    dataGroups.get_group((\"running_stop\", True, True)));\n",
    "rewardedData.loc[rewardedData[\"stimulus\"]==\"running_stop\", \"stimulus\"]=\"running_stop_rewarded\";\n",
    "with open(\"/data/gergely/workingData/raphe/reward/rewarded_traces_new.pkl\", \"wb\") as fh:\n",
    "    pickle.dump(rewardedData, fh);"
   ]
  },
  {
   "cell_type": "code",
   "execution_count": 11,
   "metadata": {},
   "outputs": [
    {
     "name": "stderr",
     "output_type": "stream",
     "text": [
      "/home/gergely/anaconda2/lib/python2.7/site-packages/ipykernel_launcher.py:2: PerformanceWarning: indexing past lexsort depth may impact performance.\n",
      "  \n",
      "/home/gergely/anaconda2/lib/python2.7/site-packages/ipykernel_launcher.py:3: PerformanceWarning: indexing past lexsort depth may impact performance.\n",
      "  This is separate from the ipykernel package so we can avoid doing imports until\n",
      "/home/gergely/anaconda2/lib/python2.7/site-packages/ipykernel_launcher.py:4: PerformanceWarning: indexing past lexsort depth may impact performance.\n",
      "  after removing the cwd from sys.path.\n"
     ]
    }
   ],
   "source": [
    "data.set_index([\"stimulus\", \"rewarded\", \"valid\"], inplace=True);\n",
    "runStopData=data.loc[(\"running_stop\", True, True)].reset_index();\n",
    "runStopData=runStopData.append(data.loc[(\"running_stop\", True, False)].reset_index());\n",
    "runStopData=runStopData.append(data.loc[\"running_stop\", False, True].reset_index());"
   ]
  },
  {
   "cell_type": "code",
   "execution_count": 12,
   "metadata": {},
   "outputs": [],
   "source": [
    "runStopRDiffROIs=runStopData.groupby([\"expType\", \"condition_day\", \"cROI\"])"
   ]
  },
  {
   "cell_type": "code",
   "execution_count": 13,
   "metadata": {},
   "outputs": [
    {
     "data": {
      "text/plain": [
       "16721"
      ]
     },
     "execution_count": 13,
     "metadata": {},
     "output_type": "execute_result"
    }
   ],
   "source": [
    "len(runStopData[\"expType\"])"
   ]
  },
  {
   "cell_type": "code",
   "execution_count": 15,
   "metadata": {},
   "outputs": [
    {
     "data": {
      "text/plain": [
       "1898"
      ]
     },
     "execution_count": 15,
     "metadata": {},
     "output_type": "execute_result"
    }
   ],
   "source": [
    "group = runStopRDiffROIs\n",
    "len(group)"
   ]
  },
  {
   "cell_type": "code",
   "execution_count": 12,
   "metadata": {
    "scrolled": true
   },
   "outputs": [
    {
     "data": {
      "text/plain": [
       "Index([u'stimulus', u'rewarded', u'valid', u'activity', u'stimStart', u'time',\n",
       "       u'cROI', u'water', u'lapNum', u'waterTime', u'velocity',\n",
       "       u'velocityTime', u'licking', u'lickingTime', u'expType', u'condition',\n",
       "       u'condition_day', u'condition_day_session', u'mouseID', u'frameP',\n",
       "       u'keep', u'conseqTThresh', u'preRest', u'postRest', u'preRun',\n",
       "       u'postRun', u'rewardedPre', u'rewardedPost', u'licked', u'actDiff'],\n",
       "      dtype='object')"
      ]
     },
     "execution_count": 12,
     "metadata": {},
     "output_type": "execute_result"
    }
   ],
   "source": [
    "runStopData.columns"
   ]
  },
  {
   "cell_type": "code",
   "execution_count": 13,
   "metadata": {
    "scrolled": true
   },
   "outputs": [],
   "source": [
    "runStopRDiffROIs=runStopData.groupby([\"expType\", \"condition_day\", \"cROI\"]).apply(\n",
    "    bootstrapTraceDiff, [\"rewarded\"], False, True, \"activity\", \"time\", \n",
    "    minSamples=5, iterations=3000, ciLevel=0.99);"
   ]
  },
  {
   "cell_type": "code",
   "execution_count": 19,
   "metadata": {},
   "outputs": [],
   "source": [
    "temp=runStopData[[\"stimulus\", \"rewarded\", \"stimStart\", \"mouseID\", \"expType\", \"valid\", \"condition_day_session\"]].drop_duplicates()"
   ]
  },
  {
   "cell_type": "code",
   "execution_count": 22,
   "metadata": {
    "collapsed": true
   },
   "outputs": [
    {
     "data": {
      "text/plain": [
       "expType         mouseID  condition_day_session  stimulus      valid  rewarded\n",
       "randomForaging  gtr5_01  A_0_0                  running_stop  False  True        1\n",
       "                                                              True   False       4\n",
       "                                                                     True        1\n",
       "                         A_1_0                  running_stop  False  True        2\n",
       "                                                              True   False       5\n",
       "                                                                     True        1\n",
       "                         A_2_0                  running_stop  True   False       7\n",
       "                                                                     True        1\n",
       "                         A_2_1                  running_stop  False  True        5\n",
       "                                                              True   False       1\n",
       "                         A_3_0                  running_stop  False  True        1\n",
       "                                                              True   False       7\n",
       "                                                                     True        1\n",
       "                         A_3_1                  running_stop  False  True        5\n",
       "                                                              True   False       4\n",
       "                                                                     True        3\n",
       "                         A_3_2                  running_stop  False  True        6\n",
       "                                                              True   False       5\n",
       "                                                                     True        2\n",
       "dtype: int64"
      ]
     },
     "execution_count": 22,
     "metadata": {},
     "output_type": "execute_result"
    }
   ],
   "source": [
    "temp.groupby([\"expType\", \"mouseID\", \"condition_day_session\", \"stimulus\", \"valid\", \"rewarded\"]).size()"
   ]
  },
  {
   "cell_type": "code",
   "execution_count": 23,
   "metadata": {
    "collapsed": true
   },
   "outputs": [
    {
     "data": {
      "text/plain": [
       "expType         mouseID  condition_day_session  stimulus      rewarded\n",
       "randomForaging  gtr5_01  A_0_0                  running_stop  False       4\n",
       "                                                              True        2\n",
       "                         A_1_0                  running_stop  False       5\n",
       "                                                              True        3\n",
       "                         A_2_0                  running_stop  False       7\n",
       "                                                              True        1\n",
       "                         A_2_1                  running_stop  False       1\n",
       "                                                              True        5\n",
       "                         A_3_0                  running_stop  False       7\n",
       "                                                              True        2\n",
       "                         A_3_1                  running_stop  False       4\n",
       "                                                              True        8\n",
       "                         A_3_2                  running_stop  False       5\n",
       "                                                              True        8\n",
       "dtype: int64"
      ]
     },
     "execution_count": 23,
     "metadata": {},
     "output_type": "execute_result"
    }
   ],
   "source": [
    "temp.groupby([\"expType\", \"mouseID\", \"condition_day_session\", \"stimulus\", \"rewarded\"]).size()"
   ]
  },
  {
   "cell_type": "code",
   "execution_count": 24,
   "metadata": {
    "collapsed": true
   },
   "outputs": [
    {
     "data": {
      "text/html": [
       "<div>\n",
       "<style scoped>\n",
       "    .dataframe tbody tr th:only-of-type {\n",
       "        vertical-align: middle;\n",
       "    }\n",
       "\n",
       "    .dataframe tbody tr th {\n",
       "        vertical-align: top;\n",
       "    }\n",
       "\n",
       "    .dataframe thead th {\n",
       "        text-align: right;\n",
       "    }\n",
       "</style>\n",
       "<table border=\"1\" class=\"dataframe\">\n",
       "  <thead>\n",
       "    <tr style=\"text-align: right;\">\n",
       "      <th></th>\n",
       "      <th>expType</th>\n",
       "      <th>condition_day</th>\n",
       "      <th>cROI</th>\n",
       "      <th>rewarded</th>\n",
       "      <th>level_4</th>\n",
       "      <th>diffCIH</th>\n",
       "      <th>diffCIL</th>\n",
       "      <th>diffMed</th>\n",
       "      <th>diffSig</th>\n",
       "      <th>numTraces</th>\n",
       "      <th>postCIH</th>\n",
       "      <th>postCIL</th>\n",
       "      <th>postMed</th>\n",
       "      <th>preCIH</th>\n",
       "      <th>preCIL</th>\n",
       "      <th>preMed</th>\n",
       "      <th>act</th>\n",
       "      <th>time</th>\n",
       "    </tr>\n",
       "  </thead>\n",
       "  <tbody>\n",
       "    <tr>\n",
       "      <th>0</th>\n",
       "      <td>randomForaging</td>\n",
       "      <td>A_1</td>\n",
       "      <td>(gtr5_01, , 1533238970022)</td>\n",
       "      <td>False</td>\n",
       "      <td>0</td>\n",
       "      <td>0.037009</td>\n",
       "      <td>-0.047108</td>\n",
       "      <td>-0.006255</td>\n",
       "      <td>0.0</td>\n",
       "      <td>5.0</td>\n",
       "      <td>0.142726</td>\n",
       "      <td>-0.044452</td>\n",
       "      <td>0.038584</td>\n",
       "      <td>0.162394</td>\n",
       "      <td>-0.071127</td>\n",
       "      <td>0.044428</td>\n",
       "      <td>[0.0686456637033, 0.0429531522244, 0.006013281...</td>\n",
       "      <td>[-2.83441, -2.66768, -2.50095, -2.33422, -2.16...</td>\n",
       "    </tr>\n",
       "    <tr>\n",
       "      <th>1</th>\n",
       "      <td>randomForaging</td>\n",
       "      <td>A_1</td>\n",
       "      <td>(gtr5_01, , 1533239014386)</td>\n",
       "      <td>False</td>\n",
       "      <td>0</td>\n",
       "      <td>-0.065179</td>\n",
       "      <td>-0.292066</td>\n",
       "      <td>-0.152782</td>\n",
       "      <td>-1.0</td>\n",
       "      <td>5.0</td>\n",
       "      <td>-0.044083</td>\n",
       "      <td>-0.199846</td>\n",
       "      <td>-0.117630</td>\n",
       "      <td>0.091684</td>\n",
       "      <td>-0.026606</td>\n",
       "      <td>0.035612</td>\n",
       "      <td>[-0.0370432945658, -0.00518844859535, 0.045031...</td>\n",
       "      <td>[-2.83441, -2.66768, -2.50095, -2.33422, -2.16...</td>\n",
       "    </tr>\n",
       "    <tr>\n",
       "      <th>2</th>\n",
       "      <td>randomForaging</td>\n",
       "      <td>A_1</td>\n",
       "      <td>(gtr5_01, , 1533239157834)</td>\n",
       "      <td>False</td>\n",
       "      <td>0</td>\n",
       "      <td>0.046194</td>\n",
       "      <td>-0.115919</td>\n",
       "      <td>-0.037133</td>\n",
       "      <td>0.0</td>\n",
       "      <td>5.0</td>\n",
       "      <td>0.036924</td>\n",
       "      <td>-0.102518</td>\n",
       "      <td>-0.033551</td>\n",
       "      <td>0.047001</td>\n",
       "      <td>-0.052405</td>\n",
       "      <td>0.003581</td>\n",
       "      <td>[0.00482485352016, -0.00225862192442, 0.015333...</td>\n",
       "      <td>[-2.83441, -2.66768, -2.50095, -2.33422, -2.16...</td>\n",
       "    </tr>\n",
       "    <tr>\n",
       "      <th>3</th>\n",
       "      <td>randomForaging</td>\n",
       "      <td>A_1</td>\n",
       "      <td>(gtr5_01, , 1533239257298)</td>\n",
       "      <td>False</td>\n",
       "      <td>0</td>\n",
       "      <td>0.036696</td>\n",
       "      <td>-0.136239</td>\n",
       "      <td>-0.069292</td>\n",
       "      <td>0.0</td>\n",
       "      <td>5.0</td>\n",
       "      <td>0.037930</td>\n",
       "      <td>-0.079483</td>\n",
       "      <td>-0.009452</td>\n",
       "      <td>0.114596</td>\n",
       "      <td>-0.028619</td>\n",
       "      <td>0.056903</td>\n",
       "      <td>[-0.029991666698, -0.00228174662395, 0.0184941...</td>\n",
       "      <td>[-2.83441, -2.66768, -2.50095, -2.33422, -2.16...</td>\n",
       "    </tr>\n",
       "    <tr>\n",
       "      <th>4</th>\n",
       "      <td>randomForaging</td>\n",
       "      <td>A_1</td>\n",
       "      <td>(gtr5_01, , 1533239272640)</td>\n",
       "      <td>False</td>\n",
       "      <td>0</td>\n",
       "      <td>0.112448</td>\n",
       "      <td>-0.126598</td>\n",
       "      <td>0.002144</td>\n",
       "      <td>0.0</td>\n",
       "      <td>5.0</td>\n",
       "      <td>0.019105</td>\n",
       "      <td>-0.043625</td>\n",
       "      <td>-0.017559</td>\n",
       "      <td>0.105231</td>\n",
       "      <td>-0.130272</td>\n",
       "      <td>-0.019703</td>\n",
       "      <td>[0.0541157622252, 0.00652556922304, 0.01178112...</td>\n",
       "      <td>[-2.83441, -2.66768, -2.50095, -2.33422, -2.16...</td>\n",
       "    </tr>\n",
       "  </tbody>\n",
       "</table>\n",
       "</div>"
      ],
      "text/plain": [
       "          expType condition_day                        cROI  rewarded  \\\n",
       "0  randomForaging           A_1  (gtr5_01, , 1533238970022)     False   \n",
       "1  randomForaging           A_1  (gtr5_01, , 1533239014386)     False   \n",
       "2  randomForaging           A_1  (gtr5_01, , 1533239157834)     False   \n",
       "3  randomForaging           A_1  (gtr5_01, , 1533239257298)     False   \n",
       "4  randomForaging           A_1  (gtr5_01, , 1533239272640)     False   \n",
       "\n",
       "   level_4   diffCIH   diffCIL   diffMed  diffSig  numTraces   postCIH  \\\n",
       "0        0  0.037009 -0.047108 -0.006255      0.0        5.0  0.142726   \n",
       "1        0 -0.065179 -0.292066 -0.152782     -1.0        5.0 -0.044083   \n",
       "2        0  0.046194 -0.115919 -0.037133      0.0        5.0  0.036924   \n",
       "3        0  0.036696 -0.136239 -0.069292      0.0        5.0  0.037930   \n",
       "4        0  0.112448 -0.126598  0.002144      0.0        5.0  0.019105   \n",
       "\n",
       "    postCIL   postMed    preCIH    preCIL    preMed  \\\n",
       "0 -0.044452  0.038584  0.162394 -0.071127  0.044428   \n",
       "1 -0.199846 -0.117630  0.091684 -0.026606  0.035612   \n",
       "2 -0.102518 -0.033551  0.047001 -0.052405  0.003581   \n",
       "3 -0.079483 -0.009452  0.114596 -0.028619  0.056903   \n",
       "4 -0.043625 -0.017559  0.105231 -0.130272 -0.019703   \n",
       "\n",
       "                                                 act  \\\n",
       "0  [0.0686456637033, 0.0429531522244, 0.006013281...   \n",
       "1  [-0.0370432945658, -0.00518844859535, 0.045031...   \n",
       "2  [0.00482485352016, -0.00225862192442, 0.015333...   \n",
       "3  [-0.029991666698, -0.00228174662395, 0.0184941...   \n",
       "4  [0.0541157622252, 0.00652556922304, 0.01178112...   \n",
       "\n",
       "                                                time  \n",
       "0  [-2.83441, -2.66768, -2.50095, -2.33422, -2.16...  \n",
       "1  [-2.83441, -2.66768, -2.50095, -2.33422, -2.16...  \n",
       "2  [-2.83441, -2.66768, -2.50095, -2.33422, -2.16...  \n",
       "3  [-2.83441, -2.66768, -2.50095, -2.33422, -2.16...  \n",
       "4  [-2.83441, -2.66768, -2.50095, -2.33422, -2.16...  "
      ]
     },
     "execution_count": 24,
     "metadata": {},
     "output_type": "execute_result"
    }
   ],
   "source": [
    "runStopSigROIs.head()"
   ]
  },
  {
   "cell_type": "code",
   "execution_count": 88,
   "metadata": {},
   "outputs": [],
   "source": [
    "temp=runStopData[[\"stimulus\", \"rewarded\", \"stimStart\", \"mouseID\", \"expType\", \"condition_day_session\"]].drop_duplicates()"
   ]
  },
  {
   "cell_type": "code",
   "execution_count": 90,
   "metadata": {},
   "outputs": [
    {
     "data": {
      "text/plain": [
       "expType         mouseID  condition_day_session  stimulus      rewarded\n",
       "randomForaging  gtr5_01  A_0_0                  running_stop  False       58\n",
       "                                                              True        97\n",
       "dtype: int64"
      ]
     },
     "execution_count": 90,
     "metadata": {},
     "output_type": "execute_result"
    }
   ],
   "source": [
    "temp.groupby([\"expType\", \"mouseID\", \"condition_day_session\", \"stimulus\", \"rewarded\"]).size()"
   ]
  },
  {
   "cell_type": "code",
   "execution_count": 91,
   "metadata": {},
   "outputs": [],
   "source": [
    "temp=runStopData[[\"stimulus\", \"rewarded\", \"stimStart\", \"mouseID\", \"expType\", \"valid\", \"condition_day_session\"]].drop_duplicates()"
   ]
  },
  {
   "cell_type": "code",
   "execution_count": 92,
   "metadata": {
    "collapsed": true
   },
   "outputs": [
    {
     "data": {
      "text/plain": [
       "expType         mouseID  condition_day_session  stimulus      valid  rewarded\n",
       "randomForaging  gtr5_01  A_0_0                  running_stop  False  True        70\n",
       "                                                              True   False       58\n",
       "                                                                     True        28\n",
       "dtype: int64"
      ]
     },
     "execution_count": 92,
     "metadata": {},
     "output_type": "execute_result"
    }
   ],
   "source": [
    "temp.groupby([\"expType\", \"mouseID\", \"condition_day_session\", \"stimulus\", \"valid\", \"rewarded\"]).size()"
   ]
  },
  {
   "cell_type": "markdown",
   "metadata": {},
   "source": [
    "there are enough events"
   ]
  },
  {
   "cell_type": "code",
   "execution_count": 28,
   "metadata": {},
   "outputs": [],
   "source": [
    "runStopRDiffROIs.reset_index(inplace=True);\n",
    "runStopRDiffROIs.rename(columns={\"diffTraceMed\": \"actResidual\", \n",
    "                                 \"ppDiffTraceCIH\": \"residualDiffCIH\",\n",
    "                                 \"ppDiffTraceCIL\": \"residualDiffCIL\",\n",
    "                                 \"ppDiffTraceMed\": \"residualDiffMed\",\n",
    "                                 \"ppDiffTraceSig\": \"residualDiffSig\"},\n",
    "                        inplace=True);"
   ]
  },
  {
   "cell_type": "code",
   "execution_count": 29,
   "metadata": {},
   "outputs": [],
   "source": [
    "runStopSigROIs=runStopData.groupby([\"expType\", \"condition_day\", \"cROI\", \"rewarded\"]).apply(\n",
    "    vc.calcResponseMetrics, col=\"activity\", xCol=\"time\", iterations=3000, ciLevel=0.99, \n",
    "    minDataSize=5, returnDF=True);\n",
    "runStopSigROIs.reset_index(inplace=True);\n",
    "runStopSigROIs.rename(columns={\"diffSigResShuffle\": \"diffSig\", \n",
    "                               \"traceMed\": \"act\", \n",
    "                               \"traceXVal\": \"time\"},\n",
    "                      inplace=True);"
   ]
  },
  {
   "cell_type": "code",
   "execution_count": 31,
   "metadata": {},
   "outputs": [],
   "source": [
    "# not enough events. this is the remedy. the cells below should run\n",
    "runStopSigROIs.set_index([\"rewarded\"], inplace=True)"
   ]
  },
  {
   "cell_type": "code",
   "execution_count": 32,
   "metadata": {},
   "outputs": [
    {
     "name": "stderr",
     "output_type": "stream",
     "text": [
      "/home/gergely/anaconda2/lib/python2.7/site-packages/numpy/core/_methods.py:82: RuntimeWarning: Degrees of freedom <= 0 for slice\n",
      "  warnings.warn(\"Degrees of freedom <= 0 for slice\", RuntimeWarning)\n"
     ]
    }
   ],
   "source": [
    "plotROIs=runStopSigROIs.loc[False][[\"expType\", \"condition_day\", \"cROI\", \"diffSig\", \"act\", \"time\"]].merge(\n",
    "    runStopSigROIs.loc[True][[\"expType\", \"condition_day\", \"cROI\", \"diffSig\", \"act\", \"time\"]], \n",
    "    on=[\"expType\", \"condition_day\", \"cROI\"], suffixes=(\"URD\", \"RD\"));\n",
    "\n",
    "plotROIs=plotROIs.merge(runStopRDiffROIs[[\"expType\", \"condition_day\", \"cROI\", \n",
    "                                          \"actResidual\", \"time\", \"residualDiffSig\"]],\n",
    "                        on=[\"expType\", \"condition_day\", \"cROI\"]);\n",
    "                        \n",
    "residualPlotTraces=plotROIs.groupby([\"expType\", \"condition_day\", \n",
    "                                     \"residualDiffSig\", \"diffSigURD\", \"diffSigRD\"]).apply(\n",
    "                                         vc.aggregratePSTH, \"actResidual\", \"time\", \n",
    "                                         measureSuffix=\"\", varMethod=stats.sem, varSuffix=\"SEM\");\n",
    "residualPlotTraces.rename(columns={\"actResidual\": \"act\",\n",
    "                                   \"actResidualSEM\": \"actSEM\"}, inplace=True);\n",
    "unRDPlotTraces=plotROIs.groupby([\"expType\", \"condition_day\", \n",
    "                                 \"residualDiffSig\", \"diffSigURD\", \"diffSigRD\"]).apply(\n",
    "                                     vc.aggregratePSTH, \"actURD\", \"timeURD\", \n",
    "                                     measureSuffix=\"\", varMethod=stats.sem, varSuffix=\"SEM\");\n",
    "unRDPlotTraces.rename(columns={\"actURD\": \"act\", \"actURDSEM\": \"actSEM\", \"timeURD\": \"time\"},\n",
    "                      inplace=True);\n",
    "rwdPlotTraces=plotROIs.groupby([\"expType\", \"condition_day\", \n",
    "                                 \"residualDiffSig\", \"diffSigURD\", \"diffSigRD\"]).apply(\n",
    "                                     vc.aggregratePSTH, \"actRD\", \"timeRD\", \n",
    "                                     measureSuffix=\"\", varMethod=stats.sem, varSuffix=\"SEM\");\n",
    "rwdPlotTraces.rename(columns={\"actRD\": \"act\", \"actRDSEM\": \"actSEM\", \"timeRD\": \"time\"},\n",
    "                              inplace=True); "
   ]
  },
  {
   "cell_type": "code",
   "execution_count": 33,
   "metadata": {},
   "outputs": [],
   "source": [
    "plotTraces=dict();\n",
    "plotTraces[\"residual\"]=residualPlotTraces;\n",
    "plotTraces[\"unRD\"]=unRDPlotTraces;\n",
    "plotTraces[\"rwd\"]=rwdPlotTraces;\n",
    "plotColors=dict();\n",
    "plotColors[\"residual\"]=\"red\";\n",
    "plotColors[\"unRD\"]=\"black\";\n",
    "plotColors[\"rwd\"]=\"blue\";\n",
    "traceKeys=[\"residual\", \"unRD\", \"rwd\"];"
   ]
  },
  {
   "cell_type": "code",
   "execution_count": 34,
   "metadata": {},
   "outputs": [],
   "source": [
    "expTypeList=residualPlotTraces.index.get_level_values(0).unique();\n",
    "cdList=residualPlotTraces.index.get_level_values(1).unique();\n",
    "sigList=[-1, 0, 1];\n",
    "numSig=len(sigList);\n",
    "sigInd=np.arange(numSig);\n",
    "\n",
    "plotGridMain=gs.GridSpec(numSig, 1);"
   ]
  },
  {
   "cell_type": "code",
   "execution_count": 35,
   "metadata": {},
   "outputs": [],
   "source": [
    "pages=pdf.PdfPages(\"/data/gergely/workingData/raphe/run_stop_rewarded_residual.pdf\");\n",
    "for expType in expTypeList:\n",
    "    for cd in cdList:\n",
    "        fig=pp.figure(figsize=(numSig*2, numSig*numSig*2));\n",
    "        fig.suptitle(str((expType, cd)));\n",
    "        for resSig, i in zip(sigList, sigInd):\n",
    "            plotGrid=gs.GridSpecFromSubplotSpec(numSig, numSig, \n",
    "                                                subplot_spec=plotGridMain[i, 0]);\n",
    "            for rwdSig, j in zip(sigList, sigInd):\n",
    "                for unRDSig, k in zip(sigList, sigInd):\n",
    "                    ax=fig.add_subplot(plotGrid[j, k]);\n",
    "                    numCells=0;\n",
    "                    for traceKey in traceKeys:\n",
    "                        try:\n",
    "                            trace=plotTraces[traceKey].loc[(expType, cd,\n",
    "                                                          resSig, unRDSig, rwdSig)].iloc[0];\n",
    "                            numCells=trace[\"numSamples\"];\n",
    "                        except KeyError:\n",
    "                            continue;\n",
    "                        \n",
    "                        ax.plot(trace[\"time\"], trace[\"act\"], lw=1, alpha=0.6, \n",
    "                                color=plotColors[traceKey]);\n",
    "                        ax.fill_between(trace[\"time\"], trace[\"act\"]+trace[\"actSEM\"],\n",
    "                                        trace[\"act\"]-trace[\"actSEM\"], lw=0,\n",
    "                                        alpha=0.4, color=plotColors[traceKey]);\n",
    "                    \n",
    "                    ax.axvline(0, lw=0.5, color=\"k\", alpha=0.2, ls=(0, (5, 5)));\n",
    "                    ax.set_ylim([-0.5, 1.5]);\n",
    "                    ax.set_yticks([-0.5, 0, 0.5, 1, 1.5]);\n",
    "                    ax.set_xticks([]);\n",
    "                    ax.set_title(str((\"rwd:\"+str(rwdSig), \n",
    "                                      \"unrwd:\"+str(unRDSig), \n",
    "                                      \"n=\"+str(numCells))));\n",
    "                    plotTools.formatAxes(ax, \"\", \"\");\n",
    "        \n",
    "        pages.savefig(fig);\n",
    "        pp.close(fig);\n",
    "pages.close();"
   ]
  },
  {
   "cell_type": "code",
   "execution_count": 36,
   "metadata": {},
   "outputs": [],
   "source": [
    "sigColors=[\"lightgrey\", \"r\", \"c\"];\n",
    "sigNums=plotROIs.groupby([\"expType\", \"residualDiffSig\", \"diffSigRD\", \"diffSigURD\"]).size();"
   ]
  },
  {
   "cell_type": "code",
   "execution_count": 37,
   "metadata": {},
   "outputs": [
    {
     "name": "stdout",
     "output_type": "stream",
     "text": [
      "('randomForaging', -1, -1, -1)\n",
      "('randomForaging', -1, -1, 0)\n",
      "('randomForaging', -1, -1, 1)\n",
      "('randomForaging', -1, 0, -1)\n",
      "('randomForaging', -1, 0, 0)\n",
      "('randomForaging', -1, 0, 1)\n",
      "('randomForaging', -1, 1, -1)\n",
      "('randomForaging', -1, 1, 0)\n",
      "('randomForaging', -1, 1, 1)\n",
      "('randomForaging', 0, -1, -1)\n",
      "('randomForaging', 0, -1, 0)\n",
      "('randomForaging', 0, -1, 1)\n",
      "('randomForaging', 0, 0, -1)\n",
      "('randomForaging', 0, 0, 0)\n",
      "('randomForaging', 0, 0, 1)\n",
      "('randomForaging', 0, 1, -1)\n",
      "('randomForaging', 0, 1, 0)\n",
      "('randomForaging', 0, 1, 1)\n",
      "('randomForaging', 1, -1, -1)\n",
      "('randomForaging', 1, -1, 0)\n",
      "('randomForaging', 1, -1, 1)\n",
      "('randomForaging', 1, 0, -1)\n",
      "('randomForaging', 1, 0, 0)\n",
      "('randomForaging', 1, 0, 1)\n",
      "('randomForaging', 1, 1, -1)\n",
      "('randomForaging', 1, 1, 0)\n",
      "('randomForaging', 1, 1, 1)\n"
     ]
    }
   ],
   "source": [
    "pages=pdf.PdfPages(\"/data/gergely/workingData/raphe/run_stop_rewarded_residual_fractions.pdf\");\n",
    "for expType in expTypeList:\n",
    "    fig=pp.figure(figsize=(3, numSig*3));\n",
    "    fig.suptitle(expType);\n",
    "    for resSig, i in zip(sigList, sigInd):\n",
    "        ax=fig.add_subplot(plotGridMain[i, 0]);\n",
    "        \n",
    "        for rwdSig, j in zip(sigList, sigInd):\n",
    "            cellN=0;\n",
    "            for unRDSig, k in zip(sigList, sigInd):\n",
    "                try:\n",
    "                    print((expType, resSig, rwdSig, unRDSig))\n",
    "                    sigN=sigNums.loc[(expType, resSig, rwdSig, unRDSig)];\n",
    "                except:\n",
    "                    continue;\n",
    "                \n",
    "                ax.bar(j, sigN, width=0.6, bottom=cellN, \n",
    "                       color=sigColors[unRDSig], lw=0, align=\"center\");\n",
    "                cellN=cellN+sigN;\n",
    "        \n",
    "        ax.set_title(\"residual sig: \"+str(resSig));\n",
    "        ax.set_xlim([-0.5, numSig-0.5]);\n",
    "        ax.set_xticks(sigInd);\n",
    "        ax.set_xticklabels(map(lambda n: str(n), sigList));\n",
    "        plotTools.formatAxes(ax, \"rewarded RS sig\", \"num cells-days\");\n",
    "        \n",
    "    pages.savefig(fig);\n",
    "    pp.close(fig);\n",
    "pages.close();"
   ]
  },
  {
   "cell_type": "code",
   "execution_count": null,
   "metadata": {},
   "outputs": [],
   "source": []
  }
 ],
 "metadata": {
  "kernelspec": {
   "display_name": "Python 2",
   "language": "python",
   "name": "python2"
  },
  "language_info": {
   "codemirror_mode": {
    "name": "ipython",
    "version": 2
   },
   "file_extension": ".py",
   "mimetype": "text/x-python",
   "name": "python",
   "nbconvert_exporter": "python",
   "pygments_lexer": "ipython2",
   "version": "2.7.14"
  }
 },
 "nbformat": 4,
 "nbformat_minor": 2
}
