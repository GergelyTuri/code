{
 "cells": [
  {
   "cell_type": "markdown",
   "metadata": {},
   "source": [
    "### This is deprecated, use `tSeriesDirChecker.ipynb`"
   ]
  },
  {
   "cell_type": "markdown",
   "metadata": {},
   "source": [
    "also see `tSeriesDirChecker.ipynb`"
   ]
  },
  {
   "cell_type": "code",
   "execution_count": 1,
   "metadata": {},
   "outputs": [],
   "source": [
    "from lab.classes import database"
   ]
  },
  {
   "cell_type": "code",
   "execution_count": 2,
   "metadata": {
    "scrolled": true
   },
   "outputs": [],
   "source": [
    "alltrials = database.fetchMouseTrials('gt2_40')"
   ]
  },
  {
   "cell_type": "markdown",
   "metadata": {},
   "source": [
    "### Paired Trials"
   ]
  },
  {
   "cell_type": "code",
   "execution_count": 3,
   "metadata": {},
   "outputs": [
    {
     "name": "stdout",
     "output_type": "stream",
     "text": [
      "There are 0 paired trials\n"
     ]
    }
   ],
   "source": [
    "pairedTrials=[]\n",
    "for item in alltrials:\n",
    "    if type(item['tSeries_path']) == str:\n",
    "        pairedTrials.append([item['behavior_file'],item['tSeries_path']])\n",
    "print('There are %d paired trials' % len(pairedTrials))"
   ]
  },
  {
   "cell_type": "code",
   "execution_count": 13,
   "metadata": {},
   "outputs": [
    {
     "data": {
      "text/plain": [
       "[['/data/gergely/BehaviorData/gtr6_a3/gtr6_a3_20180807165918.tdml',\n",
       "  '/data/gergely/invivo_DATA/raphe/gtr6_a3/8_7/TSeries-08072018-RF_noCue-001'],\n",
       " ['/data/gergely/BehaviorData/gtr6_a3/gtr6_a3_20180807183512.tdml',\n",
       "  '/data/gergely/invivo_DATA/raphe/gtr6_a3/8_7/TSeries-08072018-RF_Cue-002'],\n",
       " ['/data/gergely/BehaviorData/gtr6_a3/gtr6_a3_20180830134643.tdml',\n",
       "  '/data/gergely/invivo_DATA/raphe/gtr6_a3/8_30_HR3/TSeries-08302018-HRd2s0-001'],\n",
       " ['/data/gergely/BehaviorData/gtr6_a3/gtr6_a3_20180830152355.tdml',\n",
       "  '/data/gergely/invivo_DATA/raphe/gtr6_a3/8_30_HR3/TSeries-08302018-HRd2s1-002'],\n",
       " ['/data/gergely/BehaviorData/gtr6_a3/gtr6_a3_20180830165808.tdml',\n",
       "  '/data/gergely/invivo_DATA/raphe/gtr6_a3/8_30_HR3/TSeries-08302018-HRd2s2-003'],\n",
       " ['/data/gergely/BehaviorData/gtr6_a3/gtr6_a3_20180831113409.tdml',\n",
       "  '/data/gergely/invivo_DATA/raphe/gtr6_a3/8_31_HR4/TSeries-08312018-HRd3s0-001'],\n",
       " ['/data/gergely/BehaviorData/gtr6_a3/gtr6_a3_20180831131205.tdml',\n",
       "  '/data/gergely/invivo_DATA/raphe/gtr6_a3/8_31_HR4/TSeries-08312018-HRd3s1-002'],\n",
       " ['/data/gergely/BehaviorData/gtr6_a3/gtr6_a3_20180831155014.tdml',\n",
       "  '/data/gergely/invivo_DATA/raphe/gtr6_a3/8_31_HR4/TSeries-08312018-HRd3s2-003']]"
      ]
     },
     "execution_count": 13,
     "metadata": {},
     "output_type": "execute_result"
    }
   ],
   "source": [
    "pairedTrials"
   ]
  },
  {
   "cell_type": "markdown",
   "metadata": {},
   "source": [
    "### All trials"
   ]
  },
  {
   "cell_type": "code",
   "execution_count": 4,
   "metadata": {},
   "outputs": [
    {
     "name": "stdout",
     "output_type": "stream",
     "text": [
      "There are 0 trials for this mouse\n"
     ]
    }
   ],
   "source": [
    "print('There are %d trials for this mouse' % len(alltrials))"
   ]
  },
  {
   "cell_type": "code",
   "execution_count": 5,
   "metadata": {},
   "outputs": [
    {
     "data": {
      "text/plain": [
       "()"
      ]
     },
     "execution_count": 5,
     "metadata": {},
     "output_type": "execute_result"
    }
   ],
   "source": [
    "alltrials"
   ]
  },
  {
   "cell_type": "markdown",
   "metadata": {},
   "source": [
    "### Pairing TSeries with behavior manually"
   ]
  },
  {
   "cell_type": "markdown",
   "metadata": {},
   "source": [
    "#### Re-pickling"
   ]
  },
  {
   "cell_type": "code",
   "execution_count": 4,
   "metadata": {},
   "outputs": [
    {
     "name": "stdout",
     "output_type": "stream",
     "text": [
      "/home/gergely/code/analysis/automaticScripts\n"
     ]
    }
   ],
   "source": [
    "cd ~/code/analysis/automaticScripts/"
   ]
  },
  {
   "cell_type": "code",
   "execution_count": 5,
   "metadata": {},
   "outputs": [
    {
     "name": "stdout",
     "output_type": "stream",
     "text": [
      "usage: processJsonBehaviorData.py [-h] [-o] [-d DIRECTORY] [-f FILE] [-s] [-x]\n",
      "                                  [-g GROUP] [-t TRIAL_ID]\n",
      "\n",
      "optional arguments:\n",
      "  -h, --help            show this help message and exit\n",
      "  -o, --overwrite       overwirte existing .pkl file\n",
      "  -d DIRECTORY, --directory DIRECTORY\n",
      "                        process all .vr or .tdml files beneath this directory\n",
      "  -f FILE, --file FILE  process specifically this file\n",
      "  -s, --load_sql        DEPRECIATED\n",
      "  -x, --no_sql          do not load this experiment into sql database\n",
      "  -g GROUP, --group GROUP\n",
      "                        group this experiment belongs to\n",
      "  -t TRIAL_ID, --trial_id TRIAL_ID\n",
      "                        overwrite the data for a specified trial_id, must be\n",
      "                        used when processing a single file. reloads the\n",
      "                        settings into sql.\n"
     ]
    }
   ],
   "source": [
    "run processJsonBehaviorData.py -f "
   ]
  },
  {
   "cell_type": "code",
   "execution_count": null,
   "metadata": {},
   "outputs": [],
   "source": [
    "database.pairImagingData('/path/to/TSeries/dir',trial_id=<int>)"
   ]
  }
 ],
 "metadata": {
  "kernelspec": {
   "display_name": "Python 2",
   "language": "python",
   "name": "python2"
  },
  "language_info": {
   "codemirror_mode": {
    "name": "ipython",
    "version": 2
   },
   "file_extension": ".py",
   "mimetype": "text/x-python",
   "name": "python",
   "nbconvert_exporter": "python",
   "pygments_lexer": "ipython2",
   "version": "2.7.15"
  }
 },
 "nbformat": 4,
 "nbformat_minor": 2
}
